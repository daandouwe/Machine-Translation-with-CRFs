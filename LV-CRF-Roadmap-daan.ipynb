{
 "cells": [
  {
   "cell_type": "code",
<<<<<<< HEAD:LV-CRF-Roadmap-daan.ipynb
   "execution_count": 30,
   "metadata": {
    "collapsed": false
   },
   "outputs": [
    {
     "name": "stdout",
     "output_type": "stream",
     "text": [
      "The autoreload extension is already loaded. To reload it, use:\n",
      "  %reload_ext autoreload\n"
     ]
    }
   ],
=======
   "execution_count": null,
   "metadata": {},
   "outputs": [],
>>>>>>> origin/master:LV-CRF-Roadmap.ipynb
   "source": [
    "%load_ext autoreload\n",
    "%autoreload 2"
   ]
  },
  {
   "cell_type": "code",
<<<<<<< HEAD:LV-CRF-Roadmap-daan.ipynb
   "execution_count": 57,
   "metadata": {
    "collapsed": false
   },
=======
   "execution_count": 160,
   "metadata": {},
>>>>>>> origin/master:LV-CRF-Roadmap.ipynb
   "outputs": [],
   "source": [
    "import libitg\n",
    "from libitg import Symbol, Terminal, Nonterminal, Span\n",
    "from libitg import Rule, CFG\n",
    "from libitg import FSA\n",
    "from collections import defaultdict, deque\n",
    "import numpy as np\n",
    "import progressbar\n",
    "from itertools import chain"
   ]
  },
  {
   "cell_type": "markdown",
   "metadata": {
    "collapsed": true
   },
   "source": [
    "In this notebook we will discuss what you need to know and do for project 2 :)\n"
   ]
  },
  {
   "cell_type": "markdown",
   "metadata": {},
   "source": [
    "# Lexicon\n",
    "\n",
    "I am going to use a very simple lexicon as running example, you would instead use the translation pairs we provided, but note that\n",
    "\n",
    "* we provided you with all translation pairs under IBM1 in both directions, thus there are many pairs in there\n",
    "* you should retain only the top scoring translation pairs (this will make your lexicon smaller and your forests more manageable)\n",
    "* we suggest 5 translations per source word\n",
    "* you need to explicitly encode insertion and deletion in your lexicon, you can bootstrap that from alignments to NULL\n"
   ]
  },
  {
   "cell_type": "code",
<<<<<<< HEAD:LV-CRF-Roadmap-daan.ipynb
   "execution_count": 58,
=======
   "execution_count": 161,
>>>>>>> origin/master:LV-CRF-Roadmap.ipynb
   "metadata": {
    "collapsed": true
   },
   "outputs": [],
   "source": [
    "lexicon = defaultdict(set)\n",
    "lexicon['le'].update(['the', '-EPS-'])  # we will assume that `le` can be deleted\n",
    "lexicon['-EPS-'].update(['a', 'the'])  # we will assume that `the` and `a` can be inserted\n",
    "lexicon['e'].add('and')\n",
    "lexicon['chien'].add('dog')\n",
    "lexicon['chat'].add('cat')\n",
    "lexicon['noir'].update(['black', 'dark'])  \n",
    "lexicon['blanc'].add('white')\n",
    "lexicon['rouge'].add('red')\n",
    "lexicon['petit'].update(['small', 'little'])\n",
    "lexicon['petite'].update(['small', 'little'])"
   ]
  },
  {
   "cell_type": "markdown",
   "metadata": {},
   "source": [
    "# Play with the parser\n",
    "\n",
    "You should play with the basic data structures and algorithms we provided you with, namely\n",
    "\n",
    "* Symbol: Terminal, Nonterminal, Span\n",
    "* Rule\n",
    "* CFG\n",
    "* FSA\n",
    "* ITG-related functions\n",
    "* earley parser\n",
    "\n",
    "you need to know what they do and when to use them to obtain something you need.\n"
   ]
  },
  {
   "cell_type": "markdown",
   "metadata": {},
   "source": [
    "# ITG\n",
    "\n",
    "We deal with ITGs by\n",
    "\n",
    "* constructing a source-language CFG\n",
    "* parsing a source string\n",
    "* projecting the resulting forest onto the target-language vocabulary through the rules of an ITG and the lexicon\n",
    "\n",
    "\n",
    "**Note on performance:** we could in principle instantiate a different source-side CFG for each source sentence by constraining the lexicon to source words that occur in the sentence we are translating.\n",
    "That is to say that if our sentence does not contain a word (e.g. *petite*) there is no point in including that word in the CFG."
   ]
  },
  {
   "cell_type": "code",
<<<<<<< HEAD:LV-CRF-Roadmap-daan.ipynb
   "execution_count": 59,
=======
   "execution_count": 162,
>>>>>>> origin/master:LV-CRF-Roadmap.ipynb
   "metadata": {
    "collapsed": true
   },
   "outputs": [],
   "source": [
    "# this function uses the entire lexicon\n",
    "src_cfg = libitg.make_source_side_itg(lexicon)"
   ]
  },
  {
   "cell_type": "code",
<<<<<<< HEAD:LV-CRF-Roadmap-daan.ipynb
   "execution_count": 60,
   "metadata": {
    "collapsed": false
   },
=======
   "execution_count": 163,
   "metadata": {},
>>>>>>> origin/master:LV-CRF-Roadmap.ipynb
   "outputs": [
    {
     "name": "stdout",
     "output_type": "stream",
     "text": [
      "[S] ||| [X]\n",
      "[X] ||| [X] [X]\n",
      "[X] ||| 'le'\n",
      "[X] ||| '-EPS-'\n",
      "[X] ||| 'e'\n",
      "[X] ||| 'chien'\n",
      "[X] ||| 'chat'\n",
      "[X] ||| 'noir'\n",
      "[X] ||| 'blanc'\n",
      "[X] ||| 'rouge'\n",
      "[X] ||| 'petit'\n",
      "[X] ||| 'petite'\n"
     ]
    }
   ],
   "source": [
    "print(src_cfg)"
   ]
  },
  {
   "cell_type": "markdown",
   "metadata": {},
   "source": [
    "# FSA\n",
    "\n",
    "We represent a sentence as a linear-chain FSA."
   ]
  },
  {
   "cell_type": "code",
<<<<<<< HEAD:LV-CRF-Roadmap-daan.ipynb
   "execution_count": 61,
   "metadata": {
    "collapsed": false
   },
=======
   "execution_count": 164,
   "metadata": {},
>>>>>>> origin/master:LV-CRF-Roadmap.ipynb
   "outputs": [
    {
     "name": "stdout",
     "output_type": "stream",
     "text": [
      "states=4\n",
      "initial=0\n",
      "final=3\n",
      "arcs=3\n",
      "origin=0 destination=1 label=le\n",
      "origin=1 destination=2 label=chien\n",
      "origin=2 destination=3 label=noir\n"
     ]
    }
   ],
   "source": [
    "src_fsa = libitg.make_fsa('le chien noir')\n",
    "print(src_fsa)"
   ]
  },
  {
   "cell_type": "markdown",
   "metadata": {},
   "source": [
    "# Forests\n",
    "\n",
    "Forests represent sets of derivations, they are represented by CFGs where symbols have been decorated with spans.\n",
    "We are working with Earley parser, which takes a CFG, an FSA, the CFG's starting symbol, and the symbol that should be used as the starting symbol of the resulting CFG.\n",
    "Note that Earley takes a CFG and returns another!\n",
    "\n",
    "The most basic forest we need is one that contains all derivations of the source."
   ]
  },
  {
   "cell_type": "code",
<<<<<<< HEAD:LV-CRF-Roadmap-daan.ipynb
   "execution_count": 62,
   "metadata": {
    "collapsed": false
   },
=======
   "execution_count": 165,
   "metadata": {},
>>>>>>> origin/master:LV-CRF-Roadmap.ipynb
   "outputs": [
    {
     "name": "stdout",
     "output_type": "stream",
     "text": [
      "[S]:0-3 ||| [X]:0-3\n",
<<<<<<< HEAD:LV-CRF-Roadmap-daan.ipynb
      "[X]:0-3 ||| [X]:0-3 [X]:3-3\n",
=======
      "[X]:0-3 ||| [X]:0-2 [X]:2-3\n",
>>>>>>> origin/master:LV-CRF-Roadmap.ipynb
      "[X]:0-3 ||| [X]:0-1 [X]:1-3\n",
      "[X]:0-3 ||| [X]:0-2 [X]:2-3\n",
      "[X]:0-3 ||| [X]:0-0 [X]:0-3\n",
<<<<<<< HEAD:LV-CRF-Roadmap-daan.ipynb
      "[X]:0-1 ||| [X]:0-1 [X]:1-1\n",
      "[X]:0-1 ||| 'le':0-1\n",
      "[X]:0-1 ||| [X]:0-0 [X]:0-1\n",
      "[X]:0-2 ||| [X]:0-2 [X]:2-2\n",
      "[X]:0-2 ||| [X]:0-1 [X]:1-2\n",
      "[X]:0-2 ||| [X]:0-0 [X]:0-2\n",
      "[X]:0-0 ||| [X]:0-0 [X]:0-0\n",
      "[X]:0-0 ||| '-EPS-':0-0\n",
      "[X]:3-3 ||| '-EPS-':3-3\n",
      "[X]:3-3 ||| [X]:3-3 [X]:3-3\n",
      "[X]:1-1 ||| [X]:1-1 [X]:1-1\n",
      "[X]:1-1 ||| '-EPS-':1-1\n",
      "[X]:1-3 ||| [X]:1-2 [X]:2-3\n",
=======
      "[X]:0-3 ||| [X]:0-3 [X]:3-3\n",
      "[X]:0-2 ||| [X]:0-1 [X]:1-2\n",
      "[X]:0-2 ||| [X]:0-0 [X]:0-2\n",
      "[X]:0-2 ||| [X]:0-2 [X]:2-2\n",
      "[X]:0-0 ||| '-EPS-':0-0\n",
      "[X]:0-0 ||| [X]:0-0 [X]:0-0\n",
      "[X]:0-1 ||| [X]:0-0 [X]:0-1\n",
      "[X]:0-1 ||| 'le':0-1\n",
      "[X]:0-1 ||| [X]:0-1 [X]:1-1\n",
      "[X]:2-3 ||| [X]:2-3 [X]:3-3\n",
      "[X]:2-3 ||| [X]:2-2 [X]:2-3\n",
      "[X]:2-3 ||| 'noir':2-3\n",
      "[X]:2-2 ||| '-EPS-':2-2\n",
      "[X]:2-2 ||| [X]:2-2 [X]:2-2\n",
      "[X]:1-2 ||| [X]:1-2 [X]:2-2\n",
      "[X]:1-2 ||| [X]:1-1 [X]:1-2\n",
      "[X]:1-2 ||| 'chien':1-2\n",
>>>>>>> origin/master:LV-CRF-Roadmap.ipynb
      "[X]:1-3 ||| [X]:1-1 [X]:1-3\n",
      "[X]:1-3 ||| [X]:1-2 [X]:2-3\n",
      "[X]:1-3 ||| [X]:1-3 [X]:3-3\n",
<<<<<<< HEAD:LV-CRF-Roadmap-daan.ipynb
      "[X]:1-2 ||| [X]:1-1 [X]:1-2\n",
      "[X]:1-2 ||| [X]:1-2 [X]:2-2\n",
      "[X]:1-2 ||| 'chien':1-2\n",
      "[X]:2-3 ||| [X]:2-2 [X]:2-3\n",
      "[X]:2-3 ||| 'noir':2-3\n",
      "[X]:2-3 ||| [X]:2-3 [X]:3-3\n",
      "[X]:2-2 ||| [X]:2-2 [X]:2-2\n",
      "[X]:2-2 ||| '-EPS-':2-2\n",
=======
      "[X]:1-1 ||| [X]:1-1 [X]:1-1\n",
      "[X]:1-1 ||| '-EPS-':1-1\n",
      "[X]:3-3 ||| '-EPS-':3-3\n",
      "[X]:3-3 ||| [X]:3-3 [X]:3-3\n",
>>>>>>> origin/master:LV-CRF-Roadmap.ipynb
      "[D(x)] ||| [S]:0-3\n"
     ]
    }
   ],
   "source": [
    "forest = libitg.earley(src_cfg, src_fsa, \n",
    "                       start_symbol=Nonterminal('S'), \n",
    "                       sprime_symbol=Nonterminal(\"D(x)\"))\n",
    "print(forest)"
   ]
  },
  {
   "cell_type": "markdown",
   "metadata": {},
   "source": [
    "Then we need to project this forest to the target vocabulary by using the lexicon and the ITG template rules.\n",
    "This is precisely the set \\\\(\\mathcal D(x)\\\\) of our lecture notes."
   ]
  },
  {
   "cell_type": "code",
<<<<<<< HEAD:LV-CRF-Roadmap-daan.ipynb
   "execution_count": 63,
=======
   "execution_count": 166,
>>>>>>> origin/master:LV-CRF-Roadmap.ipynb
   "metadata": {
    "scrolled": true
   },
   "outputs": [
    {
     "name": "stdout",
     "output_type": "stream",
     "text": [
      "[S]:0-3 ||| [X]:0-3\n",
<<<<<<< HEAD:LV-CRF-Roadmap-daan.ipynb
      "[X]:0-3 ||| [X]:0-3 [X]:3-3\n",
      "[X]:0-3 ||| [X]:3-3 [X]:0-3\n",
=======
      "[X]:0-3 ||| [X]:0-2 [X]:2-3\n",
      "[X]:0-3 ||| [X]:2-3 [X]:0-2\n",
>>>>>>> origin/master:LV-CRF-Roadmap.ipynb
      "[X]:0-3 ||| [X]:0-1 [X]:1-3\n",
      "[X]:0-3 ||| [X]:1-3 [X]:0-1\n",
      "[X]:0-3 ||| [X]:0-2 [X]:2-3\n",
      "[X]:0-3 ||| [X]:2-3 [X]:0-2\n",
      "[X]:0-3 ||| [X]:0-0 [X]:0-3\n",
      "[X]:0-3 ||| [X]:0-3 [X]:0-0\n",
<<<<<<< HEAD:LV-CRF-Roadmap-daan.ipynb
      "[X]:0-1 ||| [X]:0-1 [X]:1-1\n",
      "[X]:0-1 ||| [X]:1-1 [X]:0-1\n",
      "[X]:0-1 ||| 'the':0-1\n",
      "[X]:0-1 ||| '-EPS-':0-1\n",
      "[X]:0-1 ||| [X]:0-0 [X]:0-1\n",
      "[X]:0-1 ||| [X]:0-1 [X]:0-0\n",
      "[X]:0-2 ||| [X]:0-2 [X]:2-2\n",
      "[X]:0-2 ||| [X]:2-2 [X]:0-2\n",
=======
      "[X]:0-3 ||| [X]:0-3 [X]:3-3\n",
      "[X]:0-3 ||| [X]:3-3 [X]:0-3\n",
>>>>>>> origin/master:LV-CRF-Roadmap.ipynb
      "[X]:0-2 ||| [X]:0-1 [X]:1-2\n",
      "[X]:0-2 ||| [X]:1-2 [X]:0-1\n",
      "[X]:0-2 ||| [X]:0-0 [X]:0-2\n",
      "[X]:0-2 ||| [X]:0-2 [X]:0-0\n",
<<<<<<< HEAD:LV-CRF-Roadmap-daan.ipynb
      "[X]:0-0 ||| [X]:0-0 [X]:0-0\n",
      "[X]:0-0 ||| 'the':0-0\n",
      "[X]:0-0 ||| 'a':0-0\n",
      "[X]:3-3 ||| 'the':3-3\n",
      "[X]:3-3 ||| 'a':3-3\n",
      "[X]:3-3 ||| [X]:3-3 [X]:3-3\n",
      "[X]:1-1 ||| [X]:1-1 [X]:1-1\n",
      "[X]:1-1 ||| 'the':1-1\n",
      "[X]:1-1 ||| 'a':1-1\n",
      "[X]:1-3 ||| [X]:1-2 [X]:2-3\n",
      "[X]:1-3 ||| [X]:2-3 [X]:1-2\n",
=======
      "[X]:0-2 ||| [X]:0-2 [X]:2-2\n",
      "[X]:0-2 ||| [X]:2-2 [X]:0-2\n",
      "[X]:0-0 ||| 'a':0-0\n",
      "[X]:0-0 ||| 'the':0-0\n",
      "[X]:0-0 ||| [X]:0-0 [X]:0-0\n",
      "[X]:0-1 ||| [X]:0-0 [X]:0-1\n",
      "[X]:0-1 ||| [X]:0-1 [X]:0-0\n",
      "[X]:0-1 ||| 'the':0-1\n",
      "[X]:0-1 ||| '-EPS-':0-1\n",
      "[X]:0-1 ||| [X]:0-1 [X]:1-1\n",
      "[X]:0-1 ||| [X]:1-1 [X]:0-1\n",
      "[X]:2-3 ||| [X]:2-3 [X]:3-3\n",
      "[X]:2-3 ||| [X]:3-3 [X]:2-3\n",
      "[X]:2-3 ||| [X]:2-2 [X]:2-3\n",
      "[X]:2-3 ||| [X]:2-3 [X]:2-2\n",
      "[X]:2-3 ||| 'black':2-3\n",
      "[X]:2-3 ||| 'dark':2-3\n",
      "[X]:2-2 ||| 'a':2-2\n",
      "[X]:2-2 ||| 'the':2-2\n",
      "[X]:2-2 ||| [X]:2-2 [X]:2-2\n",
      "[X]:1-2 ||| [X]:1-2 [X]:2-2\n",
      "[X]:1-2 ||| [X]:2-2 [X]:1-2\n",
      "[X]:1-2 ||| [X]:1-1 [X]:1-2\n",
      "[X]:1-2 ||| [X]:1-2 [X]:1-1\n",
      "[X]:1-2 ||| 'dog':1-2\n",
>>>>>>> origin/master:LV-CRF-Roadmap.ipynb
      "[X]:1-3 ||| [X]:1-1 [X]:1-3\n",
      "[X]:1-3 ||| [X]:1-3 [X]:1-1\n",
      "[X]:1-3 ||| [X]:1-2 [X]:2-3\n",
      "[X]:1-3 ||| [X]:2-3 [X]:1-2\n",
      "[X]:1-3 ||| [X]:1-3 [X]:3-3\n",
      "[X]:1-3 ||| [X]:3-3 [X]:1-3\n",
<<<<<<< HEAD:LV-CRF-Roadmap-daan.ipynb
      "[X]:1-2 ||| [X]:1-1 [X]:1-2\n",
      "[X]:1-2 ||| [X]:1-2 [X]:1-1\n",
      "[X]:1-2 ||| [X]:1-2 [X]:2-2\n",
      "[X]:1-2 ||| [X]:2-2 [X]:1-2\n",
      "[X]:1-2 ||| 'dog':1-2\n",
      "[X]:2-3 ||| [X]:2-2 [X]:2-3\n",
      "[X]:2-3 ||| [X]:2-3 [X]:2-2\n",
      "[X]:2-3 ||| 'black':2-3\n",
      "[X]:2-3 ||| 'dark':2-3\n",
      "[X]:2-3 ||| [X]:2-3 [X]:3-3\n",
      "[X]:2-3 ||| [X]:3-3 [X]:2-3\n",
      "[X]:2-2 ||| [X]:2-2 [X]:2-2\n",
      "[X]:2-2 ||| 'the':2-2\n",
      "[X]:2-2 ||| 'a':2-2\n",
=======
      "[X]:1-1 ||| [X]:1-1 [X]:1-1\n",
      "[X]:1-1 ||| 'a':1-1\n",
      "[X]:1-1 ||| 'the':1-1\n",
      "[X]:3-3 ||| 'a':3-3\n",
      "[X]:3-3 ||| 'the':3-3\n",
      "[X]:3-3 ||| [X]:3-3 [X]:3-3\n",
>>>>>>> origin/master:LV-CRF-Roadmap.ipynb
      "[D(x)] ||| [S]:0-3\n"
     ]
    }
   ],
   "source": [
    "projected_forest = libitg.make_target_side_itg(forest, lexicon)\n",
    "print(projected_forest)"
   ]
  },
  {
   "cell_type": "markdown",
   "metadata": {},
   "source": [
    "# Dealing with a translation observation\n",
    "\n",
    "In training, we can observe translations, thus we need to constrain \\\\(\\mathcal D(x)\\\\) to the set of derivations that in addition to \\\\(x\\\\) also produce our target observation \\\\(y\\\\).\n",
    "\n",
    "We do that by intersecting the forest for \\\\(\\mathcal D(x)\\\\) with an automaton that represents \\\\(y\\\\).\n",
    "\n",
    "That is, we first make an FSA for the target sentence:"
   ]
  },
  {
   "cell_type": "code",
<<<<<<< HEAD:LV-CRF-Roadmap-daan.ipynb
   "execution_count": 64,
   "metadata": {
    "collapsed": false
   },
=======
   "execution_count": 167,
   "metadata": {},
>>>>>>> origin/master:LV-CRF-Roadmap.ipynb
   "outputs": [
    {
     "name": "stdout",
     "output_type": "stream",
     "text": [
      "states=4\n",
      "initial=0\n",
      "final=3\n",
      "arcs=3\n",
      "origin=0 destination=1 label=the\n",
      "origin=1 destination=2 label=black\n",
      "origin=2 destination=3 label=dog\n"
     ]
    }
   ],
   "source": [
    "tgt_fsa = libitg.make_fsa('the black dog')\n",
    "print(tgt_fsa)"
   ]
  },
  {
   "cell_type": "markdown",
   "metadata": {},
   "source": [
    "and then parse this FSA with the projected forest we got earlier from Earley.\n",
    "The resulting forest will represent the set \\\\(\\mathcal D(x,y)\\\\)."
   ]
  },
  {
   "cell_type": "code",
<<<<<<< HEAD:LV-CRF-Roadmap-daan.ipynb
   "execution_count": 65,
=======
   "execution_count": 168,
>>>>>>> origin/master:LV-CRF-Roadmap.ipynb
   "metadata": {
    "scrolled": true
   },
   "outputs": [
    {
     "name": "stdout",
     "output_type": "stream",
     "text": [
      "[D(x)]:0-3 ||| [S]:0-3:0-3\n",
      "[S]:0-3:0-3 ||| [X]:0-3:0-3\n",
      "[X]:0-3:0-3 ||| [X]:1-3:0-3 [X]:0-1:3-3\n",
      "[X]:0-3:0-3 ||| [X]:0-1:0-0 [X]:1-3:0-3\n",
<<<<<<< HEAD:LV-CRF-Roadmap-daan.ipynb
=======
      "[X]:0-3:0-3 ||| [X]:1-3:0-3 [X]:0-1:3-3\n",
>>>>>>> origin/master:LV-CRF-Roadmap.ipynb
      "[X]:0-3:0-3 ||| [X]:0-1:0-1 [X]:1-3:1-3\n",
      "[X]:0-3:0-3 ||| [X]:3-3:0-1 [X]:0-3:1-3\n",
      "[X]:0-3:0-3 ||| [X]:0-0:0-1 [X]:0-3:1-3\n",
      "[X]:0-3:0-3 ||| [X]:2-3:0-2 [X]:0-2:2-3\n",
<<<<<<< HEAD:LV-CRF-Roadmap-daan.ipynb
=======
      "[X]:0-1:0-1 ||| [X]:0-0:0-1 [X]:0-1:1-1\n",
      "[X]:0-1:0-1 ||| [X]:0-1:0-0 [X]:1-1:0-1\n",
      "[X]:0-1:0-1 ||| 'the':0-1:0-1\n",
      "[X]:0-1:0-1 ||| [X]:1-1:0-1 [X]:0-1:1-1\n",
      "[X]:0-1:0-1 ||| [X]:0-1:0-0 [X]:0-0:0-1\n",
      "[X]:0-1:0-0 ||| '-EPS-':0-1:0-0\n",
>>>>>>> origin/master:LV-CRF-Roadmap.ipynb
      "[X]:1-3:0-3 ||| [X]:3-3:0-1 [X]:1-3:1-3\n",
      "[X]:1-3:0-3 ||| [X]:2-3:0-2 [X]:1-2:2-3\n",
<<<<<<< HEAD:LV-CRF-Roadmap-daan.ipynb
      "[X]:0-1:3-3 ||| '-EPS-':0-1:3-3\n",
      "[X]:0-1:0-1 ||| 'the':0-1:0-1\n",
      "[X]:0-1:0-1 ||| [X]:0-0:0-1 [X]:0-1:1-1\n",
      "[X]:0-1:0-1 ||| [X]:1-1:0-1 [X]:0-1:1-1\n",
      "[X]:0-1:0-1 ||| [X]:0-1:0-0 [X]:0-0:0-1\n",
      "[X]:0-1:0-1 ||| [X]:0-1:0-0 [X]:1-1:0-1\n",
      "[X]:0-1:0-0 ||| '-EPS-':0-1:0-0\n",
=======
      "[X]:1-3:0-3 ||| [X]:1-1:0-1 [X]:1-3:1-3\n",
      "[X]:0-1:3-3 ||| '-EPS-':0-1:3-3\n",
>>>>>>> origin/master:LV-CRF-Roadmap.ipynb
      "[X]:1-3:1-3 ||| [X]:2-3:1-2 [X]:1-2:2-3\n",
      "[X]:3-3:0-1 ||| 'the':3-3:0-1\n",
      "[X]:0-3:1-3 ||| [X]:0-1:1-1 [X]:1-3:1-3\n",
      "[X]:0-3:1-3 ||| [X]:2-3:1-2 [X]:0-2:2-3\n",
<<<<<<< HEAD:LV-CRF-Roadmap-daan.ipynb
      "[X]:0-3:1-3 ||| [X]:0-1:1-1 [X]:1-3:1-3\n",
      "[X]:0-3:1-3 ||| [X]:1-3:1-3 [X]:0-1:3-3\n",
      "[X]:0-0:0-1 ||| 'the':0-0:0-1\n",
      "[X]:2-3:0-2 ||| [X]:2-2:0-1 [X]:2-3:1-2\n",
      "[X]:2-3:0-2 ||| [X]:3-3:0-1 [X]:2-3:1-2\n",
      "[X]:0-2:2-3 ||| [X]:1-2:2-3 [X]:0-1:3-3\n",
      "[X]:0-2:2-3 ||| [X]:0-1:2-2 [X]:1-2:2-3\n",
      "[X]:1-1:0-1 ||| 'the':1-1:0-1\n",
      "[X]:1-2:2-3 ||| 'dog':1-2:2-3\n",
      "[X]:0-1:1-1 ||| '-EPS-':0-1:1-1\n",
=======
      "[X]:0-3:1-3 ||| [X]:1-3:1-3 [X]:0-1:3-3\n",
      "[X]:0-0:0-1 ||| 'the':0-0:0-1\n",
      "[X]:2-3:0-2 ||| [X]:3-3:0-1 [X]:2-3:1-2\n",
      "[X]:2-3:0-2 ||| [X]:2-2:0-1 [X]:2-3:1-2\n",
      "[X]:0-2:2-3 ||| [X]:1-2:2-3 [X]:0-1:3-3\n",
      "[X]:0-2:2-3 ||| [X]:0-1:2-2 [X]:1-2:2-3\n",
      "[X]:0-1:1-1 ||| '-EPS-':0-1:1-1\n",
      "[X]:1-1:0-1 ||| 'the':1-1:0-1\n",
      "[X]:1-2:2-3 ||| 'dog':1-2:2-3\n",
>>>>>>> origin/master:LV-CRF-Roadmap.ipynb
      "[X]:2-3:1-2 ||| 'black':2-3:1-2\n",
      "[X]:2-2:0-1 ||| 'the':2-2:0-1\n",
      "[X]:0-1:2-2 ||| '-EPS-':0-1:2-2\n",
      "[D(x,y)] ||| [D(x)]:0-3\n"
     ]
    }
   ],
   "source": [
    "ref_forest = libitg.earley(projected_forest, tgt_fsa, \n",
    "                           start_symbol=Nonterminal(\"D(x)\"), \n",
    "                           sprime_symbol=Nonterminal('D(x,y)'))\n",
    "print(ref_forest)"
   ]
  },
  {
   "cell_type": "code",
<<<<<<< HEAD:LV-CRF-Roadmap-daan.ipynb
   "execution_count": 66,
   "metadata": {
    "collapsed": false
   },
=======
   "execution_count": 169,
   "metadata": {},
>>>>>>> origin/master:LV-CRF-Roadmap.ipynb
   "outputs": [
    {
     "data": {
      "text/plain": [
       "{'the black dog'}"
      ]
     },
<<<<<<< HEAD:LV-CRF-Roadmap-daan.ipynb
     "execution_count": 66,
=======
     "execution_count": 169,
>>>>>>> origin/master:LV-CRF-Roadmap.ipynb
     "metadata": {},
     "output_type": "execute_result"
    }
   ],
   "source": [
    "# this is just to illustrate that ref_forest accepts a single target (English) string\n",
    "ref_forest_as_fsa = libitg.forest_to_fsa(ref_forest, Nonterminal('D(x,y)'))\n",
    "libitg.enumerate_paths_in_fsa(ref_forest_as_fsa)"
   ]
  },
  {
   "cell_type": "markdown",
   "metadata": {},
   "source": [
    "# Length constraint\n",
    "\n",
    "In order to learn our CRF for maximum likelihood we need to compute the gradient of the log-likelihood.\n",
    "\n",
    "The gradient invoves two expectations (see lecture notes and project description). One expectation summarises all ways in which we can derive the joint observation \\\\((x, y)\\\\), the other summarises all ways in which we can derive the incomplete observation \\\\(x, n\\\\). The former is computed out of the forest that represents \\\\(\\mathcal D(x, y)\\\\) and the latter is computed out of the forest that represents \\\\(\\mathcal D_n(x)\\\\).\n",
    "\n",
    "Here we will show you how to get \\\\(\\mathcal D_n(x)\\\\) by parsing a special automaton that accepts the language \\\\(\\Delta^n\\\\) where \\\\(\\Delta\\\\) is the vocabulary of the target language."
   ]
  },
  {
   "cell_type": "code",
<<<<<<< HEAD:LV-CRF-Roadmap-daan.ipynb
   "execution_count": 67,
=======
   "execution_count": 170,
>>>>>>> origin/master:LV-CRF-Roadmap.ipynb
   "metadata": {
    "collapsed": true
   },
   "outputs": [],
   "source": [
    "length_fsa = libitg.LengthConstraint(4, strict=False)"
   ]
  },
  {
   "cell_type": "markdown",
   "metadata": {},
   "source": [
    "This special automaton accepts strings containing 1 to 4 words, no matter which words. The label -WILDCARD- is a special label such that `x == -WILDCARD-` evaluates to `True` no matter the value of `x`."
   ]
  },
  {
   "cell_type": "code",
<<<<<<< HEAD:LV-CRF-Roadmap-daan.ipynb
   "execution_count": 68,
   "metadata": {
    "collapsed": false
   },
=======
   "execution_count": 171,
   "metadata": {},
>>>>>>> origin/master:LV-CRF-Roadmap.ipynb
   "outputs": [
    {
     "name": "stdout",
     "output_type": "stream",
     "text": [
      "states=5\n",
      "initial=0\n",
      "final=1 2 3 4\n",
      "arcs=4\n",
      "origin=0 destination=1 label=-WILDCARD-\n",
      "origin=1 destination=2 label=-WILDCARD-\n",
      "origin=2 destination=3 label=-WILDCARD-\n",
      "origin=3 destination=4 label=-WILDCARD-\n"
     ]
    }
   ],
   "source": [
    "print(length_fsa)"
   ]
  },
  {
   "cell_type": "code",
<<<<<<< HEAD:LV-CRF-Roadmap-daan.ipynb
   "execution_count": 69,
=======
   "execution_count": 172,
>>>>>>> origin/master:LV-CRF-Roadmap.ipynb
   "metadata": {
    "scrolled": true
   },
   "outputs": [
    {
     "name": "stdout",
     "output_type": "stream",
     "text": [
      "[D(x)]:0-2 ||| [S]:0-3:0-2\n",
      "[D(x)]:0-4 ||| [S]:0-3:0-4\n",
      "[D(x)]:0-3 ||| [S]:0-3:0-3\n",
      "[S]:0-3:0-3 ||| [X]:0-3:0-3\n",
      "[S]:0-3:0-2 ||| [X]:0-3:0-2\n",
      "[S]:0-3:0-4 ||| [X]:0-3:0-4\n",
<<<<<<< HEAD:LV-CRF-Roadmap-daan.ipynb
      "[X]:0-3:0-3 ||| [X]:2-3:0-1 [X]:0-2:1-3\n",
      "[X]:0-3:0-3 ||| [X]:1-3:0-3 [X]:0-1:3-3\n",
      "[X]:0-3:0-3 ||| [X]:0-3:0-2 [X]:3-3:2-3\n",
      "[X]:0-3:0-3 ||| [X]:0-1:0-0 [X]:1-3:0-3\n",
      "[X]:0-3:0-3 ||| [X]:3-3:0-1 [X]:0-3:1-3\n",
      "[X]:0-3:0-3 ||| [X]:0-2:0-2 [X]:2-3:2-3\n",
      "[X]:0-3:0-3 ||| [X]:0-2:0-1 [X]:2-3:1-3\n",
      "[X]:0-3:0-3 ||| [X]:0-1:0-1 [X]:1-3:1-3\n",
      "[X]:0-3:0-3 ||| [X]:0-0:0-1 [X]:0-3:1-3\n",
      "[X]:0-3:0-3 ||| [X]:0-3:0-2 [X]:0-0:2-3\n",
      "[X]:0-3:0-3 ||| [X]:1-3:0-2 [X]:0-1:2-3\n",
      "[X]:0-3:0-3 ||| [X]:2-3:0-2 [X]:0-2:2-3\n",
      "[X]:0-3:0-4 ||| [X]:0-2:0-3 [X]:2-3:3-4\n",
      "[X]:0-3:0-4 ||| [X]:3-3:0-1 [X]:0-3:1-4\n",
      "[X]:0-3:0-4 ||| [X]:1-3:0-3 [X]:0-1:3-4\n",
      "[X]:0-3:0-4 ||| [X]:1-3:0-4 [X]:0-1:4-4\n",
      "[X]:0-3:0-4 ||| [X]:0-3:0-2 [X]:0-0:2-4\n",
      "[X]:0-3:0-4 ||| [X]:0-0:0-2 [X]:0-3:2-4\n",
      "[X]:0-3:0-4 ||| [X]:0-3:0-3 [X]:3-3:3-4\n",
      "[X]:0-3:0-4 ||| [X]:3-3:0-2 [X]:0-3:2-4\n",
      "[X]:0-3:0-4 ||| [X]:2-3:0-3 [X]:0-2:3-4\n",
      "[X]:0-3:0-4 ||| [X]:1-3:0-2 [X]:0-1:2-4\n",
      "[X]:0-3:0-4 ||| [X]:0-1:0-0 [X]:1-3:0-4\n",
      "[X]:0-3:0-4 ||| [X]:0-3:0-2 [X]:3-3:2-4\n",
      "[X]:0-3:0-4 ||| [X]:0-0:0-1 [X]:0-3:1-4\n",
      "[X]:0-3:0-4 ||| [X]:0-3:0-3 [X]:0-0:3-4\n",
      "[X]:0-3:0-4 ||| [X]:2-3:0-2 [X]:0-2:2-4\n",
      "[X]:0-3:0-4 ||| [X]:0-2:0-1 [X]:2-3:1-4\n",
      "[X]:0-3:0-4 ||| [X]:0-1:0-1 [X]:1-3:1-4\n",
      "[X]:0-3:0-4 ||| [X]:0-1:0-2 [X]:1-3:2-4\n",
      "[X]:0-3:0-4 ||| [X]:0-2:0-2 [X]:2-3:2-4\n",
      "[X]:0-3:0-4 ||| [X]:2-3:0-1 [X]:0-2:1-4\n",
      "[X]:0-3:0-2 ||| [X]:2-3:0-1 [X]:0-2:1-2\n",
      "[X]:0-3:0-2 ||| [X]:0-2:0-1 [X]:2-3:1-2\n",
      "[X]:0-3:0-2 ||| [X]:1-3:0-2 [X]:0-1:2-2\n",
      "[X]:0-3:0-2 ||| [X]:0-1:0-0 [X]:1-3:0-2\n",
      "[X]:2-3:0-3 ||| [X]:2-3:0-1 [X]:3-3:1-3\n",
      "[X]:2-3:0-3 ||| [X]:2-2:0-2 [X]:2-3:2-3\n",
      "[X]:2-3:0-3 ||| [X]:3-3:0-1 [X]:2-3:1-3\n",
      "[X]:2-3:0-3 ||| [X]:2-2:0-1 [X]:2-3:1-3\n",
      "[X]:2-3:0-3 ||| [X]:3-3:0-2 [X]:2-3:2-3\n",
      "[X]:2-3:0-3 ||| [X]:2-3:0-2 [X]:2-2:2-3\n",
      "[X]:2-3:0-3 ||| [X]:2-3:0-2 [X]:3-3:2-3\n",
      "[X]:2-3:0-3 ||| [X]:2-3:0-1 [X]:2-2:1-3\n",
      "[X]:2-3:0-4 ||| [X]:2-2:0-2 [X]:2-3:2-4\n",
      "[X]:2-3:0-4 ||| [X]:2-3:0-2 [X]:3-3:2-4\n",
      "[X]:2-3:0-4 ||| [X]:2-3:0-3 [X]:2-2:3-4\n",
      "[X]:2-3:0-4 ||| [X]:2-3:0-3 [X]:3-3:3-4\n",
      "[X]:2-3:0-4 ||| [X]:2-3:0-2 [X]:2-2:2-4\n",
      "[X]:2-3:0-4 ||| [X]:2-3:0-1 [X]:3-3:1-4\n",
      "[X]:2-3:0-4 ||| [X]:2-3:0-1 [X]:2-2:1-4\n",
      "[X]:2-3:0-4 ||| [X]:3-3:0-1 [X]:2-3:1-4\n",
      "[X]:2-3:0-4 ||| [X]:2-2:0-1 [X]:2-3:1-4\n",
      "[X]:2-3:0-4 ||| [X]:3-3:0-2 [X]:2-3:2-4\n",
      "[X]:2-3:0-4 ||| [X]:2-2:0-3 [X]:2-3:3-4\n",
      "[X]:2-3:0-4 ||| [X]:3-3:0-3 [X]:2-3:3-4\n",
      "[X]:2-3:0-1 ||| 'black':2-3:0-1\n",
      "[X]:2-3:0-1 ||| 'dark':2-3:0-1\n",
      "[X]:2-3:0-2 ||| [X]:2-3:0-1 [X]:2-2:1-2\n",
      "[X]:2-3:0-2 ||| [X]:2-3:0-1 [X]:3-3:1-2\n",
      "[X]:2-3:0-2 ||| [X]:2-2:0-1 [X]:2-3:1-2\n",
      "[X]:2-3:0-2 ||| [X]:3-3:0-1 [X]:2-3:1-2\n",
      "[X]:0-2:1-3 ||| [X]:0-1:1-2 [X]:1-2:2-3\n",
      "[X]:0-2:1-3 ||| [X]:1-2:1-3 [X]:0-1:3-3\n",
      "[X]:0-2:1-3 ||| [X]:0-0:1-2 [X]:0-2:2-3\n",
=======
      "[X]:0-3:0-3 ||| [X]:0-1:0-0 [X]:1-3:0-3\n",
      "[X]:0-3:0-3 ||| [X]:1-3:0-3 [X]:0-1:3-3\n",
      "[X]:0-3:0-3 ||| [X]:0-2:0-2 [X]:2-3:2-3\n",
      "[X]:0-3:0-3 ||| [X]:0-0:0-1 [X]:0-3:1-3\n",
      "[X]:0-3:0-3 ||| [X]:0-1:0-1 [X]:1-3:1-3\n",
      "[X]:0-3:0-3 ||| [X]:2-3:0-1 [X]:0-2:1-3\n",
      "[X]:0-3:0-3 ||| [X]:3-3:0-1 [X]:0-3:1-3\n",
      "[X]:0-3:0-3 ||| [X]:0-3:0-2 [X]:3-3:2-3\n",
      "[X]:0-3:0-3 ||| [X]:0-2:0-1 [X]:2-3:1-3\n",
      "[X]:0-3:0-3 ||| [X]:0-3:0-2 [X]:0-0:2-3\n",
      "[X]:0-3:0-3 ||| [X]:1-3:0-2 [X]:0-1:2-3\n",
      "[X]:0-3:0-3 ||| [X]:2-3:0-2 [X]:0-2:2-3\n",
      "[X]:0-3:0-4 ||| [X]:0-2:0-2 [X]:2-3:2-4\n",
      "[X]:0-3:0-4 ||| [X]:0-3:0-2 [X]:3-3:2-4\n",
      "[X]:0-3:0-4 ||| [X]:0-0:0-2 [X]:0-3:2-4\n",
      "[X]:0-3:0-4 ||| [X]:0-3:0-3 [X]:0-0:3-4\n",
      "[X]:0-3:0-4 ||| [X]:3-3:0-2 [X]:0-3:2-4\n",
      "[X]:0-3:0-4 ||| [X]:1-3:0-2 [X]:0-1:2-4\n",
      "[X]:0-3:0-4 ||| [X]:0-1:0-0 [X]:1-3:0-4\n",
      "[X]:0-3:0-4 ||| [X]:1-3:0-3 [X]:0-1:3-4\n",
      "[X]:0-3:0-4 ||| [X]:0-2:0-3 [X]:2-3:3-4\n",
      "[X]:0-3:0-4 ||| [X]:2-3:0-3 [X]:0-2:3-4\n",
      "[X]:0-3:0-4 ||| [X]:3-3:0-1 [X]:0-3:1-4\n",
      "[X]:0-3:0-4 ||| [X]:2-3:0-2 [X]:0-2:2-4\n",
      "[X]:0-3:0-4 ||| [X]:0-3:0-2 [X]:0-0:2-4\n",
      "[X]:0-3:0-4 ||| [X]:0-1:0-2 [X]:1-3:2-4\n",
      "[X]:0-3:0-4 ||| [X]:0-0:0-1 [X]:0-3:1-4\n",
      "[X]:0-3:0-4 ||| [X]:0-3:0-3 [X]:3-3:3-4\n",
      "[X]:0-3:0-4 ||| [X]:0-2:0-1 [X]:2-3:1-4\n",
      "[X]:0-3:0-4 ||| [X]:1-3:0-4 [X]:0-1:4-4\n",
      "[X]:0-3:0-4 ||| [X]:0-1:0-1 [X]:1-3:1-4\n",
      "[X]:0-3:0-4 ||| [X]:2-3:0-1 [X]:0-2:1-4\n",
      "[X]:0-3:0-2 ||| [X]:1-3:0-2 [X]:0-1:2-2\n",
      "[X]:0-3:0-2 ||| [X]:0-1:0-0 [X]:1-3:0-2\n",
      "[X]:0-3:0-2 ||| [X]:2-3:0-1 [X]:0-2:1-2\n",
      "[X]:0-3:0-2 ||| [X]:0-2:0-1 [X]:2-3:1-2\n",
      "[X]:0-1:0-3 ||| [X]:0-0:0-3 [X]:0-1:3-3\n",
      "[X]:0-1:0-3 ||| [X]:0-1:0-2 [X]:0-0:2-3\n",
      "[X]:0-1:0-3 ||| [X]:1-1:0-2 [X]:0-1:2-3\n",
      "[X]:0-1:0-3 ||| [X]:0-1:0-1 [X]:0-0:1-3\n",
      "[X]:0-1:0-3 ||| [X]:0-0:0-1 [X]:0-1:1-3\n",
      "[X]:0-1:0-3 ||| [X]:0-1:0-0 [X]:0-0:0-3\n",
      "[X]:0-1:0-3 ||| [X]:0-1:0-0 [X]:1-1:0-3\n",
      "[X]:0-1:0-3 ||| [X]:1-1:0-3 [X]:0-1:3-3\n",
      "[X]:0-1:0-3 ||| [X]:0-1:0-2 [X]:1-1:2-3\n",
      "[X]:0-1:0-3 ||| [X]:0-1:0-1 [X]:1-1:1-3\n",
      "[X]:0-1:0-3 ||| [X]:1-1:0-1 [X]:0-1:1-3\n",
      "[X]:0-1:0-3 ||| [X]:0-0:0-2 [X]:0-1:2-3\n",
      "[X]:0-1:0-4 ||| [X]:0-1:0-2 [X]:0-0:2-4\n",
      "[X]:0-1:0-4 ||| [X]:0-0:0-3 [X]:0-1:3-4\n",
      "[X]:0-1:0-4 ||| [X]:0-0:0-4 [X]:0-1:4-4\n",
      "[X]:0-1:0-4 ||| [X]:0-1:0-2 [X]:1-1:2-4\n",
      "[X]:0-1:0-4 ||| [X]:0-0:0-1 [X]:0-1:1-4\n",
      "[X]:0-1:0-4 ||| [X]:1-1:0-3 [X]:0-1:3-4\n",
      "[X]:0-1:0-4 ||| [X]:0-0:0-2 [X]:0-1:2-4\n",
      "[X]:0-1:0-4 ||| [X]:0-1:0-0 [X]:1-1:0-4\n",
      "[X]:0-1:0-4 ||| [X]:0-1:0-1 [X]:1-1:1-4\n",
      "[X]:0-1:0-4 ||| [X]:1-1:0-4 [X]:0-1:4-4\n",
      "[X]:0-1:0-4 ||| [X]:1-1:0-1 [X]:0-1:1-4\n",
      "[X]:0-1:0-4 ||| [X]:0-1:0-0 [X]:0-0:0-4\n",
      "[X]:0-1:0-4 ||| [X]:0-1:0-1 [X]:0-0:1-4\n",
      "[X]:0-1:0-4 ||| [X]:0-1:0-3 [X]:1-1:3-4\n",
      "[X]:0-1:0-4 ||| [X]:1-1:0-2 [X]:0-1:2-4\n",
      "[X]:0-1:0-4 ||| [X]:0-1:0-3 [X]:0-0:3-4\n",
      "[X]:0-1:0-1 ||| [X]:0-1:0-0 [X]:1-1:0-1\n",
      "[X]:0-1:0-1 ||| 'the':0-1:0-1\n",
      "[X]:0-1:0-1 ||| [X]:0-0:0-1 [X]:0-1:1-1\n",
      "[X]:0-1:0-1 ||| [X]:1-1:0-1 [X]:0-1:1-1\n",
      "[X]:0-1:0-1 ||| [X]:0-1:0-0 [X]:0-0:0-1\n",
      "[X]:0-1:0-2 ||| [X]:0-1:0-0 [X]:1-1:0-2\n",
      "[X]:0-1:0-2 ||| [X]:0-1:0-1 [X]:0-0:1-2\n",
      "[X]:0-1:0-2 ||| [X]:0-1:0-0 [X]:0-0:0-2\n",
      "[X]:0-1:0-2 ||| [X]:0-0:0-1 [X]:0-1:1-2\n",
      "[X]:0-1:0-2 ||| [X]:0-0:0-2 [X]:0-1:2-2\n",
      "[X]:0-1:0-2 ||| [X]:0-1:0-1 [X]:1-1:1-2\n",
      "[X]:0-1:0-2 ||| [X]:1-1:0-2 [X]:0-1:2-2\n",
      "[X]:0-1:0-2 ||| [X]:1-1:0-1 [X]:0-1:1-2\n",
      "[X]:0-1:0-0 ||| '-EPS-':0-1:0-0\n",
      "[X]:1-3:0-4 ||| [X]:1-3:0-3 [X]:1-1:3-4\n",
      "[X]:1-3:0-4 ||| [X]:3-3:0-1 [X]:1-3:1-4\n",
      "[X]:1-3:0-4 ||| [X]:2-3:0-1 [X]:1-2:1-4\n",
      "[X]:1-3:0-4 ||| [X]:1-3:0-3 [X]:3-3:3-4\n",
      "[X]:1-3:0-4 ||| [X]:1-2:0-1 [X]:2-3:1-4\n",
      "[X]:1-3:0-4 ||| [X]:1-2:0-2 [X]:2-3:2-4\n",
      "[X]:1-3:0-4 ||| [X]:1-1:0-1 [X]:1-3:1-4\n",
      "[X]:1-3:0-4 ||| [X]:2-3:0-3 [X]:1-2:3-4\n",
      "[X]:1-3:0-4 ||| [X]:3-3:0-2 [X]:1-3:2-4\n",
      "[X]:1-3:0-4 ||| [X]:2-3:0-2 [X]:1-2:2-4\n",
      "[X]:1-3:0-4 ||| [X]:1-1:0-2 [X]:1-3:2-4\n",
      "[X]:1-3:0-4 ||| [X]:1-3:0-2 [X]:3-3:2-4\n",
      "[X]:1-3:0-4 ||| [X]:1-3:0-2 [X]:1-1:2-4\n",
      "[X]:1-3:0-4 ||| [X]:1-2:0-3 [X]:2-3:3-4\n",
      "[X]:1-3:0-3 ||| [X]:1-3:0-2 [X]:3-3:2-3\n",
      "[X]:1-3:0-3 ||| [X]:1-2:0-1 [X]:2-3:1-3\n",
      "[X]:1-3:0-3 ||| [X]:1-3:0-2 [X]:1-1:2-3\n",
      "[X]:1-3:0-3 ||| [X]:1-1:0-1 [X]:1-3:1-3\n",
      "[X]:1-3:0-3 ||| [X]:3-3:0-1 [X]:1-3:1-3\n",
      "[X]:1-3:0-3 ||| [X]:2-3:0-1 [X]:1-2:1-3\n",
      "[X]:1-3:0-3 ||| [X]:1-2:0-2 [X]:2-3:2-3\n",
      "[X]:1-3:0-3 ||| [X]:2-3:0-2 [X]:1-2:2-3\n",
      "[X]:1-3:0-2 ||| [X]:1-2:0-1 [X]:2-3:1-2\n",
      "[X]:1-3:0-2 ||| [X]:2-3:0-1 [X]:1-2:1-2\n",
      "[X]:0-1:3-4 ||| [X]:0-1:3-3 [X]:1-1:3-4\n",
      "[X]:0-1:3-4 ||| [X]:0-1:3-3 [X]:0-0:3-4\n",
      "[X]:0-1:3-4 ||| 'the':0-1:3-4\n",
      "[X]:0-1:3-4 ||| [X]:0-0:3-4 [X]:0-1:4-4\n",
      "[X]:0-1:3-4 ||| [X]:1-1:3-4 [X]:0-1:4-4\n",
      "[X]:0-1:3-3 ||| '-EPS-':0-1:3-3\n",
      "[X]:0-2:0-4 ||| [X]:0-1:0-1 [X]:1-2:1-4\n",
      "[X]:0-2:0-4 ||| [X]:1-2:0-1 [X]:0-1:1-4\n",
      "[X]:0-2:0-4 ||| [X]:0-1:0-3 [X]:1-2:3-4\n",
      "[X]:0-2:0-4 ||| [X]:0-2:0-2 [X]:2-2:2-4\n",
      "[X]:0-2:0-4 ||| [X]:2-2:0-1 [X]:0-2:1-4\n",
      "[X]:0-2:0-4 ||| [X]:0-2:0-3 [X]:0-0:3-4\n",
      "[X]:0-2:0-4 ||| [X]:1-2:0-2 [X]:0-1:2-4\n",
      "[X]:0-2:0-4 ||| [X]:0-0:0-3 [X]:0-2:3-4\n",
      "[X]:0-2:0-4 ||| [X]:2-2:0-2 [X]:0-2:2-4\n",
      "[X]:0-2:0-4 ||| [X]:0-2:0-1 [X]:2-2:1-4\n",
      "[X]:0-2:0-4 ||| [X]:1-2:0-3 [X]:0-1:3-4\n",
      "[X]:0-2:0-4 ||| [X]:0-2:0-2 [X]:0-0:2-4\n",
      "[X]:0-2:0-4 ||| [X]:0-1:0-2 [X]:1-2:2-4\n",
      "[X]:0-2:0-4 ||| [X]:0-0:0-1 [X]:0-2:1-4\n",
      "[X]:0-2:0-4 ||| [X]:1-2:0-4 [X]:0-1:4-4\n",
      "[X]:0-2:0-4 ||| [X]:0-2:0-3 [X]:2-2:3-4\n",
      "[X]:0-2:0-4 ||| [X]:2-2:0-3 [X]:0-2:3-4\n",
      "[X]:0-2:0-4 ||| [X]:0-0:0-2 [X]:0-2:2-4\n",
      "[X]:0-2:0-4 ||| [X]:0-2:0-1 [X]:0-0:1-4\n",
      "[X]:0-2:0-4 ||| [X]:0-1:0-0 [X]:1-2:0-4\n",
      "[X]:0-2:0-3 ||| [X]:0-2:0-1 [X]:0-0:1-3\n",
      "[X]:0-2:0-3 ||| [X]:2-2:0-1 [X]:0-2:1-3\n",
      "[X]:0-2:0-3 ||| [X]:1-2:0-3 [X]:0-1:3-3\n",
      "[X]:0-2:0-3 ||| [X]:0-0:0-2 [X]:0-2:2-3\n",
      "[X]:0-2:0-3 ||| [X]:0-2:0-2 [X]:2-2:2-3\n",
      "[X]:0-2:0-3 ||| [X]:0-1:0-2 [X]:1-2:2-3\n",
      "[X]:0-2:0-3 ||| [X]:0-2:0-1 [X]:2-2:1-3\n",
      "[X]:0-2:0-3 ||| [X]:0-0:0-1 [X]:0-2:1-3\n",
      "[X]:0-2:0-3 ||| [X]:2-2:0-2 [X]:0-2:2-3\n",
      "[X]:0-2:0-3 ||| [X]:1-2:0-1 [X]:0-1:1-3\n",
      "[X]:0-2:0-3 ||| [X]:0-1:0-1 [X]:1-2:1-3\n",
      "[X]:0-2:0-3 ||| [X]:1-2:0-2 [X]:0-1:2-3\n",
      "[X]:0-2:0-3 ||| [X]:0-1:0-0 [X]:1-2:0-3\n",
      "[X]:0-2:0-3 ||| [X]:0-2:0-2 [X]:0-0:2-3\n",
      "[X]:0-2:0-2 ||| [X]:1-2:0-1 [X]:0-1:1-2\n",
      "[X]:0-2:0-2 ||| [X]:0-1:0-1 [X]:1-2:1-2\n",
      "[X]:0-2:0-2 ||| [X]:0-2:0-1 [X]:0-0:1-2\n",
      "[X]:0-2:0-2 ||| [X]:2-2:0-1 [X]:0-2:1-2\n",
      "[X]:0-2:0-2 ||| [X]:1-2:0-2 [X]:0-1:2-2\n",
      "[X]:0-2:0-2 ||| [X]:0-1:0-0 [X]:1-2:0-2\n",
      "[X]:0-2:0-2 ||| [X]:0-2:0-1 [X]:2-2:1-2\n",
      "[X]:0-2:0-2 ||| [X]:0-0:0-1 [X]:0-2:1-2\n",
      "[X]:0-2:0-1 ||| [X]:1-2:0-1 [X]:0-1:1-1\n",
      "[X]:0-2:0-1 ||| [X]:0-1:0-0 [X]:1-2:0-1\n",
      "[X]:2-3:2-3 ||| 'black':2-3:2-3\n",
      "[X]:2-3:2-3 ||| 'dark':2-3:2-3\n",
      "[X]:2-3:2-4 ||| [X]:3-3:2-3 [X]:2-3:3-4\n",
      "[X]:2-3:2-4 ||| [X]:2-3:2-3 [X]:2-2:3-4\n",
      "[X]:2-3:2-4 ||| [X]:2-2:2-3 [X]:2-3:3-4\n",
      "[X]:2-3:2-4 ||| [X]:2-3:2-3 [X]:3-3:3-4\n",
      "[X]:3-3:2-3 ||| 'a':3-3:2-3\n",
      "[X]:3-3:2-3 ||| 'the':3-3:2-3\n",
      "[X]:3-3:2-4 ||| [X]:3-3:2-3 [X]:3-3:3-4\n",
      "[X]:0-0:0-4 ||| [X]:0-0:0-1 [X]:0-0:1-4\n",
      "[X]:0-0:0-4 ||| [X]:0-0:0-3 [X]:0-0:3-4\n",
      "[X]:0-0:0-4 ||| [X]:0-0:0-2 [X]:0-0:2-4\n",
      "[X]:0-0:0-3 ||| [X]:0-0:0-1 [X]:0-0:1-3\n",
      "[X]:0-0:0-3 ||| [X]:0-0:0-2 [X]:0-0:2-3\n",
      "[X]:0-0:0-1 ||| 'a':0-0:0-1\n",
      "[X]:0-0:0-1 ||| 'the':0-0:0-1\n",
      "[X]:0-0:0-2 ||| [X]:0-0:0-1 [X]:0-0:1-2\n",
      "[X]:0-3:2-4 ||| [X]:0-2:2-3 [X]:2-3:3-4\n",
      "[X]:0-3:2-4 ||| [X]:0-1:2-2 [X]:1-3:2-4\n",
      "[X]:0-3:2-4 ||| [X]:2-3:2-3 [X]:0-2:3-4\n",
      "[X]:0-3:2-4 ||| [X]:1-3:2-4 [X]:0-1:4-4\n",
      "[X]:0-3:1-3 ||| [X]:0-1:1-1 [X]:1-3:1-3\n",
      "[X]:0-3:1-3 ||| [X]:0-2:1-2 [X]:2-3:2-3\n",
      "[X]:0-3:1-3 ||| [X]:2-3:1-2 [X]:0-2:2-3\n",
      "[X]:0-3:1-3 ||| [X]:1-3:1-3 [X]:0-1:3-3\n",
      "[X]:0-3:1-4 ||| [X]:0-1:1-1 [X]:1-3:1-4\n",
      "[X]:0-3:1-4 ||| [X]:0-0:1-2 [X]:0-3:2-4\n",
      "[X]:0-3:1-4 ||| [X]:0-2:1-3 [X]:2-3:3-4\n",
      "[X]:0-3:1-4 ||| [X]:1-3:1-3 [X]:0-1:3-4\n",
      "[X]:0-3:1-4 ||| [X]:1-3:1-4 [X]:0-1:4-4\n",
      "[X]:0-3:1-4 ||| [X]:0-3:1-3 [X]:3-3:3-4\n",
      "[X]:0-3:1-4 ||| [X]:0-2:1-2 [X]:2-3:2-4\n",
      "[X]:0-3:1-4 ||| [X]:0-3:1-3 [X]:0-0:3-4\n",
      "[X]:0-3:1-4 ||| [X]:3-3:1-2 [X]:0-3:2-4\n",
      "[X]:0-3:1-4 ||| [X]:0-1:1-2 [X]:1-3:2-4\n",
      "[X]:0-3:1-4 ||| [X]:2-3:1-3 [X]:0-2:3-4\n",
      "[X]:0-3:1-4 ||| [X]:2-3:1-2 [X]:0-2:2-4\n",
      "[X]:0-0:3-4 ||| 'a':0-0:3-4\n",
      "[X]:0-0:3-4 ||| 'the':0-0:3-4\n",
      "[X]:3-3:0-3 ||| [X]:3-3:0-1 [X]:3-3:1-3\n",
      "[X]:3-3:0-3 ||| [X]:3-3:0-2 [X]:3-3:2-3\n",
      "[X]:3-3:0-1 ||| 'a':3-3:0-1\n",
      "[X]:3-3:0-1 ||| 'the':3-3:0-1\n",
      "[X]:3-3:0-4 ||| [X]:3-3:0-2 [X]:3-3:2-4\n",
      "[X]:3-3:0-4 ||| [X]:3-3:0-1 [X]:3-3:1-4\n",
      "[X]:3-3:0-4 ||| [X]:3-3:0-3 [X]:3-3:3-4\n",
      "[X]:3-3:0-2 ||| [X]:3-3:0-1 [X]:3-3:1-2\n",
      "[X]:0-1:2-4 ||| [X]:0-1:2-3 [X]:0-0:3-4\n",
      "[X]:0-1:2-4 ||| [X]:0-1:2-3 [X]:1-1:3-4\n",
      "[X]:0-1:2-4 ||| [X]:1-1:2-3 [X]:0-1:3-4\n",
      "[X]:0-1:2-4 ||| [X]:0-0:2-3 [X]:0-1:3-4\n",
      "[X]:0-1:2-4 ||| [X]:0-0:2-4 [X]:0-1:4-4\n",
      "[X]:0-1:2-4 ||| [X]:0-1:2-2 [X]:0-0:2-4\n",
      "[X]:0-1:2-4 ||| [X]:1-1:2-4 [X]:0-1:4-4\n",
      "[X]:0-1:2-4 ||| [X]:0-1:2-2 [X]:1-1:2-4\n",
      "[X]:0-1:2-3 ||| [X]:0-1:2-2 [X]:0-0:2-3\n",
      "[X]:0-1:2-3 ||| [X]:0-1:2-2 [X]:1-1:2-3\n",
      "[X]:0-1:2-3 ||| 'the':0-1:2-3\n",
      "[X]:0-1:2-3 ||| [X]:1-1:2-3 [X]:0-1:3-3\n",
      "[X]:0-1:2-3 ||| [X]:0-0:2-3 [X]:0-1:3-3\n",
      "[X]:0-1:2-2 ||| '-EPS-':0-1:2-2\n",
      "[X]:1-3:1-3 ||| [X]:2-3:1-2 [X]:1-2:2-3\n",
      "[X]:1-3:1-3 ||| [X]:1-2:1-2 [X]:2-3:2-3\n",
      "[X]:1-3:1-4 ||| [X]:1-3:1-3 [X]:3-3:3-4\n",
      "[X]:1-3:1-4 ||| [X]:2-3:1-3 [X]:1-2:3-4\n",
      "[X]:1-3:1-4 ||| [X]:2-3:1-2 [X]:1-2:2-4\n",
      "[X]:1-3:1-4 ||| [X]:3-3:1-2 [X]:1-3:2-4\n",
      "[X]:1-3:1-4 ||| [X]:1-1:1-2 [X]:1-3:2-4\n",
      "[X]:1-3:1-4 ||| [X]:1-2:1-3 [X]:2-3:3-4\n",
      "[X]:1-3:1-4 ||| [X]:1-2:1-2 [X]:2-3:2-4\n",
      "[X]:1-3:1-4 ||| [X]:1-3:1-3 [X]:1-1:3-4\n",
      "[X]:2-3:0-4 ||| [X]:2-3:0-1 [X]:3-3:1-4\n",
      "[X]:2-3:0-4 ||| [X]:2-3:0-1 [X]:2-2:1-4\n",
      "[X]:2-3:0-4 ||| [X]:3-3:0-1 [X]:2-3:1-4\n",
      "[X]:2-3:0-4 ||| [X]:2-3:0-2 [X]:3-3:2-4\n",
      "[X]:2-3:0-4 ||| [X]:2-3:0-3 [X]:2-2:3-4\n",
      "[X]:2-3:0-4 ||| [X]:3-3:0-3 [X]:2-3:3-4\n",
      "[X]:2-3:0-4 ||| [X]:2-3:0-3 [X]:3-3:3-4\n",
      "[X]:2-3:0-4 ||| [X]:2-3:0-2 [X]:2-2:2-4\n",
      "[X]:2-3:0-4 ||| [X]:3-3:0-2 [X]:2-3:2-4\n",
      "[X]:2-3:0-4 ||| [X]:2-2:0-3 [X]:2-3:3-4\n",
      "[X]:2-3:0-4 ||| [X]:2-2:0-1 [X]:2-3:1-4\n",
      "[X]:2-3:0-4 ||| [X]:2-2:0-2 [X]:2-3:2-4\n",
      "[X]:2-3:0-2 ||| [X]:2-3:0-1 [X]:3-3:1-2\n",
      "[X]:2-3:0-2 ||| [X]:2-3:0-1 [X]:2-2:1-2\n",
      "[X]:2-3:0-2 ||| [X]:3-3:0-1 [X]:2-3:1-2\n",
      "[X]:2-3:0-2 ||| [X]:2-2:0-1 [X]:2-3:1-2\n",
      "[X]:2-3:0-3 ||| [X]:2-2:0-2 [X]:2-3:2-3\n",
      "[X]:2-3:0-3 ||| [X]:2-3:0-2 [X]:2-2:2-3\n",
      "[X]:2-3:0-3 ||| [X]:3-3:0-2 [X]:2-3:2-3\n",
      "[X]:2-3:0-3 ||| [X]:2-3:0-1 [X]:3-3:1-3\n",
      "[X]:2-3:0-3 ||| [X]:2-3:0-1 [X]:2-2:1-3\n",
      "[X]:2-3:0-3 ||| [X]:3-3:0-1 [X]:2-3:1-3\n",
      "[X]:2-3:0-3 ||| [X]:2-2:0-1 [X]:2-3:1-3\n",
      "[X]:2-3:0-3 ||| [X]:2-3:0-2 [X]:3-3:2-3\n",
      "[X]:2-3:0-1 ||| 'black':2-3:0-1\n",
      "[X]:2-3:0-1 ||| 'dark':2-3:0-1\n",
      "[X]:0-2:1-3 ||| [X]:0-2:1-2 [X]:2-2:2-3\n",
      "[X]:0-2:1-3 ||| [X]:0-0:1-2 [X]:0-2:2-3\n",
      "[X]:0-2:1-3 ||| [X]:1-2:1-3 [X]:0-1:3-3\n",
      "[X]:0-2:1-3 ||| [X]:1-2:1-2 [X]:0-1:2-3\n",
      "[X]:0-2:1-3 ||| [X]:0-1:1-2 [X]:1-2:2-3\n",
>>>>>>> origin/master:LV-CRF-Roadmap.ipynb
      "[X]:0-2:1-3 ||| [X]:0-1:1-1 [X]:1-2:1-3\n",
      "[X]:0-2:1-3 ||| [X]:0-2:1-2 [X]:2-2:2-3\n",
      "[X]:0-2:1-3 ||| [X]:1-2:1-2 [X]:0-1:2-3\n",
      "[X]:0-2:1-3 ||| [X]:2-2:1-2 [X]:0-2:2-3\n",
      "[X]:0-2:1-3 ||| [X]:0-2:1-2 [X]:0-0:2-3\n",
<<<<<<< HEAD:LV-CRF-Roadmap-daan.ipynb
      "[X]:0-2:1-4 ||| [X]:0-1:1-3 [X]:1-2:3-4\n",
      "[X]:0-2:1-4 ||| [X]:1-2:1-2 [X]:0-1:2-4\n",
      "[X]:0-2:1-4 ||| [X]:1-2:1-4 [X]:0-1:4-4\n",
      "[X]:0-2:1-4 ||| [X]:2-2:1-3 [X]:0-2:3-4\n",
      "[X]:0-2:1-4 ||| [X]:0-1:1-1 [X]:1-2:1-4\n",
      "[X]:0-2:1-4 ||| [X]:2-2:1-2 [X]:0-2:2-4\n",
      "[X]:0-2:1-4 ||| [X]:0-2:1-3 [X]:2-2:3-4\n",
      "[X]:0-2:1-4 ||| [X]:0-2:1-2 [X]:2-2:2-4\n",
      "[X]:0-2:1-4 ||| [X]:1-2:1-3 [X]:0-1:3-4\n",
      "[X]:0-2:1-4 ||| [X]:0-1:1-2 [X]:1-2:2-4\n",
      "[X]:0-2:1-4 ||| [X]:0-0:1-3 [X]:0-2:3-4\n",
      "[X]:0-2:1-4 ||| [X]:0-0:1-2 [X]:0-2:2-4\n",
      "[X]:0-2:1-4 ||| [X]:0-2:1-3 [X]:0-0:3-4\n",
      "[X]:0-2:1-4 ||| [X]:0-2:1-2 [X]:0-0:2-4\n",
      "[X]:0-2:1-2 ||| [X]:0-1:1-1 [X]:1-2:1-2\n",
      "[X]:0-2:1-2 ||| [X]:1-2:1-2 [X]:0-1:2-2\n",
      "[X]:1-3:0-4 ||| [X]:2-3:0-2 [X]:1-2:2-4\n",
      "[X]:1-3:0-4 ||| [X]:2-3:0-3 [X]:1-2:3-4\n",
      "[X]:1-3:0-4 ||| [X]:1-2:0-1 [X]:2-3:1-4\n",
      "[X]:1-3:0-4 ||| [X]:3-3:0-2 [X]:1-3:2-4\n",
      "[X]:1-3:0-4 ||| [X]:1-3:0-2 [X]:3-3:2-4\n",
      "[X]:1-3:0-4 ||| [X]:1-3:0-3 [X]:3-3:3-4\n",
      "[X]:1-3:0-4 ||| [X]:1-2:0-2 [X]:2-3:2-4\n",
      "[X]:1-3:0-4 ||| [X]:3-3:0-1 [X]:1-3:1-4\n",
      "[X]:1-3:0-4 ||| [X]:1-1:0-1 [X]:1-3:1-4\n",
      "[X]:1-3:0-4 ||| [X]:1-2:0-3 [X]:2-3:3-4\n",
      "[X]:1-3:0-4 ||| [X]:2-3:0-1 [X]:1-2:1-4\n",
      "[X]:1-3:0-4 ||| [X]:1-3:0-2 [X]:1-1:2-4\n",
      "[X]:1-3:0-4 ||| [X]:1-3:0-3 [X]:1-1:3-4\n",
      "[X]:1-3:0-4 ||| [X]:1-1:0-2 [X]:1-3:2-4\n",
      "[X]:1-3:0-3 ||| [X]:1-3:0-2 [X]:1-1:2-3\n",
      "[X]:1-3:0-3 ||| [X]:1-1:0-1 [X]:1-3:1-3\n",
      "[X]:1-3:0-3 ||| [X]:2-3:0-2 [X]:1-2:2-3\n",
      "[X]:1-3:0-3 ||| [X]:2-3:0-1 [X]:1-2:1-3\n",
      "[X]:1-3:0-3 ||| [X]:1-2:0-2 [X]:2-3:2-3\n",
      "[X]:1-3:0-3 ||| [X]:1-2:0-1 [X]:2-3:1-3\n",
      "[X]:1-3:0-3 ||| [X]:1-3:0-2 [X]:3-3:2-3\n",
      "[X]:1-3:0-3 ||| [X]:3-3:0-1 [X]:1-3:1-3\n",
      "[X]:1-3:0-2 ||| [X]:1-2:0-1 [X]:2-3:1-2\n",
      "[X]:1-3:0-2 ||| [X]:2-3:0-1 [X]:1-2:1-2\n",
      "[X]:0-1:3-4 ||| [X]:1-1:3-4 [X]:0-1:4-4\n",
      "[X]:0-1:3-4 ||| [X]:0-1:3-3 [X]:1-1:3-4\n",
      "[X]:0-1:3-4 ||| [X]:0-0:3-4 [X]:0-1:4-4\n",
      "[X]:0-1:3-4 ||| [X]:0-1:3-3 [X]:0-0:3-4\n",
      "[X]:0-1:3-4 ||| 'the':0-1:3-4\n",
      "[X]:0-1:3-3 ||| '-EPS-':0-1:3-3\n",
      "[X]:0-2:0-3 ||| [X]:1-2:0-1 [X]:0-1:1-3\n",
      "[X]:0-2:0-3 ||| [X]:0-2:0-2 [X]:2-2:2-3\n",
      "[X]:0-2:0-3 ||| [X]:1-2:0-3 [X]:0-1:3-3\n",
      "[X]:0-2:0-3 ||| [X]:2-2:0-2 [X]:0-2:2-3\n",
      "[X]:0-2:0-3 ||| [X]:0-1:0-0 [X]:1-2:0-3\n",
      "[X]:0-2:0-3 ||| [X]:2-2:0-1 [X]:0-2:1-3\n",
      "[X]:0-2:0-3 ||| [X]:1-2:0-2 [X]:0-1:2-3\n",
      "[X]:0-2:0-3 ||| [X]:0-2:0-1 [X]:0-0:1-3\n",
      "[X]:0-2:0-3 ||| [X]:0-1:0-1 [X]:1-2:1-3\n",
      "[X]:0-2:0-3 ||| [X]:0-2:0-2 [X]:0-0:2-3\n",
      "[X]:0-2:0-3 ||| [X]:0-0:0-2 [X]:0-2:2-3\n",
      "[X]:0-2:0-3 ||| [X]:0-0:0-1 [X]:0-2:1-3\n",
      "[X]:0-2:0-3 ||| [X]:0-1:0-2 [X]:1-2:2-3\n",
      "[X]:0-2:0-3 ||| [X]:0-2:0-1 [X]:2-2:1-3\n",
      "[X]:0-2:0-4 ||| [X]:0-2:0-2 [X]:0-0:2-4\n",
      "[X]:0-2:0-4 ||| [X]:2-2:0-2 [X]:0-2:2-4\n",
      "[X]:0-2:0-4 ||| [X]:0-1:0-1 [X]:1-2:1-4\n",
      "[X]:0-2:0-4 ||| [X]:1-2:0-3 [X]:0-1:3-4\n",
      "[X]:0-2:0-4 ||| [X]:0-2:0-3 [X]:2-2:3-4\n",
      "[X]:0-2:0-4 ||| [X]:1-2:0-2 [X]:0-1:2-4\n",
      "[X]:0-2:0-4 ||| [X]:0-0:0-1 [X]:0-2:1-4\n",
      "[X]:0-2:0-4 ||| [X]:0-0:0-3 [X]:0-2:3-4\n",
      "[X]:0-2:0-4 ||| [X]:0-2:0-1 [X]:0-0:1-4\n",
      "[X]:0-2:0-4 ||| [X]:0-2:0-2 [X]:2-2:2-4\n",
      "[X]:0-2:0-4 ||| [X]:0-1:0-0 [X]:1-2:0-4\n",
      "[X]:0-2:0-4 ||| [X]:0-0:0-2 [X]:0-2:2-4\n",
      "[X]:0-2:0-4 ||| [X]:1-2:0-1 [X]:0-1:1-4\n",
      "[X]:0-2:0-4 ||| [X]:0-1:0-3 [X]:1-2:3-4\n",
      "[X]:0-2:0-4 ||| [X]:0-2:0-3 [X]:0-0:3-4\n",
      "[X]:0-2:0-4 ||| [X]:0-1:0-2 [X]:1-2:2-4\n",
      "[X]:0-2:0-4 ||| [X]:2-2:0-1 [X]:0-2:1-4\n",
      "[X]:0-2:0-4 ||| [X]:1-2:0-4 [X]:0-1:4-4\n",
      "[X]:0-2:0-4 ||| [X]:2-2:0-3 [X]:0-2:3-4\n",
      "[X]:0-2:0-4 ||| [X]:0-2:0-1 [X]:2-2:1-4\n",
      "[X]:0-2:0-2 ||| [X]:1-2:0-1 [X]:0-1:1-2\n",
      "[X]:0-2:0-2 ||| [X]:1-2:0-2 [X]:0-1:2-2\n",
      "[X]:0-2:0-2 ||| [X]:0-2:0-1 [X]:2-2:1-2\n",
      "[X]:0-2:0-2 ||| [X]:2-2:0-1 [X]:0-2:1-2\n",
      "[X]:0-2:0-2 ||| [X]:0-1:0-1 [X]:1-2:1-2\n",
      "[X]:0-2:0-2 ||| [X]:0-1:0-0 [X]:1-2:0-2\n",
      "[X]:0-2:0-2 ||| [X]:0-2:0-1 [X]:0-0:1-2\n",
      "[X]:0-2:0-2 ||| [X]:0-0:0-1 [X]:0-2:1-2\n",
      "[X]:0-2:0-1 ||| [X]:0-1:0-0 [X]:1-2:0-1\n",
      "[X]:0-2:0-1 ||| [X]:1-2:0-1 [X]:0-1:1-1\n",
      "[X]:2-3:3-4 ||| 'dark':2-3:3-4\n",
      "[X]:2-3:3-4 ||| 'black':2-3:3-4\n",
      "[X]:3-3:2-4 ||| [X]:3-3:2-3 [X]:3-3:3-4\n",
      "[X]:3-3:2-3 ||| 'a':3-3:2-3\n",
      "[X]:3-3:2-3 ||| 'the':3-3:2-3\n",
      "[X]:0-1:0-3 ||| [X]:0-1:0-1 [X]:1-1:1-3\n",
      "[X]:0-1:0-3 ||| [X]:0-1:0-0 [X]:0-0:0-3\n",
      "[X]:0-1:0-3 ||| [X]:0-1:0-2 [X]:0-0:2-3\n",
      "[X]:0-1:0-3 ||| [X]:1-1:0-3 [X]:0-1:3-3\n",
      "[X]:0-1:0-3 ||| [X]:0-1:0-1 [X]:0-0:1-3\n",
      "[X]:0-1:0-3 ||| [X]:1-1:0-2 [X]:0-1:2-3\n",
      "[X]:0-1:0-3 ||| [X]:1-1:0-1 [X]:0-1:1-3\n",
      "[X]:0-1:0-3 ||| [X]:0-1:0-2 [X]:1-1:2-3\n",
      "[X]:0-1:0-3 ||| [X]:0-0:0-2 [X]:0-1:2-3\n",
      "[X]:0-1:0-3 ||| [X]:0-1:0-0 [X]:1-1:0-3\n",
      "[X]:0-1:0-3 ||| [X]:0-0:0-1 [X]:0-1:1-3\n",
      "[X]:0-1:0-3 ||| [X]:0-0:0-3 [X]:0-1:3-3\n",
      "[X]:0-1:0-4 ||| [X]:0-1:0-0 [X]:1-1:0-4\n",
      "[X]:0-1:0-4 ||| [X]:0-1:0-3 [X]:1-1:3-4\n",
      "[X]:0-1:0-4 ||| [X]:1-1:0-4 [X]:0-1:4-4\n",
      "[X]:0-1:0-4 ||| [X]:1-1:0-2 [X]:0-1:2-4\n",
      "[X]:0-1:0-4 ||| [X]:0-1:0-2 [X]:1-1:2-4\n",
      "[X]:0-1:0-4 ||| [X]:0-0:0-1 [X]:0-1:1-4\n",
      "[X]:0-1:0-4 ||| [X]:0-0:0-3 [X]:0-1:3-4\n",
      "[X]:0-1:0-4 ||| [X]:0-1:0-0 [X]:0-0:0-4\n",
      "[X]:0-1:0-4 ||| [X]:0-0:0-2 [X]:0-1:2-4\n",
      "[X]:0-1:0-4 ||| [X]:0-1:0-1 [X]:1-1:1-4\n",
      "[X]:0-1:0-4 ||| [X]:1-1:0-1 [X]:0-1:1-4\n",
      "[X]:0-1:0-4 ||| [X]:0-1:0-3 [X]:0-0:3-4\n",
      "[X]:0-1:0-4 ||| [X]:0-0:0-4 [X]:0-1:4-4\n",
      "[X]:0-1:0-4 ||| [X]:0-1:0-2 [X]:0-0:2-4\n",
      "[X]:0-1:0-4 ||| [X]:1-1:0-3 [X]:0-1:3-4\n",
      "[X]:0-1:0-4 ||| [X]:0-1:0-1 [X]:0-0:1-4\n",
      "[X]:0-1:0-2 ||| [X]:0-1:0-1 [X]:1-1:1-2\n",
      "[X]:0-1:0-2 ||| [X]:1-1:0-2 [X]:0-1:2-2\n",
      "[X]:0-1:0-2 ||| [X]:0-1:0-0 [X]:1-1:0-2\n",
      "[X]:0-1:0-2 ||| [X]:0-0:0-2 [X]:0-1:2-2\n",
      "[X]:0-1:0-2 ||| [X]:0-1:0-0 [X]:0-0:0-2\n",
      "[X]:0-1:0-2 ||| [X]:1-1:0-1 [X]:0-1:1-2\n",
      "[X]:0-1:0-2 ||| [X]:0-1:0-1 [X]:0-0:1-2\n",
      "[X]:0-1:0-2 ||| [X]:0-0:0-1 [X]:0-1:1-2\n",
      "[X]:0-1:0-1 ||| [X]:0-1:0-0 [X]:0-0:0-1\n",
      "[X]:0-1:0-1 ||| 'the':0-1:0-1\n",
      "[X]:0-1:0-1 ||| [X]:0-0:0-1 [X]:0-1:1-1\n",
      "[X]:0-1:0-1 ||| [X]:1-1:0-1 [X]:0-1:1-1\n",
      "[X]:0-1:0-1 ||| [X]:0-1:0-0 [X]:1-1:0-1\n",
      "[X]:0-1:0-0 ||| '-EPS-':0-1:0-0\n",
      "[X]:3-3:0-4 ||| [X]:3-3:0-3 [X]:3-3:3-4\n",
      "[X]:3-3:0-4 ||| [X]:3-3:0-2 [X]:3-3:2-4\n",
      "[X]:3-3:0-4 ||| [X]:3-3:0-1 [X]:3-3:1-4\n",
      "[X]:3-3:0-1 ||| 'the':3-3:0-1\n",
      "[X]:3-3:0-1 ||| 'a':3-3:0-1\n",
      "[X]:3-3:0-2 ||| [X]:3-3:0-1 [X]:3-3:1-2\n",
      "[X]:3-3:0-3 ||| [X]:3-3:0-2 [X]:3-3:2-3\n",
      "[X]:3-3:0-3 ||| [X]:3-3:0-1 [X]:3-3:1-3\n",
      "[X]:0-3:1-3 ||| [X]:2-3:1-2 [X]:0-2:2-3\n",
      "[X]:0-3:1-3 ||| [X]:0-2:1-2 [X]:2-3:2-3\n",
      "[X]:0-3:1-3 ||| [X]:1-3:1-3 [X]:0-1:3-3\n",
      "[X]:0-3:1-3 ||| [X]:0-1:1-1 [X]:1-3:1-3\n",
      "[X]:0-3:1-4 ||| [X]:1-3:1-3 [X]:0-1:3-4\n",
      "[X]:0-3:1-4 ||| [X]:0-1:1-2 [X]:1-3:2-4\n",
      "[X]:0-3:1-4 ||| [X]:0-1:1-1 [X]:1-3:1-4\n",
      "[X]:0-3:1-4 ||| [X]:3-3:1-2 [X]:0-3:2-4\n",
      "[X]:0-3:1-4 ||| [X]:0-0:1-2 [X]:0-3:2-4\n",
      "[X]:0-3:1-4 ||| [X]:0-3:1-3 [X]:3-3:3-4\n",
      "[X]:0-3:1-4 ||| [X]:0-2:1-3 [X]:2-3:3-4\n",
      "[X]:0-3:1-4 ||| [X]:2-3:1-3 [X]:0-2:3-4\n",
      "[X]:0-3:1-4 ||| [X]:0-2:1-2 [X]:2-3:2-4\n",
      "[X]:0-3:1-4 ||| [X]:2-3:1-2 [X]:0-2:2-4\n",
      "[X]:0-3:1-4 ||| [X]:0-3:1-3 [X]:0-0:3-4\n",
      "[X]:0-3:1-4 ||| [X]:1-3:1-4 [X]:0-1:4-4\n",
      "[X]:0-1:4-4 ||| '-EPS-':0-1:4-4\n",
      "[X]:0-0:2-3 ||| 'the':0-0:2-3\n",
      "[X]:0-0:2-3 ||| 'a':0-0:2-3\n",
      "[X]:0-0:2-4 ||| [X]:0-0:2-3 [X]:0-0:3-4\n",
      "[X]:2-3:2-3 ||| 'dark':2-3:2-3\n",
      "[X]:2-3:2-3 ||| 'black':2-3:2-3\n",
      "[X]:2-3:2-4 ||| [X]:2-3:2-3 [X]:3-3:3-4\n",
      "[X]:2-3:2-4 ||| [X]:2-2:2-3 [X]:2-3:3-4\n",
      "[X]:2-3:2-4 ||| [X]:2-3:2-3 [X]:2-2:3-4\n",
      "[X]:2-3:2-4 ||| [X]:3-3:2-3 [X]:2-3:3-4\n",
      "[X]:0-0:0-4 ||| [X]:0-0:0-2 [X]:0-0:2-4\n",
      "[X]:0-0:0-4 ||| [X]:0-0:0-1 [X]:0-0:1-4\n",
      "[X]:0-0:0-4 ||| [X]:0-0:0-3 [X]:0-0:3-4\n",
      "[X]:0-0:0-2 ||| [X]:0-0:0-1 [X]:0-0:1-2\n",
      "[X]:0-0:0-3 ||| [X]:0-0:0-2 [X]:0-0:2-3\n",
      "[X]:0-0:0-3 ||| [X]:0-0:0-1 [X]:0-0:1-3\n",
      "[X]:0-0:0-1 ||| 'the':0-0:0-1\n",
      "[X]:0-0:0-1 ||| 'a':0-0:0-1\n",
      "[X]:0-3:2-4 ||| [X]:1-3:2-4 [X]:0-1:4-4\n",
      "[X]:0-3:2-4 ||| [X]:2-3:2-3 [X]:0-2:3-4\n",
      "[X]:0-3:2-4 ||| [X]:0-1:2-2 [X]:1-3:2-4\n",
      "[X]:0-3:2-4 ||| [X]:0-2:2-3 [X]:2-3:3-4\n",
      "[X]:3-3:3-4 ||| 'a':3-3:3-4\n",
      "[X]:3-3:3-4 ||| 'the':3-3:3-4\n",
      "[X]:2-3:1-3 ||| [X]:2-2:1-2 [X]:2-3:2-3\n",
      "[X]:2-3:1-3 ||| [X]:2-3:1-2 [X]:3-3:2-3\n",
      "[X]:2-3:1-3 ||| [X]:2-3:1-2 [X]:2-2:2-3\n",
      "[X]:2-3:1-3 ||| [X]:3-3:1-2 [X]:2-3:2-3\n",
      "[X]:2-3:1-2 ||| 'dark':2-3:1-2\n",
      "[X]:2-3:1-2 ||| 'black':2-3:1-2\n",
      "[X]:2-3:1-4 ||| [X]:3-3:1-3 [X]:2-3:3-4\n",
      "[X]:2-3:1-4 ||| [X]:2-2:1-3 [X]:2-3:3-4\n",
      "[X]:2-3:1-4 ||| [X]:3-3:1-2 [X]:2-3:2-4\n",
      "[X]:2-3:1-4 ||| [X]:2-2:1-2 [X]:2-3:2-4\n",
      "[X]:2-3:1-4 ||| [X]:2-3:1-3 [X]:3-3:3-4\n",
      "[X]:2-3:1-4 ||| [X]:2-3:1-2 [X]:3-3:2-4\n",
      "[X]:2-3:1-4 ||| [X]:2-3:1-3 [X]:2-2:3-4\n",
      "[X]:2-3:1-4 ||| [X]:2-3:1-2 [X]:2-2:2-4\n",
      "[X]:0-2:3-4 ||| [X]:0-1:3-3 [X]:1-2:3-4\n",
      "[X]:0-2:3-4 ||| [X]:1-2:3-4 [X]:0-1:4-4\n",
      "[X]:1-3:1-4 ||| [X]:3-3:1-2 [X]:1-3:2-4\n",
      "[X]:1-3:1-4 ||| [X]:1-3:1-3 [X]:3-3:3-4\n",
      "[X]:1-3:1-4 ||| [X]:1-1:1-2 [X]:1-3:2-4\n",
      "[X]:1-3:1-4 ||| [X]:2-3:1-3 [X]:1-2:3-4\n",
      "[X]:1-3:1-4 ||| [X]:1-3:1-3 [X]:1-1:3-4\n",
      "[X]:1-3:1-4 ||| [X]:1-2:1-3 [X]:2-3:3-4\n",
      "[X]:1-3:1-4 ||| [X]:2-3:1-2 [X]:1-2:2-4\n",
      "[X]:1-3:1-4 ||| [X]:1-2:1-2 [X]:2-3:2-4\n",
      "[X]:1-3:1-3 ||| [X]:2-3:1-2 [X]:1-2:2-3\n",
      "[X]:1-3:1-3 ||| [X]:1-2:1-2 [X]:2-3:2-3\n",
      "[X]:0-1:2-3 ||| [X]:1-1:2-3 [X]:0-1:3-3\n",
      "[X]:0-1:2-3 ||| 'the':0-1:2-3\n",
      "[X]:0-1:2-3 ||| [X]:0-1:2-2 [X]:1-1:2-3\n",
      "[X]:0-1:2-3 ||| [X]:0-1:2-2 [X]:0-0:2-3\n",
      "[X]:0-1:2-3 ||| [X]:0-0:2-3 [X]:0-1:3-3\n",
      "[X]:0-1:2-4 ||| [X]:0-0:2-3 [X]:0-1:3-4\n",
      "[X]:0-1:2-4 ||| [X]:1-1:2-4 [X]:0-1:4-4\n",
      "[X]:0-1:2-4 ||| [X]:0-0:2-4 [X]:0-1:4-4\n",
      "[X]:0-1:2-4 ||| [X]:0-1:2-3 [X]:1-1:3-4\n",
      "[X]:0-1:2-4 ||| [X]:0-1:2-3 [X]:0-0:3-4\n",
      "[X]:0-1:2-4 ||| [X]:0-1:2-2 [X]:1-1:2-4\n",
      "[X]:0-1:2-4 ||| [X]:1-1:2-3 [X]:0-1:3-4\n",
      "[X]:0-1:2-4 ||| [X]:0-1:2-2 [X]:0-0:2-4\n",
      "[X]:0-1:2-2 ||| '-EPS-':0-1:2-2\n",
      "[X]:0-0:3-4 ||| 'the':0-0:3-4\n",
      "[X]:0-0:3-4 ||| 'a':0-0:3-4\n",
      "[X]:0-2:2-4 ||| [X]:1-2:2-3 [X]:0-1:3-4\n",
      "[X]:0-2:2-4 ||| [X]:0-0:2-3 [X]:0-2:3-4\n",
      "[X]:0-2:2-4 ||| [X]:0-1:2-3 [X]:1-2:3-4\n",
      "[X]:0-2:2-4 ||| [X]:1-2:2-4 [X]:0-1:4-4\n",
      "[X]:0-2:2-4 ||| [X]:2-2:2-3 [X]:0-2:3-4\n",
      "[X]:0-2:2-4 ||| [X]:0-1:2-2 [X]:1-2:2-4\n",
      "[X]:0-2:2-4 ||| [X]:0-2:2-3 [X]:0-0:3-4\n",
      "[X]:0-2:2-4 ||| [X]:0-2:2-3 [X]:2-2:3-4\n",
      "[X]:0-2:2-3 ||| [X]:0-1:2-2 [X]:1-2:2-3\n",
      "[X]:0-2:2-3 ||| [X]:1-2:2-3 [X]:0-1:3-3\n",
      "[X]:1-3:2-4 ||| [X]:2-3:2-3 [X]:1-2:3-4\n",
      "[X]:1-3:2-4 ||| [X]:1-2:2-3 [X]:2-3:3-4\n",
      "[X]:3-3:1-2 ||| 'the':3-3:1-2\n",
      "[X]:3-3:1-2 ||| 'a':3-3:1-2\n",
      "[X]:3-3:1-4 ||| [X]:3-3:1-3 [X]:3-3:3-4\n",
      "[X]:3-3:1-4 ||| [X]:3-3:1-2 [X]:3-3:2-4\n",
      "[X]:3-3:1-3 ||| [X]:3-3:1-2 [X]:3-3:2-3\n",
      "[X]:2-2:0-4 ||| [X]:2-2:0-2 [X]:2-2:2-4\n",
      "[X]:2-2:0-4 ||| [X]:2-2:0-1 [X]:2-2:1-4\n",
      "[X]:2-2:0-4 ||| [X]:2-2:0-3 [X]:2-2:3-4\n",
      "[X]:2-2:0-1 ||| 'the':2-2:0-1\n",
      "[X]:2-2:0-1 ||| 'a':2-2:0-1\n",
      "[X]:2-2:0-2 ||| [X]:2-2:0-1 [X]:2-2:1-2\n",
      "[X]:2-2:0-3 ||| [X]:2-2:0-2 [X]:2-2:2-3\n",
      "[X]:2-2:0-3 ||| [X]:2-2:0-1 [X]:2-2:1-3\n",
      "[X]:2-2:3-4 ||| 'the':2-2:3-4\n",
      "[X]:2-2:3-4 ||| 'a':2-2:3-4\n",
      "[X]:2-2:1-2 ||| 'a':2-2:1-2\n",
      "[X]:2-2:1-2 ||| 'the':2-2:1-2\n",
      "[X]:2-2:1-4 ||| [X]:2-2:1-3 [X]:2-2:3-4\n",
      "[X]:2-2:1-4 ||| [X]:2-2:1-2 [X]:2-2:2-4\n",
      "[X]:2-2:1-3 ||| [X]:2-2:1-2 [X]:2-2:2-3\n",
      "[X]:2-2:2-3 ||| 'the':2-2:2-3\n",
      "[X]:2-2:2-3 ||| 'a':2-2:2-3\n",
      "[X]:2-2:2-4 ||| [X]:2-2:2-3 [X]:2-2:3-4\n",
      "[X]:0-1:1-3 ||| [X]:1-1:1-3 [X]:0-1:3-3\n",
      "[X]:0-1:1-3 ||| [X]:0-0:1-2 [X]:0-1:2-3\n",
      "[X]:0-1:1-3 ||| [X]:0-0:1-3 [X]:0-1:3-3\n",
      "[X]:0-1:1-3 ||| [X]:0-1:1-2 [X]:1-1:2-3\n",
      "[X]:0-1:1-3 ||| [X]:0-1:1-1 [X]:0-0:1-3\n",
      "[X]:0-1:1-3 ||| [X]:0-1:1-2 [X]:0-0:2-3\n",
      "[X]:0-1:1-3 ||| [X]:1-1:1-2 [X]:0-1:2-3\n",
      "[X]:0-1:1-3 ||| [X]:0-1:1-1 [X]:1-1:1-3\n",
      "[X]:0-1:1-4 ||| [X]:1-1:1-3 [X]:0-1:3-4\n",
      "[X]:0-1:1-4 ||| [X]:0-1:1-2 [X]:1-1:2-4\n",
      "[X]:0-1:1-4 ||| [X]:1-1:1-2 [X]:0-1:2-4\n",
      "[X]:0-1:1-4 ||| [X]:0-1:1-1 [X]:0-0:1-4\n",
      "[X]:0-1:1-4 ||| [X]:0-1:1-2 [X]:0-0:2-4\n",
      "[X]:0-1:1-4 ||| [X]:0-1:1-3 [X]:1-1:3-4\n",
      "[X]:0-1:1-4 ||| [X]:1-1:1-4 [X]:0-1:4-4\n",
      "[X]:0-1:1-4 ||| [X]:0-0:1-3 [X]:0-1:3-4\n",
      "[X]:0-1:1-4 ||| [X]:0-1:1-1 [X]:1-1:1-4\n",
      "[X]:0-1:1-4 ||| [X]:0-0:1-2 [X]:0-1:2-4\n",
      "[X]:0-1:1-4 ||| [X]:0-0:1-4 [X]:0-1:4-4\n",
      "[X]:0-1:1-4 ||| [X]:0-1:1-3 [X]:0-0:3-4\n",
      "[X]:0-1:1-1 ||| '-EPS-':0-1:1-1\n",
      "[X]:0-1:1-2 ||| [X]:0-1:1-1 [X]:0-0:1-2\n",
      "[X]:0-1:1-2 ||| [X]:1-1:1-2 [X]:0-1:2-2\n",
      "[X]:0-1:1-2 ||| [X]:0-0:1-2 [X]:0-1:2-2\n",
      "[X]:0-1:1-2 ||| [X]:0-1:1-1 [X]:1-1:1-2\n",
      "[X]:0-1:1-2 ||| 'the':0-1:1-2\n",
      "[X]:1-2:2-4 ||| [X]:2-2:2-3 [X]:1-2:3-4\n",
      "[X]:1-2:2-4 ||| [X]:1-2:2-3 [X]:1-1:3-4\n",
      "[X]:1-2:2-4 ||| [X]:1-2:2-3 [X]:2-2:3-4\n",
      "[X]:1-2:2-4 ||| [X]:1-1:2-3 [X]:1-2:3-4\n",
      "[X]:1-2:2-3 ||| 'dog':1-2:2-3\n",
      "[X]:1-2:3-4 ||| 'dog':1-2:3-4\n",
      "[X]:1-2:1-3 ||| [X]:2-2:1-2 [X]:1-2:2-3\n",
      "[X]:1-2:1-3 ||| [X]:1-2:1-2 [X]:1-1:2-3\n",
      "[X]:1-2:1-3 ||| [X]:1-2:1-2 [X]:2-2:2-3\n",
      "[X]:1-2:1-3 ||| [X]:1-1:1-2 [X]:1-2:2-3\n",
      "[X]:1-2:1-4 ||| [X]:2-2:1-3 [X]:1-2:3-4\n",
      "[X]:1-2:1-4 ||| [X]:1-2:1-3 [X]:1-1:3-4\n",
      "[X]:1-2:1-4 ||| [X]:1-1:1-3 [X]:1-2:3-4\n",
      "[X]:1-2:1-4 ||| [X]:2-2:1-2 [X]:1-2:2-4\n",
      "[X]:1-2:1-4 ||| [X]:1-2:1-2 [X]:1-1:2-4\n",
      "[X]:1-2:1-4 ||| [X]:1-1:1-2 [X]:1-2:2-4\n",
      "[X]:1-2:1-4 ||| [X]:1-2:1-3 [X]:2-2:3-4\n",
      "[X]:1-2:1-4 ||| [X]:1-2:1-2 [X]:2-2:2-4\n",
      "[X]:1-2:1-2 ||| 'dog':1-2:1-2\n",
      "[X]:0-0:1-4 ||| [X]:0-0:1-3 [X]:0-0:3-4\n",
      "[X]:0-0:1-4 ||| [X]:0-0:1-2 [X]:0-0:2-4\n",
      "[X]:0-0:1-3 ||| [X]:0-0:1-2 [X]:0-0:2-3\n",
      "[X]:0-0:1-2 ||| 'a':0-0:1-2\n",
      "[X]:0-0:1-2 ||| 'the':0-0:1-2\n",
      "[X]:1-1:2-4 ||| [X]:1-1:2-3 [X]:1-1:3-4\n",
      "[X]:1-1:2-3 ||| 'the':1-1:2-3\n",
      "[X]:1-1:2-3 ||| 'a':1-1:2-3\n",
      "[X]:1-2:0-3 ||| [X]:1-2:0-2 [X]:2-2:2-3\n",
      "[X]:1-2:0-3 ||| [X]:2-2:0-2 [X]:1-2:2-3\n",
      "[X]:1-2:0-3 ||| [X]:2-2:0-1 [X]:1-2:1-3\n",
      "[X]:1-2:0-3 ||| [X]:1-2:0-1 [X]:2-2:1-3\n",
      "[X]:1-2:0-3 ||| [X]:1-2:0-1 [X]:1-1:1-3\n",
      "[X]:1-2:0-3 ||| [X]:1-1:0-2 [X]:1-2:2-3\n",
      "[X]:1-2:0-3 ||| [X]:1-2:0-2 [X]:1-1:2-3\n",
      "[X]:1-2:0-3 ||| [X]:1-1:0-1 [X]:1-2:1-3\n",
      "[X]:1-2:0-4 ||| [X]:2-2:0-2 [X]:1-2:2-4\n",
      "[X]:1-2:0-4 ||| [X]:1-2:0-1 [X]:1-1:1-4\n",
      "[X]:1-2:0-4 ||| [X]:1-1:0-1 [X]:1-2:1-4\n",
      "[X]:1-2:0-4 ||| [X]:1-1:0-3 [X]:1-2:3-4\n",
      "[X]:1-2:0-4 ||| [X]:1-2:0-3 [X]:2-2:3-4\n",
      "[X]:1-2:0-4 ||| [X]:1-2:0-3 [X]:1-1:3-4\n",
      "[X]:1-2:0-4 ||| [X]:1-2:0-2 [X]:2-2:2-4\n",
      "[X]:1-2:0-4 ||| [X]:1-1:0-2 [X]:1-2:2-4\n",
      "[X]:1-2:0-4 ||| [X]:1-2:0-2 [X]:1-1:2-4\n",
      "[X]:1-2:0-4 ||| [X]:2-2:0-1 [X]:1-2:1-4\n",
      "[X]:1-2:0-4 ||| [X]:2-2:0-3 [X]:1-2:3-4\n",
      "[X]:1-2:0-4 ||| [X]:1-2:0-1 [X]:2-2:1-4\n",
      "[X]:1-2:0-2 ||| [X]:1-1:0-1 [X]:1-2:1-2\n",
      "[X]:1-2:0-2 ||| [X]:2-2:0-1 [X]:1-2:1-2\n",
      "[X]:1-2:0-2 ||| [X]:1-2:0-1 [X]:1-1:1-2\n",
      "[X]:1-2:0-2 ||| [X]:1-2:0-1 [X]:2-2:1-2\n",
      "[X]:1-2:0-1 ||| 'dog':1-2:0-1\n",
      "[X]:1-1:0-4 ||| [X]:1-1:0-1 [X]:1-1:1-4\n",
      "[X]:1-1:0-4 ||| [X]:1-1:0-2 [X]:1-1:2-4\n",
      "[X]:1-1:0-4 ||| [X]:1-1:0-3 [X]:1-1:3-4\n",
      "[X]:1-1:0-1 ||| 'a':1-1:0-1\n",
      "[X]:1-1:0-1 ||| 'the':1-1:0-1\n",
      "[X]:1-1:0-2 ||| [X]:1-1:0-1 [X]:1-1:1-2\n",
      "[X]:1-1:0-3 ||| [X]:1-1:0-2 [X]:1-1:2-3\n",
      "[X]:1-1:0-3 ||| [X]:1-1:0-1 [X]:1-1:1-3\n",
      "[X]:1-1:3-4 ||| 'the':1-1:3-4\n",
      "[X]:1-1:3-4 ||| 'a':1-1:3-4\n",
      "[X]:1-1:1-4 ||| [X]:1-1:1-3 [X]:1-1:3-4\n",
      "[X]:1-1:1-4 ||| [X]:1-1:1-2 [X]:1-1:2-4\n",
      "[X]:1-1:1-2 ||| 'a':1-1:1-2\n",
      "[X]:1-1:1-2 ||| 'the':1-1:1-2\n",
      "[X]:1-1:1-3 ||| [X]:1-1:1-2 [X]:1-1:2-3\n",
=======
      "[X]:0-2:1-3 ||| [X]:2-2:1-2 [X]:0-2:2-3\n",
      "[X]:0-2:1-2 ||| [X]:0-1:1-1 [X]:1-2:1-2\n",
      "[X]:0-2:1-2 ||| [X]:1-2:1-2 [X]:0-1:2-2\n",
      "[X]:0-2:1-4 ||| [X]:1-2:1-4 [X]:0-1:4-4\n",
      "[X]:0-2:1-4 ||| [X]:0-1:1-1 [X]:1-2:1-4\n",
      "[X]:0-2:1-4 ||| [X]:2-2:1-3 [X]:0-2:3-4\n",
      "[X]:0-2:1-4 ||| [X]:0-0:1-2 [X]:0-2:2-4\n",
      "[X]:0-2:1-4 ||| [X]:0-2:1-3 [X]:0-0:3-4\n",
      "[X]:0-2:1-4 ||| [X]:0-2:1-2 [X]:0-0:2-4\n",
      "[X]:0-2:1-4 ||| [X]:0-1:1-3 [X]:1-2:3-4\n",
      "[X]:0-2:1-4 ||| [X]:0-1:1-2 [X]:1-2:2-4\n",
      "[X]:0-2:1-4 ||| [X]:1-2:1-3 [X]:0-1:3-4\n",
      "[X]:0-2:1-4 ||| [X]:1-2:1-2 [X]:0-1:2-4\n",
      "[X]:0-2:1-4 ||| [X]:0-0:1-3 [X]:0-2:3-4\n",
      "[X]:0-2:1-4 ||| [X]:2-2:1-2 [X]:0-2:2-4\n",
      "[X]:0-2:1-4 ||| [X]:0-2:1-3 [X]:2-2:3-4\n",
      "[X]:0-2:1-4 ||| [X]:0-2:1-2 [X]:2-2:2-4\n",
      "[X]:2-3:3-4 ||| 'black':2-3:3-4\n",
      "[X]:2-3:3-4 ||| 'dark':2-3:3-4\n",
      "[X]:0-2:3-4 ||| [X]:0-1:3-3 [X]:1-2:3-4\n",
      "[X]:0-2:3-4 ||| [X]:1-2:3-4 [X]:0-1:4-4\n",
      "[X]:2-3:1-3 ||| [X]:2-3:1-2 [X]:2-2:2-3\n",
      "[X]:2-3:1-3 ||| [X]:3-3:1-2 [X]:2-3:2-3\n",
      "[X]:2-3:1-3 ||| [X]:2-2:1-2 [X]:2-3:2-3\n",
      "[X]:2-3:1-3 ||| [X]:2-3:1-2 [X]:3-3:2-3\n",
      "[X]:2-3:1-4 ||| [X]:2-3:1-3 [X]:3-3:3-4\n",
      "[X]:2-3:1-4 ||| [X]:2-3:1-3 [X]:2-2:3-4\n",
      "[X]:2-3:1-4 ||| [X]:3-3:1-3 [X]:2-3:3-4\n",
      "[X]:2-3:1-4 ||| [X]:2-3:1-2 [X]:3-3:2-4\n",
      "[X]:2-3:1-4 ||| [X]:2-3:1-2 [X]:2-2:2-4\n",
      "[X]:2-3:1-4 ||| [X]:3-3:1-2 [X]:2-3:2-4\n",
      "[X]:2-3:1-4 ||| [X]:2-2:1-3 [X]:2-3:3-4\n",
      "[X]:2-3:1-4 ||| [X]:2-2:1-2 [X]:2-3:2-4\n",
      "[X]:2-3:1-2 ||| 'dark':2-3:1-2\n",
      "[X]:2-3:1-2 ||| 'black':2-3:1-2\n",
      "[X]:0-2:2-4 ||| [X]:2-2:2-3 [X]:0-2:3-4\n",
      "[X]:0-2:2-4 ||| [X]:0-0:2-3 [X]:0-2:3-4\n",
      "[X]:0-2:2-4 ||| [X]:0-1:2-3 [X]:1-2:3-4\n",
      "[X]:0-2:2-4 ||| [X]:0-2:2-3 [X]:0-0:3-4\n",
      "[X]:0-2:2-4 ||| [X]:0-2:2-3 [X]:2-2:3-4\n",
      "[X]:0-2:2-4 ||| [X]:0-1:2-2 [X]:1-2:2-4\n",
      "[X]:0-2:2-4 ||| [X]:1-2:2-4 [X]:0-1:4-4\n",
      "[X]:0-2:2-4 ||| [X]:1-2:2-3 [X]:0-1:3-4\n",
      "[X]:0-2:2-3 ||| [X]:0-1:2-2 [X]:1-2:2-3\n",
      "[X]:0-2:2-3 ||| [X]:1-2:2-3 [X]:0-1:3-3\n",
      "[X]:0-0:2-3 ||| 'a':0-0:2-3\n",
      "[X]:0-0:2-3 ||| 'the':0-0:2-3\n",
      "[X]:0-0:2-4 ||| [X]:0-0:2-3 [X]:0-0:3-4\n",
      "[X]:1-3:2-4 ||| [X]:1-2:2-3 [X]:2-3:3-4\n",
      "[X]:1-3:2-4 ||| [X]:2-3:2-3 [X]:1-2:3-4\n",
      "[X]:3-3:3-4 ||| 'a':3-3:3-4\n",
      "[X]:3-3:3-4 ||| 'the':3-3:3-4\n",
      "[X]:0-1:4-4 ||| '-EPS-':0-1:4-4\n",
      "[X]:1-1:0-1 ||| 'a':1-1:0-1\n",
      "[X]:1-1:0-1 ||| 'the':1-1:0-1\n",
      "[X]:1-1:0-3 ||| [X]:1-1:0-1 [X]:1-1:1-3\n",
      "[X]:1-1:0-3 ||| [X]:1-1:0-2 [X]:1-1:2-3\n",
      "[X]:1-1:0-2 ||| [X]:1-1:0-1 [X]:1-1:1-2\n",
      "[X]:1-1:0-4 ||| [X]:1-1:0-2 [X]:1-1:2-4\n",
      "[X]:1-1:0-4 ||| [X]:1-1:0-1 [X]:1-1:1-4\n",
      "[X]:1-1:0-4 ||| [X]:1-1:0-3 [X]:1-1:3-4\n",
      "[X]:1-1:2-4 ||| [X]:1-1:2-3 [X]:1-1:3-4\n",
      "[X]:1-1:2-3 ||| 'a':1-1:2-3\n",
      "[X]:1-1:2-3 ||| 'the':1-1:2-3\n",
      "[X]:0-1:1-3 ||| [X]:0-1:1-2 [X]:1-1:2-3\n",
      "[X]:0-1:1-3 ||| [X]:1-1:1-2 [X]:0-1:2-3\n",
      "[X]:0-1:1-3 ||| [X]:0-0:1-3 [X]:0-1:3-3\n",
      "[X]:0-1:1-3 ||| [X]:0-1:1-1 [X]:0-0:1-3\n",
      "[X]:0-1:1-3 ||| [X]:1-1:1-3 [X]:0-1:3-3\n",
      "[X]:0-1:1-3 ||| [X]:0-1:1-2 [X]:0-0:2-3\n",
      "[X]:0-1:1-3 ||| [X]:0-0:1-2 [X]:0-1:2-3\n",
      "[X]:0-1:1-3 ||| [X]:0-1:1-1 [X]:1-1:1-3\n",
      "[X]:0-1:1-2 ||| [X]:0-0:1-2 [X]:0-1:2-2\n",
      "[X]:0-1:1-2 ||| [X]:1-1:1-2 [X]:0-1:2-2\n",
      "[X]:0-1:1-2 ||| [X]:0-1:1-1 [X]:0-0:1-2\n",
      "[X]:0-1:1-2 ||| [X]:0-1:1-1 [X]:1-1:1-2\n",
      "[X]:0-1:1-2 ||| 'the':0-1:1-2\n",
      "[X]:0-1:1-4 ||| [X]:0-0:1-3 [X]:0-1:3-4\n",
      "[X]:0-1:1-4 ||| [X]:1-1:1-2 [X]:0-1:2-4\n",
      "[X]:0-1:1-4 ||| [X]:0-1:1-3 [X]:0-0:3-4\n",
      "[X]:0-1:1-4 ||| [X]:0-1:1-2 [X]:0-0:2-4\n",
      "[X]:0-1:1-4 ||| [X]:0-0:1-4 [X]:0-1:4-4\n",
      "[X]:0-1:1-4 ||| [X]:0-1:1-1 [X]:0-0:1-4\n",
      "[X]:0-1:1-4 ||| [X]:0-1:1-1 [X]:1-1:1-4\n",
      "[X]:0-1:1-4 ||| [X]:0-0:1-2 [X]:0-1:2-4\n",
      "[X]:0-1:1-4 ||| [X]:1-1:1-3 [X]:0-1:3-4\n",
      "[X]:0-1:1-4 ||| [X]:1-1:1-4 [X]:0-1:4-4\n",
      "[X]:0-1:1-4 ||| [X]:0-1:1-3 [X]:1-1:3-4\n",
      "[X]:0-1:1-4 ||| [X]:0-1:1-2 [X]:1-1:2-4\n",
      "[X]:0-1:1-1 ||| '-EPS-':0-1:1-1\n",
      "[X]:0-0:1-4 ||| [X]:0-0:1-2 [X]:0-0:2-4\n",
      "[X]:0-0:1-4 ||| [X]:0-0:1-3 [X]:0-0:3-4\n",
      "[X]:0-0:1-3 ||| [X]:0-0:1-2 [X]:0-0:2-3\n",
      "[X]:0-0:1-2 ||| 'the':0-0:1-2\n",
      "[X]:0-0:1-2 ||| 'a':0-0:1-2\n",
      "[X]:1-1:1-2 ||| 'a':1-1:1-2\n",
      "[X]:1-1:1-2 ||| 'the':1-1:1-2\n",
      "[X]:1-1:1-3 ||| [X]:1-1:1-2 [X]:1-1:2-3\n",
      "[X]:1-1:1-4 ||| [X]:1-1:1-3 [X]:1-1:3-4\n",
      "[X]:1-1:1-4 ||| [X]:1-1:1-2 [X]:1-1:2-4\n",
      "[X]:1-1:3-4 ||| 'a':1-1:3-4\n",
      "[X]:1-1:3-4 ||| 'the':1-1:3-4\n",
      "[X]:1-2:1-3 ||| [X]:1-2:1-2 [X]:2-2:2-3\n",
      "[X]:1-2:1-3 ||| [X]:2-2:1-2 [X]:1-2:2-3\n",
      "[X]:1-2:1-3 ||| [X]:1-2:1-2 [X]:1-1:2-3\n",
      "[X]:1-2:1-3 ||| [X]:1-1:1-2 [X]:1-2:2-3\n",
      "[X]:1-2:1-4 ||| [X]:1-2:1-3 [X]:2-2:3-4\n",
      "[X]:1-2:1-4 ||| [X]:1-2:1-3 [X]:1-1:3-4\n",
      "[X]:1-2:1-4 ||| [X]:1-2:1-2 [X]:2-2:2-4\n",
      "[X]:1-2:1-4 ||| [X]:1-2:1-2 [X]:1-1:2-4\n",
      "[X]:1-2:1-4 ||| [X]:2-2:1-3 [X]:1-2:3-4\n",
      "[X]:1-2:1-4 ||| [X]:2-2:1-2 [X]:1-2:2-4\n",
      "[X]:1-2:1-4 ||| [X]:1-1:1-3 [X]:1-2:3-4\n",
      "[X]:1-2:1-4 ||| [X]:1-1:1-2 [X]:1-2:2-4\n",
      "[X]:1-2:1-2 ||| 'dog':1-2:1-2\n",
      "[X]:1-2:0-4 ||| [X]:2-2:0-2 [X]:1-2:2-4\n",
      "[X]:1-2:0-4 ||| [X]:2-2:0-3 [X]:1-2:3-4\n",
      "[X]:1-2:0-4 ||| [X]:1-2:0-3 [X]:2-2:3-4\n",
      "[X]:1-2:0-4 ||| [X]:1-1:0-1 [X]:1-2:1-4\n",
      "[X]:1-2:0-4 ||| [X]:1-2:0-2 [X]:1-1:2-4\n",
      "[X]:1-2:0-4 ||| [X]:1-1:0-3 [X]:1-2:3-4\n",
      "[X]:1-2:0-4 ||| [X]:1-2:0-2 [X]:2-2:2-4\n",
      "[X]:1-2:0-4 ||| [X]:1-1:0-2 [X]:1-2:2-4\n",
      "[X]:1-2:0-4 ||| [X]:1-2:0-1 [X]:2-2:1-4\n",
      "[X]:1-2:0-4 ||| [X]:1-2:0-1 [X]:1-1:1-4\n",
      "[X]:1-2:0-4 ||| [X]:2-2:0-1 [X]:1-2:1-4\n",
      "[X]:1-2:0-4 ||| [X]:1-2:0-3 [X]:1-1:3-4\n",
      "[X]:1-2:0-3 ||| [X]:1-2:0-1 [X]:2-2:1-3\n",
      "[X]:1-2:0-3 ||| [X]:2-2:0-2 [X]:1-2:2-3\n",
      "[X]:1-2:0-3 ||| [X]:2-2:0-1 [X]:1-2:1-3\n",
      "[X]:1-2:0-3 ||| [X]:1-2:0-2 [X]:1-1:2-3\n",
      "[X]:1-2:0-3 ||| [X]:1-2:0-2 [X]:2-2:2-3\n",
      "[X]:1-2:0-3 ||| [X]:1-2:0-1 [X]:1-1:1-3\n",
      "[X]:1-2:0-3 ||| [X]:1-1:0-1 [X]:1-2:1-3\n",
      "[X]:1-2:0-3 ||| [X]:1-1:0-2 [X]:1-2:2-3\n",
      "[X]:1-2:0-2 ||| [X]:1-2:0-1 [X]:2-2:1-2\n",
      "[X]:1-2:0-2 ||| [X]:2-2:0-1 [X]:1-2:1-2\n",
      "[X]:1-2:0-2 ||| [X]:1-2:0-1 [X]:1-1:1-2\n",
      "[X]:1-2:0-2 ||| [X]:1-1:0-1 [X]:1-2:1-2\n",
      "[X]:1-2:0-1 ||| 'dog':1-2:0-1\n",
      "[X]:1-2:3-4 ||| 'dog':1-2:3-4\n",
      "[X]:1-2:2-4 ||| [X]:1-2:2-3 [X]:2-2:3-4\n",
      "[X]:1-2:2-4 ||| [X]:2-2:2-3 [X]:1-2:3-4\n",
      "[X]:1-2:2-4 ||| [X]:1-1:2-3 [X]:1-2:3-4\n",
      "[X]:1-2:2-4 ||| [X]:1-2:2-3 [X]:1-1:3-4\n",
      "[X]:1-2:2-3 ||| 'dog':1-2:2-3\n",
      "[X]:2-2:0-4 ||| [X]:2-2:0-1 [X]:2-2:1-4\n",
      "[X]:2-2:0-4 ||| [X]:2-2:0-3 [X]:2-2:3-4\n",
      "[X]:2-2:0-4 ||| [X]:2-2:0-2 [X]:2-2:2-4\n",
      "[X]:2-2:0-3 ||| [X]:2-2:0-1 [X]:2-2:1-3\n",
      "[X]:2-2:0-3 ||| [X]:2-2:0-2 [X]:2-2:2-3\n",
      "[X]:2-2:0-1 ||| 'the':2-2:0-1\n",
      "[X]:2-2:0-1 ||| 'a':2-2:0-1\n",
      "[X]:2-2:0-2 ||| [X]:2-2:0-1 [X]:2-2:1-2\n",
      "[X]:2-2:2-3 ||| 'the':2-2:2-3\n",
      "[X]:2-2:2-3 ||| 'a':2-2:2-3\n",
      "[X]:2-2:2-4 ||| [X]:2-2:2-3 [X]:2-2:3-4\n",
      "[X]:2-2:1-4 ||| [X]:2-2:1-2 [X]:2-2:2-4\n",
      "[X]:2-2:1-4 ||| [X]:2-2:1-3 [X]:2-2:3-4\n",
      "[X]:2-2:1-3 ||| [X]:2-2:1-2 [X]:2-2:2-3\n",
      "[X]:2-2:1-2 ||| 'the':2-2:1-2\n",
      "[X]:2-2:1-2 ||| 'a':2-2:1-2\n",
      "[X]:2-2:3-4 ||| 'the':2-2:3-4\n",
      "[X]:2-2:3-4 ||| 'a':2-2:3-4\n",
      "[X]:3-3:1-3 ||| [X]:3-3:1-2 [X]:3-3:2-3\n",
      "[X]:3-3:1-2 ||| 'a':3-3:1-2\n",
      "[X]:3-3:1-2 ||| 'the':3-3:1-2\n",
      "[X]:3-3:1-4 ||| [X]:3-3:1-3 [X]:3-3:3-4\n",
      "[X]:3-3:1-4 ||| [X]:3-3:1-2 [X]:3-3:2-4\n",
      "[D_n(x)] ||| [D(x)]:0-4\n",
>>>>>>> origin/master:LV-CRF-Roadmap.ipynb
      "[D_n(x)] ||| [D(x)]:0-2\n",
      "[D_n(x)] ||| [D(x)]:0-4\n",
      "[D_n(x)] ||| [D(x)]:0-3\n"
     ]
    }
   ],
   "source": [
    "target_forest = libitg.earley(projected_forest, length_fsa, \n",
    "                              start_symbol=Nonterminal(\"D(x)\"), \n",
    "                              sprime_symbol=Nonterminal(\"D_n(x)\"))\n",
    "print(target_forest)"
   ]
  },
  {
   "cell_type": "code",
<<<<<<< HEAD:LV-CRF-Roadmap-daan.ipynb
   "execution_count": 70,
=======
   "execution_count": 173,
>>>>>>> origin/master:LV-CRF-Roadmap.ipynb
   "metadata": {
    "collapsed": true
   },
   "outputs": [],
   "source": [
    "# this produces a super large FSA which enumerates the strings in the forest\n",
    "target_forest_as_fsa = libitg.forest_to_fsa(target_forest, Nonterminal('D_n(x)'))"
   ]
  },
  {
   "cell_type": "code",
<<<<<<< HEAD:LV-CRF-Roadmap-daan.ipynb
   "execution_count": 71,
=======
   "execution_count": 174,
>>>>>>> origin/master:LV-CRF-Roadmap.ipynb
   "metadata": {
    "scrolled": true
   },
   "outputs": [
    {
     "name": "stdout",
     "output_type": "stream",
     "text": [
      "a black\n",
      "a black dog\n",
      "a dark\n",
      "a dark dog\n",
      "black a\n",
      "black a dog\n",
      "black the\n",
      "black the dog\n",
      "dark a\n",
      "dark a dog\n",
      "dark the\n",
      "dark the dog\n",
      "dog black\n",
      "dog black a\n",
      "dog black the\n",
      "dog dark\n",
      "dog dark a\n",
      "dog dark the\n",
      "the black\n",
      "the black dog\n",
      "the dark\n",
      "the dark dog\n"
     ]
    }
   ],
   "source": [
    "# here we get the strings in a normal python set\n",
    "candidates = libitg.enumerate_paths_in_fsa(target_forest_as_fsa)\n",
    "for candidate in sorted(candidates):\n",
    "    print(candidate)"
   ]
  },
  {
   "cell_type": "code",
<<<<<<< HEAD:LV-CRF-Roadmap-daan.ipynb
   "execution_count": 72,
   "metadata": {
    "collapsed": false
   },
=======
   "execution_count": 175,
   "metadata": {},
>>>>>>> origin/master:LV-CRF-Roadmap.ipynb
   "outputs": [
    {
     "name": "stdout",
     "output_type": "stream",
     "text": [
<<<<<<< HEAD:LV-CRF-Roadmap-daan.ipynb
      "Strings in D_n(x): 28\n",
=======
      "Strings in D_n(x): 22\n",
>>>>>>> origin/master:LV-CRF-Roadmap.ipynb
      "Does D_n(x) contain the reference? yes\n"
     ]
    }
   ],
   "source": [
    "# Let's check how many string we got\n",
    "print('Strings in D_n(x): %d' % len(candidates))\n",
    "# and check whether the gold-standard reference is still in the set of candidates (it should be!)\n",
    "print('Does D_n(x) contain the reference? %s' % ('yes' if 'the black dog' in candidates else 'no'))"
   ]
  },
  {
   "cell_type": "markdown",
   "metadata": {},
   "source": [
    "# Model\n",
    "\n",
    "Earley parsing helped us instatiated the sets which will be support to our probability distribution, in particular,\n",
    "\n",
    "* \\\\(\\mathcal D_n(x)\\\\) will be support to our joint distribution \\\\(P(Y, D|X=x, N=n)\\\\)\n",
    "* \\\\(\\mathcal D(x, y)\\\\) will be support to our posterior distribution \\\\(P(D|X=x, Y=y, N=n)\\\\)\n",
    "\n",
    "and our joint distribution corresponds to \n",
    "\n",
    "\\begin{align}\n",
    "P(Y=y, D=d|X=x, N=n) &= \\frac{\\exp(w^\\top \\Phi(y, d, x, n))}{\\sum_{y' \\in \\mathcal Y_n(x)} \\sum_{d' \\in \\mathcal D(x, y)} \\exp(w^\\top \\Phi(y', d', x, n))} \\\\\n",
    " &= \\frac{\\exp(w^\\top \\Phi(y, d, x, n))}{\\sum_{d' \\in \\mathcal D_n(x)} \\exp(w^\\top \\Phi(y', d', x, n))}\n",
    "\\end{align}\n",
    "\n",
    "where\n",
    "\n",
    "* \\\\(\\Phi\\\\) is a feature function that maps any tuple \\\\(y, d, x, n\\\\) to \\\\(\\mathbb R^d\\\\)\n",
    "* \\\\(\\theta\\\\) is a weight vector in \\\\(\\mathbb R^d\\\\)\n",
    "* \\\\(\\mathcal Y_n(x)\\\\) is the set of translations of \\\\(x\\\\) that are at most \\\\(n\\\\)-words long\n",
    "* and the last equality is due to the fact that there is a deterministic mapping between a derivation and the string it projects on either language, that is, \\\\(y' = \\text{yield}_\\Delta(d')\\\\).\n",
    "\n",
    "In order to instantiate the joint distribution for the entire space \\\\(\\mathcal D_n(x)\\\\) we must use features that can be locally assigned to the steps of a derivation. This corresponds to the idea of having *local features* or *edge potentials*:\n",
    "\n",
    "\\begin{align}\n",
    "P(Y=y, D=d|X=x, N=n) \n",
    " &= \\frac{\\exp \\left( \\sum_{r_{s,t} \\in d} w^\\top \\phi(r, s, t, x, n) \\right)}{\\sum_{r_{s, t} \\in d' \\in \\mathcal D_n(x)} \\exp\\left( \\sum_c w^\\top \\phi(r, s, t, x, n) \\right)} \\\\\n",
    "\\end{align}\n",
    "\n",
    "where\n",
    "* a derivation is seen as a sequence of rules decorated with spans\n",
    "* \\\\(r_{s,t}\\\\) is a rule decorated with a source and a target span (in the code sometimes we call this an *edge*)\n",
    "* \\\\(\\phi\\\\) is a (local) feature function that maps any tuple \\\\((r, s, t, x, n)\\\\) to \\\\(\\mathbb R^d\\\\)\n",
    "* note that \\\\(\\Phi(y, d, x, n) = \\sum_{r_{s, t} \\in d} \\phi(r, s, t, x, n)\\\\)\n",
    "\n",
    "The formulation in terms of local potentials make it clear that in designing feature representations for derivations we have unrestricted access to \\\\(x\\\\), \\\\(n\\\\), the rule identiy \\\\(r\\\\), the source span \\\\(s\\\\) and the target span \\\\(t\\\\), but note that because we do not have unrestricted access to \\\\(y\\\\), the information that \\\\(t\\\\) provides is rather limited.\n",
    "\n",
    "* For example, knowing the rule `X_{1-3,1-3} -> X_{2-3,1-2} X_{1-2,2-3}` tells us that the LHS spans from 1 to 3 on the source. Suppose, we are translating \\\\(x\\\\) = `le chien noir`, then we know the the LHS projects onto `chien noir`, that it is prefixed by `BOS le` and followed by `EOS` (end-of-sentence). On the other hand, if we focus on the target span, we only know that we will produce up 2 words (because `3-1=2`) but we dont't know which words those are;\n",
    "* Another rule, `X_{2-3,1-2} -> noir/black` tells us a different story, it tells us that the lexical entry `noir` has been aligned to the lexical entry `black`, it also tell us about the positions where these words are, so we could for example compute a distortion feature similar to IBM2's jump value;\n",
    "* A rule, `X_{0-1,0-0} -> le/-EPS-` tells us that a deletion has happened;\n",
    "* Insertions can for example appear like this `X_{1-2,1-3} -> X_{1-1,1-2} X_{1-2,2-3}`, note that the first RHS symbol has an empty source span `1-1`, but the target span is longer than 0, this means an insertion has happened;\n",
    "* The rule `X_{1-3,1-3} -> X_{2-3,1-2} X_{1-2,2-3}` also tells us that we are making an inversion, note that the source spans are not adjacent, but rather flipped, e.g. 2-3 for the first RHS symbol and 1-2 for the second RHS symbol, we could have a feature capture that;\n",
    "\n",
    "After undestanding how to use the parser to get the relevant sets, you should focus on implement a feature function that can convert the information available on an edge into a sparse feature vector.\n",
    "\n",
    "We suggest you start with a very simple feature function that is mostly *dense*. This will make development a lot easier in the beginning. Here we show a minimal version of it.\n",
    "\n"
   ]
  },
  {
   "cell_type": "markdown",
   "metadata": {},
   "source": [
    "We start with some auxiliary code"
   ]
  },
  {
   "cell_type": "code",
<<<<<<< HEAD:LV-CRF-Roadmap-daan.ipynb
   "execution_count": 73,
=======
   "execution_count": 176,
>>>>>>> origin/master:LV-CRF-Roadmap.ipynb
   "metadata": {
    "collapsed": true
   },
   "outputs": [],
   "source": [
    "def get_terminal_string(symbol: Symbol):\n",
    "    \"\"\"Returns the python string underlying a certain terminal (thus unwrapping all span annotations)\"\"\"\n",
    "    if not symbol.is_terminal():\n",
    "        raise ValueError('I need a terminal, got %s of type %s' % (symbol, type(symbol)))\n",
    "    return symbol.root().obj()\n",
    "\n",
    "def get_bispans(symbol: Span):\n",
    "    \"\"\"\n",
    "    Returns the bispans associated with a symbol. \n",
    "    \n",
    "    The first span returned corresponds to paths in the source FSA (typically a span in the source sentence),\n",
    "     the second span returned corresponds to either\n",
    "        a) paths in the target FSA (typically a span in the target sentence)\n",
    "        or b) paths in the length FSA\n",
    "    depending on the forest where this symbol comes from.\n",
    "    \"\"\"\n",
    "    if not isinstance(symbol, Span):\n",
    "        raise ValueError('I need a span, got %s of type %s' % (symbol, type(symbol)))\n",
    "    s, start2, end2 = symbol.obj()  # this unwraps the target or length annotation\n",
    "    _, start1, end1 = s.obj()  # this unwraps the source annotation\n",
    "    return (start1, end1), (start2, end2)"
   ]
  },
  {
   "cell_type": "code",
<<<<<<< HEAD:LV-CRF-Roadmap-daan.ipynb
   "execution_count": 74,
   "metadata": {
    "collapsed": false
   },
=======
   "execution_count": 177,
   "metadata": {},
>>>>>>> origin/master:LV-CRF-Roadmap.ipynb
   "outputs": [
    {
     "name": "stdout",
     "output_type": "stream",
     "text": [
<<<<<<< HEAD:LV-CRF-Roadmap-daan.ipynb
      "[X]:0-3:0-2 ||| [X]:2-3:0-1 [X]:0-2:1-2\n",
=======
      "[X]:0-3:0-2 ||| [X]:1-3:0-2 [X]:0-1:2-2\n",
>>>>>>> origin/master:LV-CRF-Roadmap.ipynb
      "[X]:0-3:0-2\n",
      "True\n",
      "((0, 3), (0, 2))\n"
     ]
    }
   ],
   "source": [
    "span = list(target_forest.items())[8]\n",
    "symbol = span[0]\n",
    "rule4 = span[1][0]\n",
    "print(rule4)\n",
    "print(symbol)\n",
    "print(type(symbol.obj()[0])==Span)\n",
    "print(get_bispans(symbol))"
   ]
  },
  {
   "cell_type": "markdown",
   "metadata": {},
   "source": [
    "and define our prototype feature function:"
   ]
  },
  {
   "cell_type": "code",
<<<<<<< HEAD:LV-CRF-Roadmap-daan.ipynb
   "execution_count": 75,
=======
   "execution_count": 178,
>>>>>>> origin/master:LV-CRF-Roadmap.ipynb
   "metadata": {
    "collapsed": true
   },
   "outputs": [],
   "source": [
    "def simple_features(edge: Rule, src_fsa: FSA, eps=Terminal('-EPS-'), \n",
    "                    sparse_del=False, sparse_ins=False, sparse_trans=False,\n",
    "                   ch_en=defaultdict(float), en_ch=defaultdict(float)) -> dict:\n",
    "    \"\"\"\n",
    "    Featurises an edge given\n",
    "        * rule and spans\n",
    "        * src sentence as an FSA\n",
    "        * TODO: target sentence length n\n",
    "        * TODO: extract IBM1 dense features\n",
    "    crucially, note that the target sentence y is not available!    \n",
    "    \"\"\"\n",
    "    fmap = defaultdict(float)\n",
    "    fset = set() # stores the features we've added\n",
    "    if len(edge.rhs) == 2:  # binary rule\n",
    "        fmap['type:binary'] += 1.0\n",
    "        fset.add('type:binary')\n",
    "        # here we could have sparse features of the source string as a function of spans being concatenated\n",
    "        (ls1, ls2), (lt1, lt2) = get_bispans(edge.rhs[0])  # left of RHS\n",
    "        (rs1, rs2), (rt1, rt2) = get_bispans(edge.rhs[1])  # right of RHS        \n",
    "        \n",
    "        # TODO: double check these, assign features, add some more\n",
    "        if ls1 == ls2:  # deletion of source left child\n",
    "            fmap['type:deletion-slc'] += 1.0\n",
    "            fset.add('type:deletion-slc')\n",
    "        if rs1 == rs2:  # deletion of source right child\n",
    "            fmap['type:deletion-src'] += 1.0\n",
    "            fset.add('type:deletion-src')\n",
    "        if ls2 == rs1:  # monotone\n",
    "            fmap['type:monotone'] += 1.0\n",
    "            fset.add('type:monotone')\n",
    "        if ls1 == rs2:  # inverted\n",
    "            fmap['type:inverted'] += 1.0\n",
    "            fset.add('type:inverted')\n",
    "            \n",
    "        \n",
    "        # source span feature of rhs\n",
    "        src_span_lc = ls2 - ls1\n",
    "        src_span_rc = rs2 - rs1\n",
    "        fmap['span:rhs:src-lc:{}'.format(src_span_lc)] += 1.0\n",
    "        fmap['span:rhs:src-rc:{}'.format(src_span_rc)] += 1.0\n",
    "        fset.update({'span:rhs:src-lc:{}'.format(src_span_lc),\n",
    "                     'span:rhs:src-rc:{}'.format(src_span_rc)})\n",
    "        # target span feature of rhs\n",
    "        tgt_span_lc = lt2 - lt1\n",
    "        tgt_span_rc = rt2 - rt1\n",
    "        fmap['span:rhs:tgt-lc:{}'.format(tgt_span_lc)] += 1.0\n",
    "        fmap['span:rhs:tgt-rc:{}'.format(tgt_span_rc)] += 1.0\n",
    "        fset.update({'span:rhs:tgt-lc:{}'.format(tgt_span_lc),\n",
    "                     'span:rhs:tgt-rc:{}'.format(tgt_span_rc)})\n",
    "        \n",
    "    else:  # unary\n",
    "        symbol = edge.rhs[0]\n",
    "        if symbol.is_terminal():  # terminal rule\n",
    "            fmap['type:terminal'] += 1.0\n",
    "            fset.add('type:terminal')\n",
    "            # we could have IBM1 log probs for the traslation pair or ins/del\n",
    "            (s1, s2), (t1, t2) = get_bispans(symbol)\n",
    "            src_word = src_fsa.label(s1, s2)\n",
    "            tgt_word = get_terminal_string(symbol)\n",
    "            if symbol.root() == eps:  # symbol.root() gives us a Terminal free of annotation\n",
    "                fmap['type:deletion'] += 1.0\n",
    "                fset.add('type:deletion')\n",
    "                # dense versions (for initial development phase)\n",
    "#                 fmap['ibm1:del:logprob'] += np.log(en_ch[src_word]['<NULL>'])\n",
    "                \n",
    "                # sparse version\n",
    "                if sparse_del:\n",
    "                    fmap['del:%s' % src_word] += 1.0\n",
    "                    fset.add('del:%s' % src_word)\n",
    "            else:                \n",
    "                if s1 == s2:  # has not consumed any source word, must be an eps rule\n",
    "                    fmap['type:insertion'] += 1.0\n",
    "                    fset.add('type:insertion')\n",
    "                    # dense version\n",
    "#                     fmap['ibm1:ins:logprob'] += np.log(ch_en['<NULL>'][tgt_word])\n",
    "                    \n",
    "                    # sparse version\n",
    "                    if sparse_ins:\n",
    "                        fmap['ins:%s' % tgt_word] += 1.0\n",
    "                        fset.add('ins:%s' % tgt_word)\n",
    "                else:\n",
    "                    fmap['type:translation'] += 1.0\n",
    "                    fset.add('type:translation')\n",
    "                    # dense version\n",
    "#                     fmap['ibm1:x2y:logprob'] += np.log(ch_en[src_word][tgt_word])  # y is english word \n",
    "#                     fmap['ibm1:y2x:logprob'] += np.log(en_ch[tgt_word][src_word])\n",
    "                    \n",
    "                    # sparse version                    \n",
    "                    if sparse_trans:\n",
    "                        fmap['trans:%s/%s' % (src_word, tgt_word)] += 1.0\n",
    "                        fset.add('trans:%s/%s' % (src_word, tgt_word))\n",
    "        \n",
    "            # source span feature of rhs\n",
    "            src_span = s2 - s1\n",
    "            fmap['span:rhs:src:{}'.format(src_span)] += 1.0\n",
    "            fset.add('span:rhs:src:{}'.format(src_span))\n",
    "            # target span feature of rhs\n",
    "            tgt_span = t2 - t1\n",
    "            fmap['span:rhs:tgt:{}'.format(tgt_span)] += 1.0\n",
    "            fset.add('span:rhs:tgt:{}'.format(tgt_span))\n",
    "                \n",
    "        else:  # S -> X\n",
    "            fmap['top'] += 1.0\n",
    "            fset.add('top')\n",
    "\n",
    "        # bispans of lhs of edge for source and target (source and target sentence lengths)\n",
    "        if isinstance(edge.lhs.obj()[0], Span): # exclude the (Nonterminal('D(x)'), 0, 2) rules\n",
    "            (s1, s2), (t1, t2) = get_bispans(edge.lhs)\n",
    "            # source span feature of lhs\n",
    "            src_span = s2 - s1\n",
    "            fmap['span:lhs:src:{}'.format(src_span)] += 1.0\n",
    "            fset.add('span:lhs:src:{}'.format(src_span))\n",
    "            # target span feature of lhs\n",
    "            tgt_span = t2 - t1\n",
    "            fmap['span:lhs:tgt:{}'.format(tgt_span)] += 1.0\n",
    "            fset.add('span:lhs:tgt:{}'.format(tgt_span))\n",
    "\n",
    "    return fmap, fset"
   ]
  },
  {
   "cell_type": "markdown",
   "metadata": {},
   "source": [
    "Now we can simply featurize edges, one at a time."
   ]
  },
  {
   "cell_type": "code",
<<<<<<< HEAD:LV-CRF-Roadmap-daan.ipynb
   "execution_count": 76,
=======
   "execution_count": 179,
>>>>>>> origin/master:LV-CRF-Roadmap.ipynb
   "metadata": {
    "collapsed": true
   },
   "outputs": [],
   "source": [
    "def featurize_edges(forest, src_fsa, \n",
    "                    sparse_del=False, sparse_ins=False, sparse_trans=False,\n",
    "                    eps=Terminal('-EPS-')) -> dict:\n",
    "    edge2fmap = defaultdict(float)\n",
    "    fset_accum = set()\n",
    "    for edge in forest:\n",
    "        edge2fmap[edge], fset = simple_features(edge, src_fsa, eps, sparse_del, sparse_ins, sparse_trans)\n",
    "        fset_accum.update(fset)\n",
    "    return edge2fmap, fset_accum"
   ]
  },
  {
   "cell_type": "code",
<<<<<<< HEAD:LV-CRF-Roadmap-daan.ipynb
   "execution_count": 77,
=======
   "execution_count": 180,
>>>>>>> origin/master:LV-CRF-Roadmap.ipynb
   "metadata": {
    "collapsed": true,
    "scrolled": true
   },
   "outputs": [],
   "source": [
    "edge2fmap, fset = featurize_edges(target_forest, src_fsa,\n",
    "                                        sparse_del=True, sparse_ins=True, sparse_trans=True)\n",
    "\n",
    "# print('\\n'.join(sorted(list(fset))))\n",
    "# # seeing features at work:\n",
    "# for edge in target_forest:\n",
    "#     print(edge)\n",
    "#     for fmap in edge2fmap[edge]:\n",
    "#         print('\\t{}'.format(fmap))"
   ]
  },
  {
   "cell_type": "markdown",
   "metadata": {},
   "source": [
    "Now, recall the definition of the joint distribution\n",
    "\\begin{align}\n",
    "P(y,d|x, n) &= \\frac{\\exp \\left( \\sum_{r_{s,t} \\in d} w^\\top \\phi(r, s, t, x, n) \\right)}{Z_n(x)}\n",
    "\\end{align}\n",
    "for convenience, let's work with log probabilities, \n",
    "\\begin{align}\n",
    "\\log P(y,d|x,n) &= \\log \\exp \\left( \\sum_{r_{s,t} \\in d} w^\\top \\phi(r, s, t, x, n) \\right) - \\log Z_n(x) \\\\\n",
    "  &= \\underbrace{\\sum_{r_{s,t} \\in d} \\underbrace{w^\\top \\phi(r, s, t, x, n)}_{\\text{local log-potential}}}_{\\text{log of unnormalised distribution}} - \\log Z_n(x)\n",
    "\\end{align}\n",
    "Now, in the log-domain, we can compute the logarithm of unnormalised probabilities by summing along the edges in a derivation.\n",
    "\n",
    "This is great news! We can express the log of the unnormalised distribution by decorating edges with local log-potentials, that is, \n",
    "\\begin{align}\n",
    "\\omega(r_{s,t}) = w^\\top \\phi(r, s, t, x, n)\n",
    "\\end{align}\n",
    "where \\\\(\\omega\\\\) takes an edge in the hypergraph and returns its local log-potential (dot product of feature weights and feature vector).\n"
   ]
  },
  {
   "cell_type": "markdown",
   "metadata": {},
   "source": [
    "You are ready to define a weight function now:"
   ]
  },
  {
   "cell_type": "code",
<<<<<<< HEAD:LV-CRF-Roadmap-daan.ipynb
   "execution_count": 78,
=======
   "execution_count": 181,
>>>>>>> origin/master:LV-CRF-Roadmap.ipynb
   "metadata": {
    "collapsed": true
   },
   "outputs": [],
   "source": [
    "def weight_function(edge, fmap, wmap) -> float:\n",
    "    # dot product of fmap and wmap  (working in log-domain)\n",
    "    dot = 0.0\n",
    "    for feature, value in fmap.items():\n",
    "        dot += value * wmap[feature]\n",
    "    return dot"
   ]
  },
  {
   "cell_type": "code",
<<<<<<< HEAD:LV-CRF-Roadmap-daan.ipynb
   "execution_count": 79,
=======
   "execution_count": 182,
>>>>>>> origin/master:LV-CRF-Roadmap.ipynb
   "metadata": {
    "collapsed": true
   },
   "outputs": [],
   "source": [
    "# initial feature map has value 0.01 for each features\n",
    "wmap = defaultdict(float)\n",
    "for feature in fset:\n",
    "    wmap[feature] = 0.01\n",
    "\n",
    "edge_weights = defaultdict(float)\n",
    "\n",
    "# seeing the dot prodcut at work\n",
    "# for edge in target_forest:\n",
    "#     print(edge)\n",
    "#     fmap = edge2fmap[edge]\n",
    "#     dot = weight_function(edge, fmap, wmap)\n",
    "#     edge_weights[edge] = dot\n",
    "#     print('\\t{}'.format(dot))"
   ]
  },
  {
   "cell_type": "markdown",
   "metadata": {},
   "source": [
    "# Tips\n",
    "\n",
    "Working with hypergraphs can be tedious, they can be quite large, a few tips:\n",
    "\n",
    "* do not parse very long sentences: discard training instances where either string is longer than say 10 words in development phase, for the final report you can try to stretch all the way to 30 or so;\n",
    "* parse once: with a fixed lexicon and grammar, the parse forests will never change, thus produce them one at a time and pickle them to disk, so that whenever you need the forest during SGD it will be pre-computed\n",
    "* featurise once: same applies to feature vectors, if you do not change your feature function, feature vectors will remain the same, thus, extract them once and pickle them to disk\n",
    "\n"
   ]
  },
  {
   "cell_type": "markdown",
   "metadata": {},
   "source": [
    "# MLE\n",
    "\n",
    "Now it's time you optimise your likelihood\n",
    "\\begin{align}\n",
    "\\mathcal L(w|x, y) &= \\log P(y|x, n) \\\\\n",
    " &= \\log \\sum_{d \\in \\mathcal D(x, y)} P(y, d|x, n) \\\\\n",
    " &= \\log \\sum_{d \\in \\mathcal D(x, y)} \\frac{\\exp(w^\\top \\Phi(y, d|x, n))}{Z_n(x)} \\\\\n",
    " &= \\log \\frac{\\sum_{d \\in \\mathcal D(x, y)} \\exp(w^\\top \\Phi(y, d|x, n))}{Z_n(x)} \\\\\n",
    " &= \\log \\frac{Z(x, y)}{Z_n(x)} \\\\\n",
    " &= \\log Z(x, y) - \\log Z_n(x)\n",
    "\\end{align}\n",
    "\n",
    "First of all, we need to efficiently compute\n",
    "* \\\\(\\log Z(x,y)\\\\) the sum of all unnormalised probabilities for derivations that explain the translation pair \\\\(x, y\\\\)\n",
    "* and \\\\(\\log Z_n(x)\\\\) the sum of all unnormalised probabilities for derivations that explain the incomplete observation \\\\(x, n\\\\)\n",
    "now note that we have acyclic hypergraphs whose edges represent log-potentials for a model which is log-linear. This means that we can efficiently compute the global log-normalisers with a recursive formula that visits each node in the forest once. This recursion is called the `Inside algorithm`.\n",
    "\n",
    "The *inside weight* of a node corresponds to the sum of the weights of all paths under this node in the forest.\n",
    "\n",
    "\\begin{equation}\n",
    "    I(v) = \n",
    "    \\begin{cases}\n",
    "        1 \\quad \\text{if } v \\text{ is terminal }\\\\\n",
    "        \\bigoplus_{e \\in BS(v)} \\omega(e) \\bigotimes_{u \\in tail(e)} I(u) \\quad \\text{ otherwise}\n",
    "    \\end{cases}\n",
    "\\end{equation}\n",
    "\n",
    "where\n",
    "* \\\\(u\\\\) and \\\\(v\\\\) are nodes (these are annotated symbols in the forest)\n",
    "* \\\\(e\\\\) is an edge (this is an annotated rule in the forest)\n",
    "* \\\\(\\text{tail}(e)\\\\) is a sequence of children nodes (this is the RHS of an annotated rule in the forest)\n",
    "* \\\\(BS(v)\\\\) corresponds to the set of edges that are incoming to v (this is the set of annotated rules for which v is LHS in the forest)\n",
    "* \\\\(\\otimes\\\\) corresponds to product of probabilities or equivalently sum of log-probabilities\n",
    "* \\\\(\\otimes\\\\) corresponds to sum of probabilities or equivalently log-of-sum-of-exponentiated-log-probabilities, i.e. \\\\(\\log (\\exp(a) + \\exp(b))\\\\) where \\\\(a\\\\) and \\\\(b\\\\) are log-probabilities\n",
    "* if \\\\(\\otimes\\\\) and \\\\(\\oplus\\\\) confused you, then you need to learn a little more about [semirings](http://www.aclweb.org/anthology/J/J99/J99-4004.pdf)\n",
    "\n",
    "The inside recursion can be implemented iteratively by visiting the nodes in [top-sorted order](https://en.wikipedia.org/wiki/Topological_sorting).\n",
    "              \n",
    "Check the lecture notes and [slides](https://uva-slpl.github.io/nlp2/resources/slides/crf.pdf) for a pseudo-code of the Inside algorithm.\n",
    "\n",
    "The inside at the root of the forest represents the log-normaliser of the forest.\n",
    "\n",
    "Now you should be ready to implement topsort and the inside algorithm:"
   ]
  },
  {
   "cell_type": "code",
<<<<<<< HEAD:LV-CRF-Roadmap-daan.ipynb
   "execution_count": 80,
   "metadata": {
    "collapsed": false,
    "scrolled": true
=======
   "execution_count": 183,
   "metadata": {
    "collapsed": true
>>>>>>> origin/master:LV-CRF-Roadmap.ipynb
   },
   "outputs": [],
   "source": [
    "def top_sort(forest: CFG) -> list:\n",
    "    \"\"\"Returns ordered list of nodes according to topsort order in an acyclic forest\"\"\"\n",
    "    S = {symbol for symbol in forest.terminals} # (Copy!) only terminals have no dependecies\n",
    "    D = {symbol: {child for rule in forest.get(symbol) for child in rule.rhs}\\\n",
    "                 for symbol in forest.nonterminals|forest.terminals} # forest.nonterminals|forest.terminals = V\n",
    "    L = list()\n",
    "    while S: # while S nonempty\n",
    "        u = S.pop()\n",
    "        L.append(u)\n",
    "        outgoing = [e for e in forest if u in e.rhs] # outgoing = FS(u)\n",
    "        for rule in outgoing:\n",
    "            v = rule.lhs\n",
    "            D[v] = D[v] - {u}\n",
    "            if len(D[v]) == 0:\n",
    "                S = S | {v}\n",
    "    return L\n",
    "\n",
    "def inside_algorithm(forest: CFG, tsort: list, edge_weights: dict) -> dict:\n",
    "    \"\"\"Returns the inside weight of each node\"\"\"\n",
    "    I = dict()\n",
    "    for symbol in tsort: # symbol is v\n",
    "        incoming = forest.get(symbol) # BS(v) - gets all the incoming nodes, i.e. all rules where symbol is lhs\n",
    "        if len(incoming) == 0: \n",
    "            I[symbol] = 1.0 # leaves\n",
    "        else:\n",
    "            w = 0.0\n",
    "            for edge in incoming: # edge is of type Rule\n",
    "                k = np.log(edge_weights[edge])\n",
    "                for child in edge.rhs: # chid in tail(e)\n",
    "                    k += np.log(I[child])\n",
    "                w += np.exp(k)\n",
    "            I[symbol] = w\n",
    "    return I"
   ]
  },
  {
   "cell_type": "markdown",
   "metadata": {},
   "source": [
    "The inside at the root of the forest represents the log-normaliser of the forest: `I[root]= `\\\\(\\log Z_n(x)\\\\)"
   ]
  },
  {
   "cell_type": "code",
<<<<<<< HEAD:LV-CRF-Roadmap-daan.ipynb
   "execution_count": 81,
   "metadata": {
    "collapsed": false
   },
=======
   "execution_count": 184,
   "metadata": {},
>>>>>>> origin/master:LV-CRF-Roadmap.ipynb
   "outputs": [
    {
     "name": "stdout",
     "output_type": "stream",
     "text": [
      "1.43287329992e-10\n"
     ]
    }
   ],
   "source": [
    "tsort = top_sort(target_forest)\n",
    "edge_weights = {edge: weight_function(edge, edge2fmap[edge], wmap) for edge in target_forest}\n",
    "\n",
    "I = inside_algorithm(target_forest, tsort, edge_weights)\n",
    "\n",
    "root = Nonterminal(\"D_n(x)\")\n",
    "print(I[root])"
   ]
  },
  {
   "cell_type": "markdown",
   "metadata": {
    "collapsed": true
   },
   "source": [
    "Now, we will approach the optimisation of the log-likelihood via SGD, that is, \n",
    "we will do so by taking steps towards the steepest ascent at each training instance (or mini-batch).\n",
    "\n",
    "Taking derivatives with respect to \\\\(w\\\\) we get\n",
    "\n",
    "\\begin{align}\n",
    "\\nabla_w \\mathcal L(w|x, y, n) &= \\mathbb E_{P(D|Y=y, X=x, N=n)}[\\Phi(Y, D, X, N)] - \\mathbb E_{P(Y, D|X=x, N=n)}[\\Phi(Y, D, X, N)]\n",
    "\\end{align}\n",
    "\n",
    "where\n",
    "* the first expectation uses the forest \\\\(\\mathcal D(x, y)\\\\)\n",
    "* the second expectation uses the forest \\\\(\\mathcal D_n(x)\\\\)\n",
    "\n",
    "again because our CRF is edge-factored, we can compute this rather efficiently combining inside weights with *outside* weights, for which we need the *outside algorithm*. If you heard of forward-backward, then inside-outside is just a generalisation for hypergraphs (instead of graphs). You can learn more about expectations from forest from [Li and Eisner](http://www.aclweb.org/anthology/D09-1005).\n",
    "\n",
    "Whereas the inside was defined easily on its own, the outside will be defined differently so that\n",
    "\\begin{align}\n",
    "    I(u) \\otimes O(u)\n",
    "\\end{align}\n",
    "is proportional to the marginal probability of node \\\\(u\\\\), where the missing proportionality constant corresponds to the log-normaliser of the distribution (which is precisely the Inside weight of the root of the forest).\n",
    "\n",
    "\\begin{equation}\n",
    "    O(v) = \n",
    "    \\begin{cases}\n",
    "        1 \\quad \\text{if } FS(v) =\\emptyset \\\\\n",
    "        \\bigoplus_{e \\in FS(v)} O(\\text{head}(e)) \\bigotimes_{s \\in tail(e)\\setminus\\{v\\}} I(s) \\quad \\text{ otherwise}\n",
    "    \\end{cases}\n",
    "\\end{equation}\n",
    "\n",
    "where\n",
    "* \\\\(s\\\\) and \\\\(v\\\\) are nodes (these are annotated symbols in the forest)\n",
    "* \\\\(e\\\\) is an edge (this is an annotated rule in the forest)\n",
    "* \\\\(\\text{head}(e)\\\\) is a the edge's head node (this is the annotated LHS of an annotated rule in the forest)\n",
    "* \\\\(FS(v)\\\\) corresponds to the set of edges that are outgoing from v (this is the set of annotated rules for which v appears in the RHS)\n",
    "* \\\\(I(s)\\\\) is the inside weight of node \\\\(s\\\\)\n",
    "* \\\\(\\otimes\\\\) corresponds to product of probabilities or equivalently sum of log-probabilities\n",
    "* \\\\(\\otimes\\\\) corresponds to sum of probabilities or equivalently log-of-sum-of-exponentiated-log-probabilities, i.e. \\\\(\\log (\\exp(a) + \\exp(b))\\\\) where \\\\(a\\\\) and \\\\(b\\\\) are log-probabilities\n",
    "* if \\\\(\\otimes\\\\) and \\\\(\\oplus\\\\) confused you, then you need to learn a little more about [semirings](http://www.aclweb.org/anthology/J/J99/J99-4004.pdf)\n",
    "\n",
    "\n",
    "Again, check the [slides](https://uva-slpl.github.io/nlp2/resources/slides/crf.pdf) for a pseu-code for the outside algorithm.\n",
    "\n",
    "Now you should be ready to implement the *outside algorithm*."
   ]
  },
  {
   "cell_type": "code",
<<<<<<< HEAD:LV-CRF-Roadmap-daan.ipynb
   "execution_count": 82,
=======
   "execution_count": null,
>>>>>>> origin/master:LV-CRF-Roadmap.ipynb
   "metadata": {
    "collapsed": true
   },
   "outputs": [],
   "source": [
    "def outside_algorithm(forest: CFG, tsort: list, edge_weights: dict, inside: dict, root: Symbol) -> dict:\n",
    "    \"\"\"Returns the outside weight of each node\"\"\"\n",
    "    O = dict()\n",
    "    for symbol in tsort:\n",
    "        O[symbol] = 0.0\n",
    "    O[root] = 1.0\n",
    "    for symbol in reversed(tsort):\n",
    "        incoming = forest.get(symbol)\n",
    "        for edge in incoming:\n",
    "            for u in edge.rhs: # u in tail(e)\n",
    "                k = np.log(edge_weights[edge]) + np.log(O[symbol] + 1)\n",
    "                for s in edge.rhs:\n",
    "                    if not u == s:\n",
    "                        k += np.log(inside[s])\n",
    "                O[u] += np.exp(k)\n",
    "    return O"
   ]
  },
  {
   "cell_type": "code",
<<<<<<< HEAD:LV-CRF-Roadmap-daan.ipynb
   "execution_count": 83,
   "metadata": {
    "collapsed": false
   },
=======
   "execution_count": null,
   "metadata": {},
>>>>>>> origin/master:LV-CRF-Roadmap.ipynb
   "outputs": [],
   "source": [
    "O = outside_algorithm(target_forest, tsort, edge_weights, I, root=Nonterminal(\"D_n(x)\"))"
   ]
  },
  {
   "cell_type": "markdown",
   "metadata": {},
   "source": [
    "It's now time to combine inside and outside and efficiently compute the expected feature vector under each distribution.\n",
    "\n",
    "This takes a linear pass over the edges of the forest, and [Li and Eisner](http://www.aclweb.org/anthology/D09-1005) taught us how to do that very efficiently (see figure 4, or our [slides](https://uva-slpl.github.io/nlp2/resources/slides/crf.pdf) for a clean pseudo-code).\n",
    "\n",
    "You should be ready to implement it."
   ]
  },
  {
   "cell_type": "code",
<<<<<<< HEAD:LV-CRF-Roadmap-daan.ipynb
   "execution_count": 84,
=======
   "execution_count": null,
>>>>>>> origin/master:LV-CRF-Roadmap.ipynb
   "metadata": {
    "collapsed": true
   },
   "outputs": [],
   "source": [
    "def expected_feature_vector(forest: CFG, inside: dict, outside: dict, edge_features: dict) -> dict:\n",
    "    \"\"\"Returns an expected feature vector (here a sparse python dictionary)\"\"\"\n",
    "    expected_features = defaultdict(lambda:defaultdict(float))\n",
    "    for rule in forest:\n",
    "        k = outside[rule.lhs]\n",
    "        for symbol in rule.rhs:\n",
    "            k *= inside[symbol]\n",
    "        for feature in edge_features[rule]:\n",
    "            expected_features[rule][feature] = k * edge_features[rule][feature]\n",
    "    return expected_features"
   ]
  },
  {
   "cell_type": "markdown",
   "metadata": {},
   "source": [
    "\n",
    "# SGD\n",
    "\n",
    "Now it's time to take gradient steps,\n",
    "\n",
    "\\begin{align}\n",
    "    w = w + \\delta \\nabla_w \\mathcal L(w|x, y, n)\n",
    "\\end{align}\n",
    "\n",
    "where for a certain observation \\\\(x, n, y\\\\) we compute the expected feature vectors, subtract them, scale by a learning rate and get a parameter update.\n",
    "If we have a mini-batch, we accumulate the gradients.\n",
    "\n",
    "In the beginning of the project you will be working with the simple (mostly dense) feature function, thus this should work reasonably well. At some point you will model sparse features and then you will most likely need a [regulariser](http://www.aclweb.org/anthology/P08-1024).\n",
    "\n",
    "To diagonose convergence we typically track log-likelihood of training data, with online learning or mini-batching is typically too expensive to go over the entire trainin set computing log-likelihood, thus you can do that on each batch individually and track both the batch log-likelihood and a running average.\n",
    "\n",
    "Lastly, you might want to experiment with averaged parameters where in parallel to the parameters \\\\(w\\\\) that you actually use, you can keep a running average of parameters \\\\(w_{\\text{avg}}\\\\), at then end of learning, this running average typically shows better performance at prediction time."
   ]
  },
  {
   "cell_type": "code",
<<<<<<< HEAD:LV-CRF-Roadmap-daan.ipynb
   "execution_count": 85,
=======
   "execution_count": 207,
>>>>>>> origin/master:LV-CRF-Roadmap.ipynb
   "metadata": {
    "collapsed": true
   },
   "outputs": [],
   "source": [
    "def update_w(wmap, expected_features_D_xy, expected_features_Dn_x, delta=0.1):\n",
    "    w_new = defaultdict(float)\n",
    "    delta_w = 0.0 # holds the sum of deltas\n",
    "    for rule in chain(expected_features_D_xy, expected_features_Dn_x):\n",
    "        for feature in chain(expected_features_D_xy[rule], expected_features_Dn_x[rule]):\n",
    "            d_w = delta * (expected_features_D_xy[rule][feature] - \n",
    "                           expected_features_Dn_x[rule][feature])\n",
    "            w_new[feature] = wmap[feature] + d_w\n",
    "            delta_w += d_w\n",
    "    return w_new, delta_w\n",
    "\n",
    "def sgd_func_minibatch(iters, delta, w, minibatch=[], \n",
    "                       sparse=False, log=False, bar=True, \n",
    "                       prob_log=False, check_convergence=False):\n",
    "    \"\"\"\n",
    "    Performs stochastic gradient descent on the weights vector w.\n",
    "    \"\"\"  \n",
    "    ws = []\n",
    "    delta_ws = []\n",
    "    for i in range(iters):\n",
    "        \n",
    "        print('Iteration {}'.format(i+1))\n",
    "\n",
    "        delta_w = 0.0\n",
    "        w_new = defaultdict(float)\n",
    "        \n",
    "        for k, parse in enumerate(minibatch):\n",
    "            \n",
    "            target_forest, ref_forest, src_fsa = parse\n",
    "\n",
    "            if bar: bar = progressbar.ProgressBar(max_value=13)\n",
    "            if bar: bar.update(0)\n",
    "            \n",
    "            ### D_n(x) ###\n",
    "\n",
    "            tgt_edge2fmap, _ = featurize_edges(target_forest, src_fsa,\n",
    "                                               sparse_del=sparse, sparse_ins=sparse, sparse_trans=sparse)\n",
    "\n",
    "            if bar: bar.update(1)\n",
    "\n",
    "            # recompute edge weights\n",
    "            tgt_edge_weights = {edge: np.exp(weight_function(edge, tgt_edge2fmap[edge], w)) \n",
    "                                    for edge in target_forest}\n",
    "\n",
    "            if bar: bar.update(2)\n",
    "\n",
    "            # compute inside and outside\n",
    "            tgt_tsort = top_sort(target_forest)\n",
    "            root_tgt = Nonterminal(\"D_n(x)\")\n",
    "            if bar: bar.update(3)\n",
    "            I_tgt = inside_algorithm(target_forest, tgt_tsort, tgt_edge_weights)\n",
    "            if bar: bar.update(4)\n",
    "            O_tgt = outside_algorithm(target_forest, tgt_tsort, tgt_edge_weights, I_tgt, root_tgt)\n",
    "            if bar: bar.update(5)\n",
    "\n",
    "            # compute expected features\n",
    "            expected_features_Dn_x = expected_feature_vector(target_forest, I_tgt, O_tgt, tgt_edge2fmap)\n",
    "            if bar: bar.update(6)\n",
    "\n",
    "\n",
    "            ### D(x,y) ###\n",
    "\n",
    "            ref_edge2fmap, _ = featurize_edges(ref_forest, src_fsa,\n",
    "                                               sparse_del=sparse, sparse_ins=sparse, sparse_trans=sparse)\n",
    "            if bar: bar.update(7)\n",
    "\n",
    "            # recompute edge weights\n",
    "            ref_edge_weights = {edge: np.exp(weight_function(edge, ref_edge2fmap[edge], w))\n",
    "                                for edge in ref_forest}\n",
    "\n",
    "            if bar: bar.update(8)\n",
    "\n",
    "            # compute inside and outside\n",
    "            tsort = top_sort(ref_forest)\n",
    "            root_ref = Nonterminal(\"D(x,y)\")\n",
    "            if bar: bar.update(9)\n",
    "            I_ref = inside_algorithm(ref_forest, tsort, ref_edge_weights)\n",
    "            if bar: bar.update(10)\n",
    "            O_ref = outside_algorithm(ref_forest, tsort, ref_edge_weights, I_ref, root_ref)\n",
    "            if bar: bar.update(11)\n",
    "\n",
    "            # compute expected features\n",
    "            expected_features_D_xy = expected_feature_vector(ref_forest, I_ref, O_ref, ref_edge2fmap)\n",
    "            if bar: bar.update(12)\n",
    "\n",
    "            # update w\n",
    "            w_step, d_w = update_w(w, expected_features_D_xy, expected_features_Dn_x, delta=delta)\n",
    "            if bar: bar.update(13)\n",
    "                \n",
    "            delta_w += d_w / len(minibatch)\n",
    "            for feature, value in w_step.items():\n",
    "                w_new[feature] += value / len(minibatch)\n",
    "            \n",
    "            if bar: bar.finish()\n",
    "        \n",
    "            if log or i==iters-1:\n",
    "                d = viterbi(target_forest, tgt_tsort, tgt_edge_weights, I_tgt, root_tgt) # use exp!\n",
    "                candidates = write_derrivation(d)\n",
    "                print(\"x = '{}'\".format(src_fsa.sent))\n",
    "                print(\"Best y = '{}'\".format(candidates.pop()))\n",
    "                print('P(y,d|x) = {}\\n'.format(joint_prob(d, tgt_edge_weights, I_tgt, root_tgt, log=prob_log))) # use\n",
    "\n",
    "        w = w_new        \n",
    "        ws.append(w)\n",
    "        delta_ws.append(delta_w)\n",
    "        if check_convergence:\n",
    "            print('delta w = {}\\n'.format(delta_w))\n",
    "    \n",
    "    return ws, delta_ws"
   ]
  },
  {
   "cell_type": "code",
<<<<<<< HEAD:LV-CRF-Roadmap-daan.ipynb
   "execution_count": 86,
=======
   "execution_count": 208,
>>>>>>> origin/master:LV-CRF-Roadmap.ipynb
   "metadata": {
    "collapsed": true
   },
   "outputs": [],
   "source": [
    "def joint_prob(derrivation, estimated_weights, inside, root, log=False):\n",
    "    \"\"\"\n",
    "    Computes the joint probability of a a sentence and its derrivation.\n",
    "    \"\"\"\n",
    "    numerator = np.exp(sum([np.log(estimated_weights[edge]) for edge in derrivation]))\n",
    "    Z = inside[root]\n",
    "    if log: print(numerator, Z)\n",
    "    return numerator / Z"
   ]
  },
  {
   "cell_type": "code",
<<<<<<< HEAD:LV-CRF-Roadmap-daan.ipynb
   "execution_count": 87,
   "metadata": {
    "collapsed": false
   },
=======
   "execution_count": 209,
   "metadata": {},
>>>>>>> origin/master:LV-CRF-Roadmap.ipynb
   "outputs": [],
   "source": [
    "parses = [parse_forests('le chien noir', 'the black dog', lexicon),\n",
    "          parse_forests('le petit chien', 'the small dog', lexicon),\n",
    "          parse_forests('le petit chat', 'the small cat', lexicon),\n",
    "          parse_forests('le petit chien noir', 'the little black dog', lexicon),\n",
    "          parse_forests('le chat rouge', 'the red cat', lexicon),\n",
    "          parse_forests('le chien rouge', 'the red dog', lexicon)]"
   ]
  },
  {
   "cell_type": "code",
<<<<<<< HEAD:LV-CRF-Roadmap-daan.ipynb
   "execution_count": 88,
=======
   "execution_count": 210,
   "metadata": {},
   "outputs": [],
   "source": [
    "ALT_parses = [parse_forests('le chien noir', 'the black dog', make_lexicon_ALT('le chien noir', 'the black dog')),\n",
    "              parse_forests('le petit chien', 'the small dog', make_lexicon_ALT('le petit chien', 'the small dog')),\n",
    "              parse_forests('le petit chat', 'the small cat', make_lexicon_ALT('le petit chat', 'the small cat')),\n",
    "              parse_forests('le petit chien noir', 'the little black dog', make_lexicon_ALT('le petit chien noir', 'the little black dog')),\n",
    "              parse_forests('le chat rouge', 'the red cat', make_lexicon_ALT('le chat rouge', 'the red cat')),\n",
    "              parse_forests('le chien rouge', 'the red dog', make_lexicon_ALT('le chien rouge', 'the red dog'))]"
   ]
  },
  {
   "cell_type": "code",
   "execution_count": 228,
>>>>>>> origin/master:LV-CRF-Roadmap.ipynb
   "metadata": {
    "scrolled": true
   },
<<<<<<< HEAD:LV-CRF-Roadmap-daan.ipynb
   "outputs": [],
=======
   "outputs": [
    {
     "name": "stdout",
     "output_type": "stream",
     "text": [
      "Iteration 1\n"
     ]
    },
    {
     "name": "stderr",
     "output_type": "stream",
     "text": [
      "/usr/local/lib/python3.6/site-packages/ipykernel_launcher.py:15: RuntimeWarning: overflow encountered in exp\n",
      "  from ipykernel import kernelapp as app\n"
     ]
    },
    {
     "name": "stdout",
     "output_type": "stream",
     "text": [
      "x = 'le chien noir'\n",
      "Best y = 'the dog the black'\n",
      "P(y,d|x) = 5.740850468174955e-05\n",
      "\n",
      "Iteration 2\n",
      "x = 'le chien noir'\n",
      "Best y = 'the dog black'\n",
      "P(y,d|x) = 0.046153526560036975\n",
      "\n",
      "Iteration 3\n",
      "x = 'le chien noir'\n",
      "Best y = 'the dog black'\n",
      "P(y,d|x) = 0.04700846635380966\n",
      "\n",
      "Iteration 4\n",
      "x = 'le chien noir'\n",
      "Best y = 'the dog black'\n",
      "P(y,d|x) = 0.047729788182881476\n",
      "\n",
      "Iteration 5\n",
      "x = 'le chien noir'\n",
      "Best y = 'the dog black'\n",
      "P(y,d|x) = 0.04835477822590942\n",
      "\n"
     ]
    }
   ],
>>>>>>> origin/master:LV-CRF-Roadmap.ipynb
   "source": [
    "w_init = defaultdict(float)\n",
    "for feature in fset:\n",
    "    w_init[feature] = 0.01*np.random.uniform()\n",
    "w_test, delta_ws = sgd_func_minibatch(5, 0.0001, w_init, minibatch=[(target_forest, ref_forest, src_fsa)], \n",
    "                                      sparse=True, bar=False, log=True, check_convergence=False)"
   ]
  },
  {
   "cell_type": "code",
<<<<<<< HEAD:LV-CRF-Roadmap-daan.ipynb
   "execution_count": 89,
=======
   "execution_count": 230,
>>>>>>> origin/master:LV-CRF-Roadmap.ipynb
   "metadata": {
    "scrolled": true
   },
   "outputs": [
    {
     "name": "stdout",
     "output_type": "stream",
     "text": [
      "Iteration 1\n",
      "x = 'le chien noir'\n",
<<<<<<< HEAD:LV-CRF-Roadmap-daan.ipynb
      "Best y = 'the dog the dark'\n",
      "P(y,d|x) = 5.6989295419431694e-05\n",
      "\n",
      "Iteration 2\n",
      "x = 'le chien noir'\n",
      "Best y = 'black dog'\n",
      "P(y,d|x) = nan\n",
      "\n",
      "Iteration 3\n"
     ]
    },
    {
     "name": "stderr",
     "output_type": "stream",
     "text": [
      "/Users/daan/anaconda/lib/python3.6/site-packages/ipykernel/__main__.py:8: RuntimeWarning: invalid value encountered in double_scalars\n"
     ]
    },
    {
     "name": "stdout",
     "output_type": "stream",
     "text": [
      "x = 'le chien noir'\n",
      "Best y = 'black dog'\n",
      "P(y,d|x) = nan\n",
      "\n",
      "Iteration 4\n",
      "x = 'le chien noir'\n",
      "Best y = 'black dog'\n",
      "P(y,d|x) = nan\n",
      "\n",
      "Iteration 5\n",
      "x = 'le chien noir'\n",
      "Best y = 'black dog'\n",
      "P(y,d|x) = nan\n",
=======
      "Best y = 'a dog dark'\n",
      "P(y,d|x) = 0.001488119862707001\n",
      "\n",
      "x = 'le petit chien'\n",
      "Best y = 'a little dog'\n",
      "P(y,d|x) = 0.0014881150264381738\n",
      "\n",
      "x = 'le petit chat'\n",
      "Best y = 'a little cat'\n",
      "P(y,d|x) = 0.001488115026438174\n",
      "\n",
      "x = 'le petit chien noir'\n",
      "Best y = 'dark a small dog'\n",
      "P(y,d|x) = 0.00010776038987479664\n",
      "\n",
      "x = 'le chat rouge'\n",
      "Best y = 'a cat red'\n",
      "P(y,d|x) = 0.002976230052876348\n",
      "\n",
      "x = 'le chien rouge'\n",
      "Best y = 'a dog red'\n",
      "P(y,d|x) = 0.0029762300528763477\n",
      "\n",
      "delta w = -76100.35925439956\n",
      "\n",
      "Iteration 2\n",
      "x = 'le chien noir'\n",
      "Best y = 'dog dark'\n",
      "P(y,d|x) = 0.16368844069435298\n",
      "\n",
      "x = 'le petit chien'\n",
      "Best y = 'little dog'\n",
      "P(y,d|x) = 0.16914315697564059\n",
      "\n",
      "x = 'le petit chat'\n",
      "Best y = 'little cat'\n",
      "P(y,d|x) = 0.16914315697565022\n",
      "\n"
     ]
    },
    {
     "name": "stderr",
     "output_type": "stream",
     "text": [
      "/usr/local/lib/python3.6/site-packages/ipykernel_launcher.py:29: RuntimeWarning: divide by zero encountered in log\n"
     ]
    },
    {
     "name": "stdout",
     "output_type": "stream",
     "text": [
      "x = 'le petit chien noir'\n",
      "Best y = 'dark little dog'\n",
      "P(y,d|x) = nan\n",
      "\n"
     ]
    },
    {
     "name": "stderr",
     "output_type": "stream",
     "text": [
      "/usr/local/lib/python3.6/site-packages/ipykernel_launcher.py:8: RuntimeWarning: invalid value encountered in double_scalars\n",
      "  \n"
     ]
    },
    {
     "name": "stdout",
     "output_type": "stream",
     "text": [
      "x = 'le chat rouge'\n",
      "Best y = 'cat red'\n",
      "P(y,d|x) = 0.327376526738511\n",
      "\n",
      "x = 'le chien rouge'\n",
      "Best y = 'dog red'\n",
      "P(y,d|x) = 0.327376526738511\n",
      "\n",
      "delta w = 292.08184391328484\n",
      "\n",
      "Iteration 3\n",
      "x = 'le chien noir'\n",
      "Best y = 'dog dark'\n",
      "P(y,d|x) = 0.16368832249414955\n",
      "\n",
      "x = 'le petit chien'\n",
      "Best y = 'little dog'\n",
      "P(y,d|x) = 0.16641646785045014\n",
      "\n",
      "x = 'le petit chat'\n",
      "Best y = 'little cat'\n",
      "P(y,d|x) = 0.16641646785045017\n",
      "\n",
      "x = 'le petit chien noir'\n",
      "Best y = 'the little dog dark'\n",
      "P(y,d|x) = 0.01596137905652838\n",
      "\n",
      "x = 'le chat rouge'\n",
      "Best y = 'cat red'\n",
      "P(y,d|x) = 0.327376526771561\n",
      "\n",
      "x = 'le chien rouge'\n",
      "Best y = 'dog red'\n",
      "P(y,d|x) = 0.32737652677156087\n",
      "\n",
      "delta w = 292.08184391328484\n",
      "\n",
      "Iteration 4\n",
      "x = 'le chien noir'\n",
      "Best y = 'dog dark'\n",
      "P(y,d|x) = 0.16368828310510497\n",
      "\n",
      "x = 'le petit chien'\n",
      "Best y = 'little dog'\n",
      "P(y,d|x) = 0.16505246038191257\n",
      "\n",
      "x = 'le petit chat'\n",
      "Best y = 'little cat'\n",
      "P(y,d|x) = 0.16505246038190322\n",
      "\n",
      "x = 'le petit chien noir'\n",
      "Best y = 'the little dog dark'\n",
      "P(y,d|x) = 0.01583055020922692\n",
      "\n",
      "x = 'le chat rouge'\n",
      "Best y = 'cat red'\n",
      "P(y,d|x) = 0.3273765268046295\n",
      "\n",
      "x = 'le chien rouge'\n",
      "Best y = 'dog red'\n",
      "P(y,d|x) = 0.32737652680464807\n",
      "\n",
      "delta w = 292.0818439132618\n",
      "\n",
      "Iteration 5\n",
      "x = 'le chien noir'\n",
      "Best y = 'dog dark'\n",
      "P(y,d|x) = 0.1636882699864546\n",
      "\n",
      "x = 'le petit chien'\n",
      "Best y = 'little dog'\n",
      "P(y,d|x) = 0.1643703737533433\n",
      "\n",
      "x = 'le petit chat'\n",
      "Best y = 'little cat'\n",
      "P(y,d|x) = 0.16437037375334332\n",
      "\n",
      "x = 'le petit chien noir'\n",
      "Best y = 'the little dog dark'\n",
      "P(y,d|x) = 0.015765128490533933\n",
      "\n",
      "x = 'le chat rouge'\n",
      "Best y = 'cat red'\n",
      "P(y,d|x) = 0.3273765268377166\n",
      "\n",
      "x = 'le chien rouge'\n",
      "Best y = 'dog red'\n",
      "P(y,d|x) = 0.3273765268377167\n",
      "\n",
      "delta w = 292.04807490446393\n",
>>>>>>> origin/master:LV-CRF-Roadmap.ipynb
      "\n"
     ]
    }
   ],
   "source": [
    "w_init = defaultdict(float)\n",
    "for feature in fset:\n",
    "    w_init[feature] = 0.00001*np.random.uniform()\n",
    "w_test, delta_ws = sgd_func_minibatch(5, 0.1, w_init, minibatch=parses, \n",
    "                                      sparse=True, log=True, bar=False, check_convergence=True)"
   ]
  },
  {
   "cell_type": "code",
<<<<<<< HEAD:LV-CRF-Roadmap-daan.ipynb
   "execution_count": null,
=======
   "execution_count": 239,
>>>>>>> origin/master:LV-CRF-Roadmap.ipynb
   "metadata": {
    "scrolled": false
   },
<<<<<<< HEAD:LV-CRF-Roadmap-daan.ipynb
   "outputs": [],
   "source": [
    "w_init = defaultdict(float)\n",
    "for feature in fset:\n",
    "    w_init[feature] = 0.00001*np.random.uniform()\n",
    "w_test, delta_ws = sgd_func_minibatch(5, 0.00001, w_init, minibatch=parses, \n",
    "                                      sparse=True, log=True, bar=False, check_convergence=True)"
   ]
  },
  {
   "cell_type": "code",
   "execution_count": null,
   "metadata": {
    "collapsed": false,
    "scrolled": false
   },
   "outputs": [],
=======
   "outputs": [
    {
     "name": "stdout",
     "output_type": "stream",
     "text": [
      "Iteration 1\n",
      "x = 'le chien noir'\n",
      "Best y = 'a dog dark'\n",
      "P(y,d|x) = 0.0014881273777795404\n",
      "\n",
      "x = 'le petit chien'\n",
      "Best y = 'a little dog'\n",
      "P(y,d|x) = 0.0014881254183262888\n",
      "\n",
      "x = 'le petit chat'\n",
      "Best y = 'a little cat'\n",
      "P(y,d|x) = 0.0014881254183262884\n",
      "\n",
      "x = 'le petit chien noir'\n",
      "Best y = 'a little dog dark'\n",
      "P(y,d|x) = 0.00010776175884928465\n",
      "\n",
      "x = 'le chat rouge'\n",
      "Best y = 'a cat red'\n",
      "P(y,d|x) = 0.002976250836652577\n",
      "\n",
      "x = 'le chien rouge'\n",
      "Best y = 'a dog red'\n",
      "P(y,d|x) = 0.002976250836652578\n",
      "\n",
      "Iteration 2\n",
      "x = 'le chien noir'\n",
      "Best y = 'dog dark'\n",
      "P(y,d|x) = 0.16369079341456988\n",
      "\n",
      "x = 'le petit chien'\n",
      "Best y = 'little dog'\n",
      "P(y,d|x) = 0.16914564136660823\n",
      "\n",
      "x = 'le petit chat'\n",
      "Best y = 'little cat'\n",
      "P(y,d|x) = 0.16914564136661783\n",
      "\n"
     ]
    },
    {
     "name": "stderr",
     "output_type": "stream",
     "text": [
      "/usr/local/lib/python3.6/site-packages/ipykernel_launcher.py:29: RuntimeWarning: divide by zero encountered in log\n",
      "/usr/local/lib/python3.6/site-packages/ipykernel_launcher.py:14: RuntimeWarning: divide by zero encountered in log\n",
      "  \n",
      "/usr/local/lib/python3.6/site-packages/ipykernel_launcher.py:8: RuntimeWarning: invalid value encountered in double_scalars\n",
      "  \n"
     ]
    },
    {
     "name": "stdout",
     "output_type": "stream",
     "text": [
      "x = 'le petit chien noir'\n",
      "Best y = 'dark little dog'\n",
      "P(y,d|x) = nan\n",
      "\n",
      "x = 'le chat rouge'\n",
      "Best y = 'cat red'\n",
      "P(y,d|x) = 0.32738144313861056\n",
      "\n",
      "x = 'le chien rouge'\n",
      "Best y = 'dog red'\n",
      "P(y,d|x) = 0.3273814431386105\n",
      "\n",
      "Iteration 3\n",
      "x = 'le chien noir'\n",
      "Best y = 'dog dark'\n",
      "P(y,d|x) = 0.16369074553429797\n",
      "\n",
      "x = 'le petit chien'\n",
      "Best y = 'little dog'\n",
      "P(y,d|x) = 0.16641893913412706\n",
      "\n",
      "x = 'le petit chat'\n",
      "Best y = 'little cat'\n",
      "P(y,d|x) = 0.16641893913413647\n",
      "\n",
      "x = 'le petit chien noir'\n",
      "Best y = 'the little dog dark'\n",
      "P(y,d|x) = 0.01596123836254048\n",
      "\n",
      "x = 'le chat rouge'\n",
      "Best y = 'cat red'\n",
      "P(y,d|x) = 0.3273814431717354\n",
      "\n",
      "x = 'le chien rouge'\n",
      "Best y = 'dog red'\n",
      "P(y,d|x) = 0.3273814431717354\n",
      "\n",
      "Iteration 4\n",
      "x = 'le chien noir'\n",
      "Best y = 'dog dark'\n",
      "P(y,d|x) = 0.16369072958523653\n",
      "\n",
      "x = 'le petit chien'\n",
      "Best y = 'little dog'\n",
      "P(y,d|x) = 0.16505492512233402\n",
      "\n",
      "x = 'le petit chat'\n",
      "Best y = 'little cat'\n",
      "P(y,d|x) = 0.16505492512234335\n",
      "\n",
      "x = 'le petit chien noir'\n",
      "Best y = 'the little dog dark'\n",
      "P(y,d|x) = 0.015830414250503334\n",
      "\n",
      "x = 'le chat rouge'\n",
      "Best y = 'cat red'\n",
      "P(y,d|x) = 0.32738144320487894\n",
      "\n",
      "x = 'le chien rouge'\n",
      "Best y = 'dog red'\n",
      "P(y,d|x) = 0.32738144320484164\n",
      "\n",
      "Iteration 5\n",
      "x = 'le chien noir'\n",
      "Best y = 'dog dark'\n",
      "P(y,d|x) = 0.1636907242799526\n",
      "\n",
      "x = 'le petit chien'\n",
      "Best y = 'little dog'\n",
      "P(y,d|x) = 0.16437283522347412\n",
      "\n",
      "x = 'le petit chat'\n",
      "Best y = 'little cat'\n",
      "P(y,d|x) = 0.16437283522347412\n",
      "\n",
      "x = 'le petit chien noir'\n",
      "Best y = 'the little dog dark'\n",
      "P(y,d|x) = 0.015764994509443655\n",
      "\n",
      "x = 'le chat rouge'\n",
      "Best y = 'cat red'\n",
      "P(y,d|x) = 0.32738144323802243\n",
      "\n",
      "x = 'le chien rouge'\n",
      "Best y = 'dog red'\n",
      "P(y,d|x) = 0.3273814432380224\n",
      "\n",
      "Iteration 6\n",
      "x = 'le chien noir'\n",
      "Best y = 'dog dark'\n",
      "P(y,d|x) = 0.16369072252254768\n",
      "\n",
      "x = 'le petit chien'\n",
      "Best y = 'little dog'\n",
      "P(y,d|x) = 0.16403177991843318\n",
      "\n",
      "x = 'le petit chat'\n",
      "Best y = 'little cat'\n",
      "P(y,d|x) = 0.16403177991843318\n",
      "\n",
      "x = 'le petit chien noir'\n",
      "Best y = 'the little dog dark'\n",
      "P(y,d|x) = 0.015732283731923466\n",
      "\n",
      "x = 'le chat rouge'\n",
      "Best y = 'cat red'\n",
      "P(y,d|x) = 0.32738144327116586\n",
      "\n",
      "x = 'le chien rouge'\n",
      "Best y = 'dog red'\n",
      "P(y,d|x) = 0.3273814432711472\n",
      "\n",
      "Iteration 7\n",
      "x = 'le chien noir'\n",
      "Best y = 'dog dark'\n",
      "P(y,d|x) = 0.16369072194780318\n",
      "\n",
      "x = 'le petit chien'\n",
      "Best y = 'little dog'\n",
      "P(y,d|x) = 0.16386125097866294\n",
      "\n",
      "x = 'le petit chat'\n",
      "Best y = 'little cat'\n",
      "P(y,d|x) = 0.16386125097865362\n",
      "\n",
      "x = 'le petit chien noir'\n",
      "Best y = 'the little dog dark'\n",
      "P(y,d|x) = 0.01571592824772786\n",
      "\n",
      "x = 'le chat rouge'\n",
      "Best y = 'cat red'\n",
      "P(y,d|x) = 0.32738144330429075\n",
      "\n",
      "x = 'le chien rouge'\n",
      "Best y = 'dog red'\n",
      "P(y,d|x) = 0.32738144330429075\n",
      "\n",
      "Iteration 8\n",
      "x = 'le chien noir'\n",
      "Best y = 'dog dark'\n",
      "P(y,d|x) = 0.16369072176727265\n",
      "\n",
      "x = 'le petit chien'\n",
      "Best y = 'little dog'\n",
      "P(y,d|x) = 0.16377598635511284\n",
      "\n",
      "x = 'le petit chat'\n",
      "Best y = 'little cat'\n",
      "P(y,d|x) = 0.16377598635512217\n",
      "\n",
      "x = 'le petit chien noir'\n",
      "Best y = 'the little dog dark'\n",
      "P(y,d|x) = 0.015707750499763487\n",
      "\n",
      "x = 'le chat rouge'\n",
      "Best y = 'cat red'\n",
      "P(y,d|x) = 0.32738144333743424\n",
      "\n",
      "x = 'le chien rouge'\n",
      "Best y = 'dog red'\n",
      "P(y,d|x) = 0.3273814433374342\n",
      "\n",
      "Iteration 9\n",
      "x = 'le chien noir'\n",
      "Best y = 'dog dark'\n",
      "P(y,d|x) = 0.16369072171813429\n",
      "\n",
      "x = 'le petit chien'\n",
      "Best y = 'little dog'\n",
      "P(y,d|x) = 0.1637333540313764\n",
      "\n",
      "x = 'le petit chat'\n",
      "Best y = 'little cat'\n",
      "P(y,d|x) = 0.1637333540313764\n",
      "\n",
      "x = 'le petit chien noir'\n",
      "Best y = 'the little dog dark'\n",
      "P(y,d|x) = 0.015703661627165032\n",
      "\n",
      "x = 'le chat rouge'\n",
      "Best y = 'cat red'\n",
      "P(y,d|x) = 0.3273814433705591\n",
      "\n",
      "x = 'le chien rouge'\n",
      "Best y = 'dog red'\n",
      "P(y,d|x) = 0.3273814433705591\n",
      "\n",
      "Iteration 10\n",
      "x = 'le chien noir'\n",
      "Best y = 'dog dark'\n",
      "P(y,d|x) = 0.16369072171280266\n",
      "\n",
      "x = 'le petit chien'\n",
      "Best y = 'little dog'\n",
      "P(y,d|x) = 0.16371203787526153\n",
      "\n",
      "x = 'le petit chat'\n",
      "Best y = 'little cat'\n",
      "P(y,d|x) = 0.16371203787526156\n",
      "\n",
      "x = 'le petit chien noir'\n",
      "Best y = 'the little dog dark'\n",
      "P(y,d|x) = 0.01570161719183903\n",
      "\n",
      "x = 'le chat rouge'\n",
      "Best y = 'cat red'\n",
      "P(y,d|x) = 0.32738144340370257\n",
      "\n",
      "x = 'le chien rouge'\n",
      "Best y = 'dog red'\n",
      "P(y,d|x) = 0.3273814434037026\n",
      "\n"
     ]
    }
   ],
>>>>>>> origin/master:LV-CRF-Roadmap.ipynb
   "source": [
    "w_init = defaultdict(float)\n",
    "for feature in fset:\n",
    "    w_init[feature] = 0.00001*np.random.uniform()\n",
    "w_test, delta_ws = sgd_func_minibatch(10, 0.1, w_init, minibatch=parses, sparse=True, log=True, bar=False)"
   ]
  },
  {
   "cell_type": "code",
<<<<<<< HEAD:LV-CRF-Roadmap-daan.ipynb
   "execution_count": 34,
   "metadata": {
    "collapsed": false
   },
   "outputs": [
    {
     "ename": "NameError",
     "evalue": "name 'w_test' is not defined",
     "output_type": "error",
     "traceback": [
      "\u001b[0;31m---------------------------------------------------------------------------\u001b[0m",
      "\u001b[0;31mNameError\u001b[0m                                 Traceback (most recent call last)",
      "\u001b[0;32m<ipython-input-34-704de8289e11>\u001b[0m in \u001b[0;36m<module>\u001b[0;34m()\u001b[0m\n\u001b[0;32m----> 1\u001b[0;31m \u001b[0;32mfor\u001b[0m \u001b[0mk\u001b[0m\u001b[0;34m,\u001b[0m\u001b[0mv\u001b[0m \u001b[0;32min\u001b[0m \u001b[0mw_test\u001b[0m\u001b[0;34m.\u001b[0m\u001b[0mitems\u001b[0m\u001b[0;34m(\u001b[0m\u001b[0;34m)\u001b[0m\u001b[0;34m:\u001b[0m\u001b[0;34m\u001b[0m\u001b[0m\n\u001b[0m\u001b[1;32m      2\u001b[0m     \u001b[0mprint\u001b[0m\u001b[0;34m(\u001b[0m\u001b[0mk\u001b[0m\u001b[0;34m,\u001b[0m\u001b[0mv\u001b[0m\u001b[0;34m)\u001b[0m\u001b[0;34m\u001b[0m\u001b[0m\n",
      "\u001b[0;31mNameError\u001b[0m: name 'w_test' is not defined"
     ]
    }
   ],
=======
   "execution_count": null,
   "metadata": {},
   "outputs": [],
>>>>>>> origin/master:LV-CRF-Roadmap.ipynb
   "source": [
    "for k,v in w_test.items():\n",
    "    print(k,v)"
   ]
  },
  {
   "cell_type": "code",
<<<<<<< HEAD:LV-CRF-Roadmap-daan.ipynb
   "execution_count": 90,
=======
   "execution_count": null,
>>>>>>> origin/master:LV-CRF-Roadmap.ipynb
   "metadata": {
    "collapsed": true
   },
   "outputs": [],
   "source": [
    "\n",
    "\n",
    "class SGD:\n",
    "    \"\"\"\n",
    "    Class used to run sgd on a corpus.\n",
    "    \"\"\"\n",
    "    def __init__(self, w_init, parse_dict=dict()):\n",
    "        self.w = w_init\n",
    "        self.parse_dict = parse_dict\n",
    "    \n",
    "    \n",
    "    def update_w(self, wmap, expected_features_D_xy, expected_features_Dn_x, delta=0.1):\n",
    "        w_new = defaultdict(float)\n",
    "\n",
    "        for rule in chain(expected_features_D_xy, expected_features_Dn_x):\n",
    "            for feature in chain(expected_features_D_xy[rule], expected_features_Dn_x[rule]):\n",
    "                w_new[feature] = wmap[feature] + delta * (expected_features_D_xy[rule][feature] - \n",
    "                                                          expected_features_Dn_x[rule][feature])\n",
    "                \n",
    "        return w_new\n",
    "\n",
    "    def epoch(self, minibatch, delta, \n",
    "              parses=[], sparse=False):\n",
    "        \"\"\"\n",
    "        Performs stochastic gradient ascent on the weights vector w.\n",
    "        \"\"\"\n",
    "        #### SHOULD BE UPDATED ####\n",
    "#         w = defaultdict(float)\n",
    "#         for i, (src_sent, tgt_sent) in enumerate(minibatch):\n",
    "            \n",
    "#             if not parses:\n",
    "#                 # get all required forests and fsa's\n",
    "#                 target_forest, ref_forest, src_fsa = parse_forests(src_sent, tgt_sent, lexicon)\n",
    "            \n",
    "#             else:\n",
    "#                 target_forest, ref_forest, src_fsa = parses[i]\n",
    "                \n",
    "#             # make sure i is the sentence index! not the minibatch index\n",
    "#             #target_forest, ref_forest, src_fsa = load_parses_separate('../parses/', i) \n",
    "                        \n",
    "#             ### D_n(x) ###\n",
    "\n",
    "#             tgt_edge2fmap, _ = featurize_edges(target_forest, src_fsa,\n",
    "#                                                sparse_del=sparse, sparse_ins=sparse, sparse_trans=sparse)\n",
    "\n",
    "#             # recompute edge weights\n",
    "#             tgt_edge_weights = {edge: weight_function(edge, tgt_edge2fmap[edge], self.w) \n",
    "#                                 for edge in target_forest}\n",
    "\n",
    "#             # compute inside and outside\n",
    "#             tsort = top_sort(target_forest)\n",
    "#             root = Nonterminal(\"D_n(x)\")\n",
    "#             I_tgt = inside_algorithm(target_forest, tsort, tgt_edge_weights)\n",
    "#             O_tgt = outside_algorithm(target_forest, tsort, tgt_edge_weights, I_tgt, root)\n",
    "\n",
    "#             # compute expected features\n",
    "#             expected_features_Dn_x = expected_feature_vector(target_forest, I_tgt, O_tgt, tgt_edge2fmap)\n",
    "\n",
    "            \n",
    "#             ### D(x,y) ###\n",
    "\n",
    "#             ref_edge2fmap, _ = featurize_edges(ref_forest, src_fsa,\n",
    "#                                                sparse_del=sparse, sparse_ins=sparse, sparse_trans=sparse)\n",
    "\n",
    "#             # recompute edge weights\n",
    "#             ref_edge_weights = {edge: weight_function(edge, ref_edge2fmap[edge], self.w) \n",
    "#                                 for edge in ref_forest}\n",
    "\n",
    "\n",
    "#             # compute inside and outside\n",
    "#             tsort = top_sort(ref_forest)\n",
    "#             root = Nonterminal(\"D(x,y)\")\n",
    "#             I_ref = inside_algorithm(ref_forest, tsort, ref_edge_weights)\n",
    "#             O_ref = outside_algorithm(ref_forest, tsort, ref_edge_weights, I_ref, root)\n",
    "\n",
    "#             # compute expected features\n",
    "#             expected_features_D_xy = expected_feature_vector(ref_forest, I_ref, O_ref, ref_edge2fmap)\n",
    "\n",
    "#             # optain new w\n",
    "#             w_new = update_w(w, expected_features_D_xy, expected_features_Dn_x, delta=delta)\n",
    "            \n",
    "#             for feature, value in w_new.items():\n",
    "#                 w[feature] += 1.0 / len(minibatch) * value\n",
    "#         # update w\n",
    "#         self.w = w"
   ]
  },
  {
   "cell_type": "markdown",
   "metadata": {},
   "source": [
    "# Prediction\n",
    "\n",
    "Finally, at prediction time we have a big problem, because\n",
    "\\begin{align}\n",
    "y^\\star =    \\arg,\\max_y P(y|x, n)\n",
    "\\end{align}\n",
    "is intractable as proven by [Sima'an (1996)](http://www.aclweb.org/anthology/C/C96/C96-2215.pdf).\n",
    "Thus we typically approximate that criterion by\n",
    "\\begin{align}\n",
    "y^\\star =  \\text{yield}_\\Delta \\left(  \\arg,\\max_d P(y, d|x, n) \\right)\n",
    "\\end{align}\n",
    "which is often termed *Viterbi decoding*.\n",
    "\n",
    "All this takes is a forest respresenting all translation candidates, i.e. \\\\(\\mathcal D_n(x)\\\\) and a the Viterbi algorithm. Because in this project you need to implement *inside*, there's little point in programming Viterbi, you can simply use Inside for that. Check our [slides](https://uva-slpl.github.io/nlp2/resources/slides/crf.pdf) again.\n",
    "\n",
    "\n"
   ]
  },
  {
   "cell_type": "code",
<<<<<<< HEAD:LV-CRF-Roadmap-daan.ipynb
   "execution_count": 91,
   "metadata": {
    "collapsed": false
   },
=======
   "execution_count": 235,
   "metadata": {},
>>>>>>> origin/master:LV-CRF-Roadmap.ipynb
   "outputs": [],
   "source": [
    "from collections import deque\n",
    "\n",
    "def viterbi(forest: CFG, tsort: list, edge_weights: dict, inside: dict, root: Symbol) -> dict:\n",
    "    \"\"\"Returns the outside weight of each node\"\"\"\n",
    "    Q = deque([root])\n",
    "    V = list()\n",
    "    while Q:\n",
    "        symbol = Q.popleft()\n",
    "        incoming = forest.get(symbol)\n",
    "        weights = [0.0]*len(incoming)\n",
    "        for i, edge in enumerate(incoming):\n",
    "            weights[i] = np.log(edge_weights[edge])\n",
    "            for u in edge.rhs: # u in tail(e)\n",
    "                weights[i] += np.log(inside[u]) # TODO: change to log-sum-exp\n",
    "            weights[i] = np.exp(weights[i])\n",
    "        weight, selected = max(zip(weights, incoming), key=lambda xy: xy[0])\n",
    "        for sym in selected.rhs:\n",
    "            if not sym.is_terminal():\n",
    "                Q.append(sym)\n",
    "        V.append(selected)    \n",
    "    return V"
   ]
  },
  {
   "cell_type": "code",
<<<<<<< HEAD:LV-CRF-Roadmap-daan.ipynb
   "execution_count": 92,
   "metadata": {
    "collapsed": false
   },
=======
   "execution_count": 198,
   "metadata": {},
>>>>>>> origin/master:LV-CRF-Roadmap.ipynb
   "outputs": [
    {
     "ename": "NameError",
     "evalue": "name 'd' is not defined",
     "output_type": "error",
     "traceback": [
      "\u001b[0;31m---------------------------------------------------------------------------\u001b[0m",
      "\u001b[0;31mNameError\u001b[0m                                 Traceback (most recent call last)",
<<<<<<< HEAD:LV-CRF-Roadmap-daan.ipynb
      "\u001b[0;32m<ipython-input-92-19e163ca299b>\u001b[0m in \u001b[0;36m<module>\u001b[0;34m()\u001b[0m\n\u001b[1;32m      3\u001b[0m     \u001b[0mcandidates\u001b[0m \u001b[0;34m=\u001b[0m \u001b[0mlibitg\u001b[0m\u001b[0;34m.\u001b[0m\u001b[0menumerate_paths_in_fsa\u001b[0m\u001b[0;34m(\u001b[0m\u001b[0mderivation_as_fsa\u001b[0m\u001b[0;34m)\u001b[0m\u001b[0;34m\u001b[0m\u001b[0m\n\u001b[1;32m      4\u001b[0m     \u001b[0;32mreturn\u001b[0m \u001b[0mcandidates\u001b[0m\u001b[0;34m\u001b[0m\u001b[0m\n\u001b[0;32m----> 5\u001b[0;31m \u001b[0mcandidates\u001b[0m \u001b[0;34m=\u001b[0m \u001b[0mwrite_derrivation\u001b[0m\u001b[0;34m(\u001b[0m\u001b[0md\u001b[0m\u001b[0;34m)\u001b[0m\u001b[0;34m\u001b[0m\u001b[0m\n\u001b[0m\u001b[1;32m      6\u001b[0m \u001b[0mprint\u001b[0m\u001b[0;34m(\u001b[0m\u001b[0mcandidates\u001b[0m\u001b[0;34m)\u001b[0m\u001b[0;34m\u001b[0m\u001b[0m\n",
=======
      "\u001b[0;32m<ipython-input-198-19e163ca299b>\u001b[0m in \u001b[0;36m<module>\u001b[0;34m()\u001b[0m\n\u001b[1;32m      3\u001b[0m     \u001b[0mcandidates\u001b[0m \u001b[0;34m=\u001b[0m \u001b[0mlibitg\u001b[0m\u001b[0;34m.\u001b[0m\u001b[0menumerate_paths_in_fsa\u001b[0m\u001b[0;34m(\u001b[0m\u001b[0mderivation_as_fsa\u001b[0m\u001b[0;34m)\u001b[0m\u001b[0;34m\u001b[0m\u001b[0m\n\u001b[1;32m      4\u001b[0m     \u001b[0;32mreturn\u001b[0m \u001b[0mcandidates\u001b[0m\u001b[0;34m\u001b[0m\u001b[0m\n\u001b[0;32m----> 5\u001b[0;31m \u001b[0mcandidates\u001b[0m \u001b[0;34m=\u001b[0m \u001b[0mwrite_derrivation\u001b[0m\u001b[0;34m(\u001b[0m\u001b[0md\u001b[0m\u001b[0;34m)\u001b[0m\u001b[0;34m\u001b[0m\u001b[0m\n\u001b[0m\u001b[1;32m      6\u001b[0m \u001b[0mprint\u001b[0m\u001b[0;34m(\u001b[0m\u001b[0mcandidates\u001b[0m\u001b[0;34m)\u001b[0m\u001b[0;34m\u001b[0m\u001b[0m\n",
>>>>>>> origin/master:LV-CRF-Roadmap.ipynb
      "\u001b[0;31mNameError\u001b[0m: name 'd' is not defined"
     ]
    }
   ],
   "source": [
    "def write_derrivation(d):\n",
    "    derivation_as_fsa = libitg.forest_to_fsa(CFG(d), d[0].lhs)\n",
    "    candidates = libitg.enumerate_paths_in_fsa(derivation_as_fsa)\n",
    "    return candidates\n",
    "candidates = write_derrivation(d)\n",
    "print(candidates)"
   ]
  },
  {
   "cell_type": "code",
<<<<<<< HEAD:LV-CRF-Roadmap-daan.ipynb
   "execution_count": 38,
   "metadata": {
    "collapsed": false
   },
   "outputs": [
    {
     "ename": "NameError",
     "evalue": "name 'd' is not defined",
     "output_type": "error",
     "traceback": [
      "\u001b[0;31m---------------------------------------------------------------------------\u001b[0m",
      "\u001b[0;31mNameError\u001b[0m                                 Traceback (most recent call last)",
      "\u001b[0;32m<ipython-input-38-4236a9c4baea>\u001b[0m in \u001b[0;36m<module>\u001b[0;34m()\u001b[0m\n\u001b[1;32m     11\u001b[0m     \u001b[0;32mreturn\u001b[0m \u001b[0mmake_tree\u001b[0m\u001b[0;34m(\u001b[0m\u001b[0mderivation\u001b[0m\u001b[0;34m[\u001b[0m\u001b[0;36m0\u001b[0m\u001b[0;34m]\u001b[0m\u001b[0;34m.\u001b[0m\u001b[0mlhs\u001b[0m\u001b[0;34m)\u001b[0m\u001b[0;34m\u001b[0m\u001b[0m\n\u001b[1;32m     12\u001b[0m \u001b[0;34m\u001b[0m\u001b[0m\n\u001b[0;32m---> 13\u001b[0;31m \u001b[0mt\u001b[0m \u001b[0;34m=\u001b[0m \u001b[0mmake_nltk_tree\u001b[0m\u001b[0;34m(\u001b[0m\u001b[0md\u001b[0m\u001b[0;34m)\u001b[0m\u001b[0;34m\u001b[0m\u001b[0m\n\u001b[0m\u001b[1;32m     14\u001b[0m \u001b[0mt\u001b[0m\u001b[0;34m.\u001b[0m\u001b[0mdraw\u001b[0m\u001b[0;34m(\u001b[0m\u001b[0;34m)\u001b[0m\u001b[0;34m\u001b[0m\u001b[0m\n",
      "\u001b[0;31mNameError\u001b[0m: name 'd' is not defined"
=======
   "execution_count": 199,
   "metadata": {},
   "outputs": [
    {
     "ename": "ModuleNotFoundError",
     "evalue": "No module named 'nltk'",
     "output_type": "error",
     "traceback": [
      "\u001b[0;31m---------------------------------------------------------------------------\u001b[0m",
      "\u001b[0;31mModuleNotFoundError\u001b[0m                       Traceback (most recent call last)",
      "\u001b[0;32m<ipython-input-199-4236a9c4baea>\u001b[0m in \u001b[0;36m<module>\u001b[0;34m()\u001b[0m\n\u001b[0;32m----> 1\u001b[0;31m \u001b[0;32mfrom\u001b[0m \u001b[0mnltk\u001b[0m \u001b[0;32mimport\u001b[0m \u001b[0mTree\u001b[0m\u001b[0;34m\u001b[0m\u001b[0m\n\u001b[0m\u001b[1;32m      2\u001b[0m \u001b[0;32mfrom\u001b[0m \u001b[0mcollections\u001b[0m \u001b[0;32mimport\u001b[0m \u001b[0mdefaultdict\u001b[0m\u001b[0;34m\u001b[0m\u001b[0m\n\u001b[1;32m      3\u001b[0m \u001b[0;34m\u001b[0m\u001b[0m\n\u001b[1;32m      4\u001b[0m \u001b[0;32mdef\u001b[0m \u001b[0mmake_nltk_tree\u001b[0m\u001b[0;34m(\u001b[0m\u001b[0mderivation\u001b[0m\u001b[0;34m)\u001b[0m\u001b[0;34m:\u001b[0m\u001b[0;34m\u001b[0m\u001b[0m\n\u001b[1;32m      5\u001b[0m     \u001b[0;34m\"\"\"return a nlt Tree object based on the derivation (list or tuple of Rules).\"\"\"\u001b[0m\u001b[0;34m\u001b[0m\u001b[0m\n",
      "\u001b[0;31mModuleNotFoundError\u001b[0m: No module named 'nltk'"
>>>>>>> origin/master:LV-CRF-Roadmap.ipynb
     ]
    }
   ],
   "source": [
    "from nltk import Tree\n",
    "from collections import defaultdict\n",
    "\n",
    "def make_nltk_tree(derivation):\n",
    "    \"\"\"return a nlt Tree object based on the derivation (list or tuple of Rules).\"\"\"\n",
    "    d = defaultdict(None, ((r.lhs, r.rhs) for r in derivation))\n",
    "    \n",
    "    def make_tree(lhs):\n",
    "        return Tree(lhs.obj(), (child if child not in d else make_tree(child) for child in d[lhs]))\n",
    "    \n",
    "    return make_tree(derivation[0].lhs)\n",
    "\n",
    "t = make_nltk_tree(d)\n",
    "t.draw()"
   ]
  },
  {
   "cell_type": "markdown",
   "metadata": {},
   "source": [
    "# Pre-processing data"
   ]
  },
  {
   "cell_type": "code",
<<<<<<< HEAD:LV-CRF-Roadmap-daan.ipynb
   "execution_count": 96,
=======
   "execution_count": null,
>>>>>>> origin/master:LV-CRF-Roadmap.ipynb
   "metadata": {
    "collapsed": true
   },
   "outputs": [],
   "source": [
    "from math import nan\n",
    "import string\n",
    "\n",
    "def preprocess_lexicon(path='data/lexicon', k=5, null=5, remove_punct=True):\n",
    "    f = open(path, 'r')\n",
    "    \n",
    "    ch_en_ = defaultdict(lambda: defaultdict(float))\n",
    "    en_ch_ = defaultdict(lambda: defaultdict(float))\n",
    "\n",
    "    for line in f:\n",
    "        ch, en, p_en_given_ch, p_ch_given_en = line.split()\n",
    "        # for use in the parsing we replace <NULL> with -EPS-\n",
    "        if ch == '<NULL>':\n",
    "            ch = '-EPS-' \n",
    "        if en == '<NULL>':\n",
    "            en = '-EPS-' \n",
    "        ch_en_[ch][en] = float(p_en_given_ch) if not p_en_given_ch == 'NA' else nan # perhaps something tiny like 10e-20\n",
    "        en_ch_[en][ch] = float(p_ch_given_en) if not p_ch_given_en == 'NA' else nan # perhaps something tiny like 10e-20\n",
    "    f.close()\n",
    "    \n",
    "    ch_en = defaultdict(lambda: defaultdict(float))\n",
    "    for ch in ch_en_.keys():\n",
    "        en_punct = string.punctuation\n",
    "        srtd = sorted(ch_en_[ch].items(), key=lambda xy: xy[1])\n",
    "        if ch == '-EPS-':\n",
    "            if remove_punct:\n",
    "                # when we do not want to insert punctuation from EPS\n",
    "                srtd = [(en, p) for en, p in srtd if en not in en_punct]\n",
    "            ch_en['-EPS-'] = {en: p for en, p in srtd[-null:]}\n",
    "        else:\n",
    "            ch_en[ch] = {en: p for en, p in srtd[-k:]}\n",
    "\n",
    "\n",
    "    en_ch = defaultdict(lambda: defaultdict(float))\n",
    "    for en in en_ch_.keys():\n",
    "        ch_punct = \"[\\s+\\.\\!\\/_,$%^*(+\\\"\\']+|[+——！，。？? 、~@#￥%……&*（）：；《）《》“”()»〔〕-]+\"\n",
    "        srtd = sorted(en_ch_[en].items(), key=lambda xy: xy[1])\n",
    "        if en == '-EPS-=':\n",
    "            if remove_punct:\n",
    "                # when we do not want to insert punctuation from EPS\n",
    "                srtd = [(ch, p) for ch, p in srtd if ch not in ch_punct]\n",
    "            en_ch['-EPS-'] = {ch: p for ch, p in srtd[-null:]}\n",
    "        else:\n",
    "            en_ch[en] = {ch: p for ch, p in srtd[-k:]}\n",
    "            \n",
    "    full_en_ch = en_ch_\n",
    "    full_ch_en = ch_en_\n",
    "    return ch_en, en_ch, full_en_ch, full_ch_en\n"
   ]
  },
  {
   "cell_type": "code",
<<<<<<< HEAD:LV-CRF-Roadmap-daan.ipynb
   "execution_count": 97,
   "metadata": {
    "collapsed": false
   },
=======
   "execution_count": null,
   "metadata": {},
>>>>>>> origin/master:LV-CRF-Roadmap.ipynb
   "outputs": [],
   "source": [
    "ch_en, en_ch, full_en_ch, full_ch_en = preprocess_lexicon()"
   ]
  },
  {
   "cell_type": "code",
<<<<<<< HEAD:LV-CRF-Roadmap-daan.ipynb
   "execution_count": 98,
=======
   "execution_count": null,
>>>>>>> origin/master:LV-CRF-Roadmap.ipynb
   "metadata": {
    "scrolled": true
   },
   "outputs": [],
   "source": [
    "print(len(ch_en))\n",
    "print(len(en_ch))\n",
    "print(en_ch['spring'])\n",
    "print(ch_en['-EPS-'])\n",
    "print(en_ch['-EPS-'])\n",
    "\n",
    "print(full_en_ch['the']['-EPS-']) # deletion of 'however' (given 'however' produce EPS)\n",
    "print(full_en_ch['-EPS-']['春天']) # insertion of '春天' (given EPS produce '春天')"
   ]
  },
  {
   "cell_type": "code",
   "execution_count": 99,
   "metadata": {
    "collapsed": true
   },
   "outputs": [],
   "source": [
    "def read_data_dev(path='data/dev1.zh-en', max_sents=5):\n",
    "    f = open(path, 'r')\n",
    "    corpus = dict()\n",
    "    for k, line in enumerate(f):\n",
    "        if k + 1 > max_sents:\n",
    "            break\n",
    "        sents = line[:-1].split('|||')\n",
    "        ch = sents[0]\n",
    "        translations = list()\n",
    "        for en in sents[1:]:\n",
    "            translations.append(en)\n",
    "        corpus[ch] = translations\n",
    "    return corpus\n",
    "\n",
    "def read_data(path='data/training.zh-en', max_sents=5):\n",
    "    f = open(path, 'r')\n",
    "    corpus = list()\n",
    "    for k, line in enumerate(f):\n",
    "        if k + 1 > max_sents:\n",
    "            break\n",
    "        ch, en = line[:-1].split('|||') # line[:-1] to remove '\\n' character\n",
    "        corpus.append((ch, en))\n",
    "    return corpus\n",
    "\n",
    "def make_lexicon(ch_sent, ch_en, en_ch):\n",
    "    \"\"\"\n",
    "    Given a chinese sentence produces a lexicon of possible translation as dictionary\n",
    "    Format: chinese character -> {top 5 english translations}\n",
    "    :param ch_sent: a chinese sentence as string (e.g. '在 门厅 下面 。 ')\n",
    "    :param ch_sent: a chinese sentence as string (e.g. 'it 's just down the hall .')\n",
    "    \"\"\"\n",
    "    lexicon = defaultdict(set)\n",
    "    lexicon['-EPS-'].update(ch_en['-EPS-'])\n",
    "    for char in ch_sent.split():\n",
    "        lexicon[char].update(ch_en[char])\n",
    "    return lexicon\n",
    "\n",
    "def make_lexicon_ALT(ch_sent, en_sent):\n",
    "    \"\"\"\n",
    "    Given a chinese sentence produces a lexicon of possible translation as dictionary\n",
    "    Format: chinese character -> {all english words in training sentence}\n",
    "    \"\"\"\n",
    "    lexicon = defaultdict(set)\n",
    "    lexicon['-EPS-'].update(en_sent.split())\n",
    "    for char in ch_sent.split():\n",
    "        lexicon[char].update(en_sent.split())\n",
    "        lexicon[char].add('-EPS-')\n",
    "    return lexicon"
   ]
  },
  {
   "cell_type": "code",
<<<<<<< HEAD:LV-CRF-Roadmap-daan.ipynb
   "execution_count": 100,
=======
   "execution_count": null,
>>>>>>> origin/master:LV-CRF-Roadmap.ipynb
   "metadata": {
    "scrolled": true
   },
<<<<<<< HEAD:LV-CRF-Roadmap-daan.ipynb
   "outputs": [
    {
     "name": "stdout",
     "output_type": "stream",
     "text": [
      "[('在 门厅 下面 。 ', \" it 's just down the hall .\"), ('我 这 就 给 您 拿 一些 。 ', \" i 'll bring you some now .\"), ('如果 您 还 有 什么 需要 , 尽管 告诉 我 。 ', ' if there is anything else you need , just let me know .'), ('不用 担心 那个 。 ', ' no worry about that .'), ('我 要 买 它 , 你 不 需要 把 它 包 起来 。 ', \" i 'll take it and you need not wrap it up .\"), ('你 可以 改改 吗 ? ', ' do you do alterations ?'), ('红 绿 灯 是 红 的 。 ', ' the light was red .'), ('我们 想要 张 靠 窗户 的 桌子 。 ', ' we want to have a table near the window .'), ('在 那边 , 就 在 游客 信息 的 前面 。 ', \" it 's over there , just in front of the tourist information .\"), ('我 打 网球 时 扭伤 的 。 ', ' i twisted it playing tennis .')]\n",
      "defaultdict(<class 'set'>, {'-EPS-': {'to', 'the', 'it', 'i', 'a'}, '一': {'one', '-EPS-', 'of', '.', 'a'}, '跳': {\"'s\", 'it', 'pain', 'throbbing', '-EPS-'}, '的': {'-EPS-', 'the', 'of', '.', 'a'}, '痛': {'i', 'pain', \"'ve\", 'hurts', '-EPS-'}, '。': {',', '-EPS-', 'i', '.', 'a'}})\n"
     ]
    }
   ],
=======
   "outputs": [],
>>>>>>> origin/master:LV-CRF-Roadmap.ipynb
   "source": [
    "corpus = read_data(max_sents=10)\n",
    "print(corpus)\n",
    "ch_sent = '一 跳 一 跳 的 痛 。 '\n",
    "lexicon = make_lexicon(ch_sent, ch_en, en_ch)\n",
    "print(lexicon)"
   ]
  },
  {
   "cell_type": "markdown",
   "metadata": {},
   "source": [
    "# Test SGD with some short sentences\n",
    "\n",
    "Use a very small initialization value, and a very small learning rate! \n",
    "\n",
    "NOTE: This is all very subtle! We need to figure out more..."
   ]
  },
  {
   "cell_type": "code",
<<<<<<< HEAD:LV-CRF-Roadmap-daan.ipynb
   "execution_count": 101,
   "metadata": {
    "collapsed": false
   },
   "outputs": [
    {
     "name": "stdout",
     "output_type": "stream",
     "text": [
      "[('不用 担心 那个 。 ', ' no worry about that .'), ('你 可以 改改 吗 ? ', ' do you do alterations ?'), ('红 绿 灯 是 红 的 。 ', ' the light was red .')]\n"
     ]
    }
   ],
=======
   "execution_count": null,
   "metadata": {},
   "outputs": [],
>>>>>>> origin/master:LV-CRF-Roadmap.ipynb
   "source": [
    "short_corpus = [(ch, en) for ch, en in corpus if len(en.split()) < 6]\n",
    "print(list(short_corpus))\n",
    "\n",
    "ch_en_parses = [parse_forests(ch, en, make_lexicon_ALT(ch, en)) for ch, en in short_corpus]"
   ]
  },
  {
   "cell_type": "code",
<<<<<<< HEAD:LV-CRF-Roadmap-daan.ipynb
   "execution_count": 105,
=======
   "execution_count": null,
>>>>>>> origin/master:LV-CRF-Roadmap.ipynb
   "metadata": {
    "scrolled": true
   },
<<<<<<< HEAD:LV-CRF-Roadmap-daan.ipynb
   "outputs": [
    {
     "name": "stdout",
     "output_type": "stream",
     "text": [
      "Iteration 1\n",
      "x = '不用 担心 那个 。 '\n",
      "Best y = 'no no worry .'\n",
      "P(y,d|x) = 3.9118588298282075e-10\n",
      "\n",
      "delta w = -195.81640817016816\n",
      "\n",
      "Iteration 2\n",
      "x = '不用 担心 那个 。 '\n",
      "Best y = 'no that about .'\n",
      "P(y,d|x) = 2.6342100924525524e-10\n",
      "\n",
      "delta w = -4.330006803047469\n",
      "\n",
      "Iteration 3\n",
      "x = '不用 担心 那个 。 '\n",
      "Best y = 'no that about .'\n",
      "P(y,d|x) = 2.578946548865003e-10\n",
      "\n",
      "delta w = -3.7467562433410033\n",
      "\n",
      "Iteration 4\n",
      "x = '不用 担心 那个 。 '\n",
      "Best y = 'no that about .'\n",
      "P(y,d|x) = 2.530023434952562e-10\n",
      "\n",
      "delta w = -3.299711979268934\n",
      "\n"
     ]
    }
   ],
=======
   "outputs": [],
>>>>>>> origin/master:LV-CRF-Roadmap.ipynb
   "source": [
    "w_init = defaultdict(float)\n",
    "for feature in fset:\n",
    "    w_init[feature] = 0.000001 * np.random.uniform()\n",
    "    \n",
    "w_test, delta_ws = sgd_func_minibatch(4, 5e-10, w_init, minibatch=[ch_en_parses[0]], \n",
    "                            sparse=False, log=True, bar=False, prob_log=False,\n",
    "                            check_convergence=True)"
   ]
  },
  {
   "cell_type": "code",
<<<<<<< HEAD:LV-CRF-Roadmap-daan.ipynb
   "execution_count": 108,
   "metadata": {
    "collapsed": false
   },
   "outputs": [
    {
     "name": "stdout",
     "output_type": "stream",
     "text": [
      "top 2.75748688713e-06\n",
      "span:lhs:src:4 2.24007724778e-06\n",
      "span:lhs:tgt:4 -1.45334096218\n",
      "span:lhs:tgt:5 2.24007724778e-06\n",
      "type:binary 5.93226606465e-07\n",
      "type:monotone 1.77209179917e-07\n",
      "span:rhs:src-lc:1 7.27738348656e-07\n",
      "span:rhs:src-rc:3 8.01817470596e-07\n",
      "span:rhs:tgt-lc:1 3.88829789442e-07\n",
      "span:rhs:tgt-rc:3 2.93447204796e-07\n",
      "type:inverted 4.44329473689e-08\n",
      "span:rhs:tgt-lc:2 6.58427214465e-07\n",
      "span:rhs:src-lc:3 7.68623618813e-07\n",
      "span:rhs:src-rc:1 3.40045198265e-08\n",
      "span:rhs:tgt-lc:3 9.53188153837e-07\n",
      "span:rhs:tgt-rc:1 9.54323405848e-07\n",
      "span:rhs:src-lc:2 3.9241450849e-07\n",
      "span:rhs:src-rc:2 2.36723043269e-07\n",
      "span:rhs:tgt-rc:2 9.48930687498e-07\n",
      "type:deletion-slc 2.32022814855e-07\n",
      "span:rhs:src-lc:0 1.39133935008e-07\n",
      "span:rhs:src-rc:4 8.000275101e-08\n",
      "span:rhs:tgt-rc:4 4.97366093771e-07\n",
      "span:rhs:tgt-lc:4 5.86194491848e-07\n",
      "type:deletion-src 8.50187855619e-07\n",
      "span:rhs:src-lc:4 8.000275101e-08\n",
      "span:rhs:src-rc:0 3.56872108369e-07\n",
      "type:terminal 9.70709870073e-07\n",
      "type:translation 7.50517866257e-07\n",
      "span:rhs:src:1 6.57198120888e-07\n",
      "span:rhs:tgt:1 8.42610558623e-07\n",
      "span:lhs:src:1 1.10559104386e-06\n",
      "span:lhs:tgt:1 4.15902282529e-07\n",
      "type:insertion 9.31165161479e-07\n",
      "span:rhs:src:0 2.2284779597e-07\n",
      "span:lhs:src:0 3.03749114522e-07\n",
      "span:lhs:tgt:3 -0.0241221714193\n",
      "span:lhs:tgt:0 -0.293404966501\n",
      "span:lhs:tgt:2 -0.000337100563715\n",
      "span:rhs:tgt-rc:0 -0.00290571441337\n",
      "span:rhs:tgt-lc:0 -0.000399747150289\n",
      "type:deletion -0.293405397562\n",
      "span:rhs:tgt:0 -0.293405494359\n"
     ]
    }
   ],
=======
   "execution_count": null,
   "metadata": {},
   "outputs": [],
>>>>>>> origin/master:LV-CRF-Roadmap.ipynb
   "source": [
    "for k, v in w_test[-1].items():\n",
    "    print(k, v)"
   ]
  },
  {
   "cell_type": "markdown",
   "metadata": {},
   "source": [
    "Use a tiny rate to start with to dampen the effect of initialization. Learning rate: 5e-10."
   ]
  },
  {
   "cell_type": "code",
<<<<<<< HEAD:LV-CRF-Roadmap-daan.ipynb
   "execution_count": 109,
=======
   "execution_count": null,
>>>>>>> origin/master:LV-CRF-Roadmap.ipynb
   "metadata": {
    "scrolled": false
   },
<<<<<<< HEAD:LV-CRF-Roadmap-daan.ipynb
   "outputs": [
    {
     "name": "stdout",
     "output_type": "stream",
     "text": [
      "Iteration 1\n",
      "x = '不用 担心 那个 。 '\n",
      "Best y = 'no that worry .'\n",
      "P(y,d|x) = 3.911846527076761e-10\n",
      "\n"
     ]
    },
    {
     "ename": "KeyboardInterrupt",
     "evalue": "",
     "output_type": "error",
     "traceback": [
      "\u001b[0;31m---------------------------------------------------------------------------\u001b[0m",
      "\u001b[0;31mKeyboardInterrupt\u001b[0m                         Traceback (most recent call last)",
      "\u001b[0;32m<ipython-input-109-098aabcb85f9>\u001b[0m in \u001b[0;36m<module>\u001b[0;34m()\u001b[0m\n\u001b[1;32m      5\u001b[0m w_test, delta_ws = sgd_func_minibatch(1, 5e-10, w_init, minibatch=ch_en_parses[0:2], \n\u001b[1;32m      6\u001b[0m                                       \u001b[0msparse\u001b[0m\u001b[0;34m=\u001b[0m\u001b[0;32mFalse\u001b[0m\u001b[0;34m,\u001b[0m \u001b[0mlog\u001b[0m\u001b[0;34m=\u001b[0m\u001b[0;32mTrue\u001b[0m\u001b[0;34m,\u001b[0m \u001b[0mbar\u001b[0m\u001b[0;34m=\u001b[0m\u001b[0;32mFalse\u001b[0m\u001b[0;34m,\u001b[0m \u001b[0mprob_log\u001b[0m\u001b[0;34m=\u001b[0m\u001b[0;32mFalse\u001b[0m\u001b[0;34m,\u001b[0m\u001b[0;34m\u001b[0m\u001b[0m\n\u001b[0;32m----> 7\u001b[0;31m                                       check_convergence=True)\n\u001b[0m",
      "\u001b[0;32m<ipython-input-85-022bd219d43a>\u001b[0m in \u001b[0;36msgd_func_minibatch\u001b[0;34m(iters, delta, w, minibatch, sparse, log, bar, prob_log, check_convergence)\u001b[0m\n\u001b[1;32m     85\u001b[0m \u001b[0;34m\u001b[0m\u001b[0m\n\u001b[1;32m     86\u001b[0m             \u001b[0;31m# update w\u001b[0m\u001b[0;34m\u001b[0m\u001b[0;34m\u001b[0m\u001b[0m\n\u001b[0;32m---> 87\u001b[0;31m             \u001b[0mw_step\u001b[0m\u001b[0;34m,\u001b[0m \u001b[0md_w\u001b[0m \u001b[0;34m=\u001b[0m \u001b[0mupdate_w\u001b[0m\u001b[0;34m(\u001b[0m\u001b[0mw\u001b[0m\u001b[0;34m,\u001b[0m \u001b[0mexpected_features_D_xy\u001b[0m\u001b[0;34m,\u001b[0m \u001b[0mexpected_features_Dn_x\u001b[0m\u001b[0;34m,\u001b[0m \u001b[0mdelta\u001b[0m\u001b[0;34m=\u001b[0m\u001b[0mdelta\u001b[0m\u001b[0;34m)\u001b[0m\u001b[0;34m\u001b[0m\u001b[0m\n\u001b[0m\u001b[1;32m     88\u001b[0m             \u001b[0;32mif\u001b[0m \u001b[0mbar\u001b[0m\u001b[0;34m:\u001b[0m \u001b[0mbar\u001b[0m\u001b[0;34m.\u001b[0m\u001b[0mupdate\u001b[0m\u001b[0;34m(\u001b[0m\u001b[0;36m13\u001b[0m\u001b[0;34m)\u001b[0m\u001b[0;34m\u001b[0m\u001b[0m\n\u001b[1;32m     89\u001b[0m \u001b[0;34m\u001b[0m\u001b[0m\n",
      "\u001b[0;32m<ipython-input-85-022bd219d43a>\u001b[0m in \u001b[0;36mupdate_w\u001b[0;34m(wmap, expected_features_D_xy, expected_features_Dn_x, delta)\u001b[0m\n\u001b[1;32m      4\u001b[0m     \u001b[0;32mfor\u001b[0m \u001b[0mrule\u001b[0m \u001b[0;32min\u001b[0m \u001b[0mchain\u001b[0m\u001b[0;34m(\u001b[0m\u001b[0mexpected_features_D_xy\u001b[0m\u001b[0;34m,\u001b[0m \u001b[0mexpected_features_Dn_x\u001b[0m\u001b[0;34m)\u001b[0m\u001b[0;34m:\u001b[0m\u001b[0;34m\u001b[0m\u001b[0m\n\u001b[1;32m      5\u001b[0m         \u001b[0;32mfor\u001b[0m \u001b[0mfeature\u001b[0m \u001b[0;32min\u001b[0m \u001b[0mchain\u001b[0m\u001b[0;34m(\u001b[0m\u001b[0mexpected_features_D_xy\u001b[0m\u001b[0;34m[\u001b[0m\u001b[0mrule\u001b[0m\u001b[0;34m]\u001b[0m\u001b[0;34m,\u001b[0m \u001b[0mexpected_features_Dn_x\u001b[0m\u001b[0;34m[\u001b[0m\u001b[0mrule\u001b[0m\u001b[0;34m]\u001b[0m\u001b[0;34m)\u001b[0m\u001b[0;34m:\u001b[0m\u001b[0;34m\u001b[0m\u001b[0m\n\u001b[0;32m----> 6\u001b[0;31m             d_w = delta * (expected_features_D_xy[rule][feature] - \n\u001b[0m\u001b[1;32m      7\u001b[0m                            expected_features_Dn_x[rule][feature])\n\u001b[1;32m      8\u001b[0m             \u001b[0mw_new\u001b[0m\u001b[0;34m[\u001b[0m\u001b[0mfeature\u001b[0m\u001b[0;34m]\u001b[0m \u001b[0;34m=\u001b[0m \u001b[0mwmap\u001b[0m\u001b[0;34m[\u001b[0m\u001b[0mfeature\u001b[0m\u001b[0;34m]\u001b[0m \u001b[0;34m+\u001b[0m \u001b[0md_w\u001b[0m\u001b[0;34m\u001b[0m\u001b[0m\n",
      "\u001b[0;32m/Users/daan/Documents/Logic/NLP2/part2/Machine-Translation-with-CRFs/libitg.py\u001b[0m in \u001b[0;36m__hash__\u001b[0;34m(self)\u001b[0m\n\u001b[1;32m    202\u001b[0m         \u001b[0;32mreturn\u001b[0m \u001b[0;32mnot\u001b[0m \u001b[0;34m(\u001b[0m\u001b[0mself\u001b[0m \u001b[0;34m==\u001b[0m \u001b[0mother\u001b[0m\u001b[0;34m)\u001b[0m\u001b[0;34m\u001b[0m\u001b[0m\n\u001b[1;32m    203\u001b[0m \u001b[0;34m\u001b[0m\u001b[0m\n\u001b[0;32m--> 204\u001b[0;31m     \u001b[0;32mdef\u001b[0m \u001b[0m__hash__\u001b[0m\u001b[0;34m(\u001b[0m\u001b[0mself\u001b[0m\u001b[0;34m)\u001b[0m\u001b[0;34m:\u001b[0m\u001b[0;34m\u001b[0m\u001b[0m\n\u001b[0m\u001b[1;32m    205\u001b[0m         \u001b[0;32mreturn\u001b[0m \u001b[0mhash\u001b[0m\u001b[0;34m(\u001b[0m\u001b[0;34m(\u001b[0m\u001b[0mself\u001b[0m\u001b[0;34m.\u001b[0m\u001b[0m_lhs\u001b[0m\u001b[0;34m,\u001b[0m \u001b[0mself\u001b[0m\u001b[0;34m.\u001b[0m\u001b[0m_rhs\u001b[0m\u001b[0;34m)\u001b[0m\u001b[0;34m)\u001b[0m\u001b[0;34m\u001b[0m\u001b[0m\n\u001b[1;32m    206\u001b[0m \u001b[0;34m\u001b[0m\u001b[0m\n",
      "\u001b[0;31mKeyboardInterrupt\u001b[0m: "
     ]
    }
   ],
=======
   "outputs": [],
>>>>>>> origin/master:LV-CRF-Roadmap.ipynb
   "source": [
    "w_init = defaultdict(float)\n",
    "for feature in fset:\n",
    "    w_init[feature] = 0.000001 * np.random.uniform()\n",
    "    \n",
    "w_test, delta_ws = sgd_func_minibatch(1, 5e-10, w_init, minibatch=ch_en_parses[0:2], \n",
    "                                      sparse=False, log=True, bar=False, prob_log=False,\n",
    "                                      check_convergence=True)"
   ]
  },
  {
   "cell_type": "markdown",
   "metadata": {},
   "source": [
    "Then use the obtained weights after one iteration for more iterations."
   ]
  },
  {
   "cell_type": "code",
<<<<<<< HEAD:LV-CRF-Roadmap-daan.ipynb
   "execution_count": 45,
   "metadata": {
    "collapsed": false
   },
   "outputs": [
    {
     "ename": "NameError",
     "evalue": "name 'w_test' is not defined",
     "output_type": "error",
     "traceback": [
      "\u001b[0;31m---------------------------------------------------------------------------\u001b[0m",
      "\u001b[0;31mNameError\u001b[0m                                 Traceback (most recent call last)",
      "\u001b[0;32m<ipython-input-45-938298bb27d9>\u001b[0m in \u001b[0;36m<module>\u001b[0;34m()\u001b[0m\n\u001b[0;32m----> 1\u001b[0;31m \u001b[0;32mfor\u001b[0m \u001b[0mk\u001b[0m\u001b[0;34m,\u001b[0m \u001b[0mv\u001b[0m \u001b[0;32min\u001b[0m \u001b[0mw_test\u001b[0m\u001b[0;34m[\u001b[0m\u001b[0;36m0\u001b[0m\u001b[0;34m]\u001b[0m\u001b[0;34m.\u001b[0m\u001b[0mitems\u001b[0m\u001b[0;34m(\u001b[0m\u001b[0;34m)\u001b[0m\u001b[0;34m:\u001b[0m\u001b[0;34m\u001b[0m\u001b[0m\n\u001b[0m\u001b[1;32m      2\u001b[0m     \u001b[0mprint\u001b[0m\u001b[0;34m(\u001b[0m\u001b[0mk\u001b[0m\u001b[0;34m,\u001b[0m \u001b[0mv\u001b[0m\u001b[0;34m)\u001b[0m\u001b[0;34m\u001b[0m\u001b[0m\n",
      "\u001b[0;31mNameError\u001b[0m: name 'w_test' is not defined"
     ]
    }
   ],
=======
   "execution_count": null,
   "metadata": {},
   "outputs": [],
>>>>>>> origin/master:LV-CRF-Roadmap.ipynb
   "source": [
    "for k, v in w_test[-1].items():\n",
    "    print(k, v)"
   ]
  },
  {
   "cell_type": "markdown",
   "metadata": {},
   "source": [
    "But now a larger learning rate, so that subsequent training has some effect:"
   ]
  },
  {
   "cell_type": "code",
<<<<<<< HEAD:LV-CRF-Roadmap-daan.ipynb
   "execution_count": 46,
   "metadata": {
    "collapsed": false
   },
   "outputs": [
    {
     "ename": "NameError",
     "evalue": "name 'w_test' is not defined",
     "output_type": "error",
     "traceback": [
      "\u001b[0;31m---------------------------------------------------------------------------\u001b[0m",
      "\u001b[0;31mNameError\u001b[0m                                 Traceback (most recent call last)",
      "\u001b[0;32m<ipython-input-46-a41e5b864a6b>\u001b[0m in \u001b[0;36m<module>\u001b[0;34m()\u001b[0m\n\u001b[0;32m----> 1\u001b[0;31m w_test, delta_ws = sgd_func_minibatch(3, 1e50, w_test[0], minibatch=ch_en_parses[0:2], \n\u001b[0m\u001b[1;32m      2\u001b[0m                                       \u001b[0msparse\u001b[0m\u001b[0;34m=\u001b[0m\u001b[0;32mFalse\u001b[0m\u001b[0;34m,\u001b[0m \u001b[0mlog\u001b[0m\u001b[0;34m=\u001b[0m\u001b[0;32mTrue\u001b[0m\u001b[0;34m,\u001b[0m \u001b[0mbar\u001b[0m\u001b[0;34m=\u001b[0m\u001b[0;32mFalse\u001b[0m\u001b[0;34m,\u001b[0m \u001b[0mprob_log\u001b[0m\u001b[0;34m=\u001b[0m\u001b[0;32mFalse\u001b[0m\u001b[0;34m,\u001b[0m\u001b[0;34m\u001b[0m\u001b[0m\n\u001b[1;32m      3\u001b[0m                                       check_convergence=True)\n",
      "\u001b[0;31mNameError\u001b[0m: name 'w_test' is not defined"
     ]
    }
   ],
=======
   "execution_count": null,
   "metadata": {},
   "outputs": [],
>>>>>>> origin/master:LV-CRF-Roadmap.ipynb
   "source": [
    "w_test, delta_ws = sgd_func_minibatch(3, 1e50, w_test[0], minibatch=ch_en_parses[0:2], \n",
    "                                      sparse=False, log=True, bar=False, prob_log=False,\n",
    "                                      check_convergence=True)"
   ]
  },
  {
   "cell_type": "markdown",
   "metadata": {},
   "source": [
    "# Saving and loading parses"
   ]
  },
  {
   "cell_type": "code",
<<<<<<< HEAD:LV-CRF-Roadmap-daan.ipynb
   "execution_count": 48,
=======
   "execution_count": null,
>>>>>>> origin/master:LV-CRF-Roadmap.ipynb
   "metadata": {
    "collapsed": true
   },
   "outputs": [],
   "source": [
    "import pickle\n",
    "\n",
    "def parse_forests(src_sent, tgt_sent, lexicon):\n",
    "    \"\"\"\n",
    "    Parses the forests needed for epoch\n",
    "    \"\"\"\n",
    "    src_fsa = libitg.make_fsa(src_sent)\n",
    "    src_cfg = libitg.make_source_side_itg(lexicon)\n",
    "    forest = libitg.earley(src_cfg, src_fsa, \n",
    "                           start_symbol=Nonterminal('S'), \n",
    "                           sprime_symbol=Nonterminal(\"D(x)\"))\n",
    "    \n",
    "    projected_forest = libitg.make_target_side_itg(forest, lexicon)\n",
    "    \n",
    "    tgt_fsa = libitg.make_fsa(tgt_sent)\n",
    "    ref_forest = libitg.earley(projected_forest, tgt_fsa, \n",
    "                               start_symbol=Nonterminal(\"D(x)\"), \n",
    "                               sprime_symbol=Nonterminal('D(x,y)'),\n",
    "                               eps_symbol=Nonterminal('-EPS-'))\n",
    "    \n",
    "    length_fsa = libitg.LengthConstraint(len(src_sent.split()), strict=False)\n",
    "    target_forest = libitg.earley(projected_forest, length_fsa, \n",
    "                                  start_symbol=Nonterminal(\"D(x)\"), \n",
    "                                  sprime_symbol=Nonterminal(\"D_n(x)\"))\n",
    "    \n",
    "    return target_forest, ref_forest, src_fsa\n",
    "\n",
    "\n",
    "def save_parses(corpus, savepath):\n",
    "    \"\"\"\n",
    "    Parses all sentences in corpus and saves a triple of needed ones in (huge) dictionary\n",
    "    indexed by sentence number in corpus as pkl object at savepath.\n",
    "\n",
    "    :corpus: a list of tuples [(chinese sentence, english sentence)] \n",
    "    :saves: parse_dict: sentence number -> (target_forest, ref_forest, scr_fsa)   \n",
    "    \"\"\"\n",
    "    parse_dict = dict() \n",
    "    for i, (ch_sent, en_sent) in enumerate(corpus):\n",
    "        lexicon = make_lexicon_ALT(ch_sent, en_sent)\n",
    "\n",
    "        parses = parse_forests(ch_sent, en_sent, lexicon)\n",
    "        \n",
    "        parse_dict[i] = parses\n",
    "    \n",
    "    f = open(savepath + 'parse_dict.pkl', 'wb')\n",
    "    pickle.dump(parse_dict, f, protocol=4)\n",
    "    f.close()\n",
    "\n",
    "def save_parses_separate(corpus, savepath):\n",
    "    \"\"\"\n",
    "    For each sentence k in corpus we parse and save the triple of needed parses \n",
    "    as pkl object at savepath/parses-k.pkl.\n",
    "\n",
    "    :corpus: a list of tuples [(chinese sentence, english sentence)] \n",
    "    :saves: parses-k = (target_forest, ref_forest, scr_fsa) for each k in 0,..,len(corpus)\n",
    "    \"\"\"\n",
    "    for k, (ch_sent, en_sent) in enumerate(corpus):\n",
    "        lexicon = make_lexicon_ALT(ch_sent, en_sent)\n",
    "\n",
    "        parses = parse_forests(ch_sent, en_sent, lexicon)\n",
    "        \n",
    "        f = open(savepath + 'parses-{}.pkl'.format(k), 'wb')\n",
    "        pickle.dump(parses, f, protocol=4)\n",
    "        f.close()\n",
    "    \n",
    "def load_parses(savepath):\n",
    "    \"\"\"\n",
    "    Loads and returns a parse_dict as saved by load_parses.\n",
    "    \"\"\"\n",
    "    f = open(savepath + 'parse_dict.pkl', 'rb')\n",
    "    parse_dict = pickle.load(f)\n",
    "    f.close()\n",
    "    return parse_dict\n",
    "\n",
    "def load_parses_separate(savepath, k):\n",
    "    \"\"\"\n",
    "    Loads and returns parses as saved by load_parses_separate\n",
    "    \"\"\"\n",
    "    f = open(savepath + 'parses-{k}.pkl', 'rb')\n",
    "    parses = pickle.load(f)\n",
    "    f.close()\n",
    "    return parses"
   ]
  },
  {
   "cell_type": "code",
   "execution_count": null,
   "metadata": {},
   "outputs": [],
   "source": [
    "# save_parses_separate(corpus[:3], '../parses/')\n",
    "\n",
    "parses = load_parses_separate('../parses/', 0)"
   ]
  },
  {
   "cell_type": "code",
   "execution_count": null,
   "metadata": {
    "collapsed": true
   },
   "outputs": [],
   "source": []
  }
 ],
 "metadata": {
  "kernelspec": {
   "display_name": "Python 3",
   "language": "python",
   "name": "python3"
  },
  "language_info": {
   "codemirror_mode": {
    "name": "ipython",
    "version": 3
   },
   "file_extension": ".py",
   "mimetype": "text/x-python",
   "name": "python",
   "nbconvert_exporter": "python",
   "pygments_lexer": "ipython3",
   "version": "3.6.1"
  }
 },
 "nbformat": 4,
 "nbformat_minor": 2
}
